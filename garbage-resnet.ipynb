{
 "cells": [
  {
   "cell_type": "markdown",
   "id": "dc46b182",
   "metadata": {
    "papermill": {
     "duration": 0.004962,
     "end_time": "2025-03-27T15:36:15.481698",
     "exception": false,
     "start_time": "2025-03-27T15:36:15.476736",
     "status": "completed"
    },
    "tags": []
   },
   "source": [
    "# Model RESNET18"
   ]
  },
  {
   "cell_type": "code",
   "execution_count": 1,
   "id": "00dd5d99",
   "metadata": {
    "execution": {
     "iopub.execute_input": "2025-03-27T15:36:15.492329Z",
     "iopub.status.busy": "2025-03-27T15:36:15.491995Z",
     "iopub.status.idle": "2025-03-27T15:36:19.031016Z",
     "shell.execute_reply": "2025-03-27T15:36:19.030078Z"
    },
    "papermill": {
     "duration": 3.546289,
     "end_time": "2025-03-27T15:36:19.032824",
     "exception": false,
     "start_time": "2025-03-27T15:36:15.486535",
     "status": "completed"
    },
    "tags": []
   },
   "outputs": [],
   "source": [
    "import torch.nn as nn\n",
    "\n",
    "class ResNet18(nn.Module):\n",
    "    def __init__(self, num_classes):\n",
    "        super(ResNet18, self).__init__()\n",
    "\n",
    "        self.dropout_percentage = 0.5\n",
    "        self.relu = nn.ReLU()\n",
    "\n",
    "        # BLOCK-1 (starting block) input=(224x224) output=(112x112)\n",
    "        self.conv1 = nn.Conv2d(in_channels=3, out_channels=64, kernel_size=(7, 7), stride=(2, 2), padding=(3, 3))\n",
    "        self.batchnorm1 = nn.BatchNorm2d(64)\n",
    "        self.maxpool1 = nn.MaxPool2d(kernel_size=(3, 3), stride=(2, 2), padding=(1, 1))\n",
    "\n",
    "        # BLOCK-2 (1) input=(112x112) output = (56x56)\n",
    "        self.conv2_1_1 = nn.Conv2d(in_channels=64, out_channels=64, kernel_size=(3, 3), stride=(1, 1), padding=(1, 1))\n",
    "        self.batchnorm2_1_1 = nn.BatchNorm2d(64)\n",
    "        self.conv2_1_2 = nn.Conv2d(in_channels=64, out_channels=64, kernel_size=(3, 3), stride=(1, 1), padding=(1, 1))\n",
    "        self.batchnorm2_1_2 = nn.BatchNorm2d(64)\n",
    "        self.dropout2_1 = nn.Dropout(p=self.dropout_percentage)\n",
    "\n",
    "        # BLOCK-2 (2)\n",
    "        self.conv2_2_1 = nn.Conv2d(in_channels=64, out_channels=64, kernel_size=(3, 3), stride=(1, 1), padding=(1, 1))\n",
    "        self.batchnorm2_2_1 = nn.BatchNorm2d(64)\n",
    "        self.conv2_2_2 = nn.Conv2d(in_channels=64, out_channels=64, kernel_size=(3, 3), stride=(1, 1), padding=(1, 1))\n",
    "        self.batchnorm2_2_2 = nn.BatchNorm2d(64)\n",
    "        self.dropout2_2 = nn.Dropout(p=self.dropout_percentage)\n",
    "\n",
    "        # BLOCK-3 (1) input=(56x56) output = (28x28)\n",
    "        self.conv3_1_1 = nn.Conv2d(in_channels=64, out_channels=128, kernel_size=(3, 3), stride=(2, 2), padding=(1, 1))\n",
    "        self.batchnorm3_1_1 = nn.BatchNorm2d(128)\n",
    "        self.conv3_1_2 = nn.Conv2d(in_channels=128, out_channels=128, kernel_size=(3, 3), stride=(1, 1), padding=(1, 1))\n",
    "        self.batchnorm3_1_2 = nn.BatchNorm2d(128)\n",
    "        self.concat_adjust_3 = nn.Conv2d(in_channels=64, out_channels=128, kernel_size=(1, 1), stride=(2, 2),\n",
    "                                         padding=(0, 0))\n",
    "        self.dropout3_1 = nn.Dropout(p=self.dropout_percentage)\n",
    "        # BLOCK-3 (2)\n",
    "        self.conv3_2_1 = nn.Conv2d(in_channels=128, out_channels=128, kernel_size=(3, 3), stride=(1, 1), padding=(1, 1))\n",
    "        self.batchnorm3_2_1 = nn.BatchNorm2d(128)\n",
    "        self.conv3_2_2 = nn.Conv2d(in_channels=128, out_channels=128, kernel_size=(3, 3), stride=(1, 1), padding=(1, 1))\n",
    "        self.batchnorm3_2_2 = nn.BatchNorm2d(128)\n",
    "        self.dropout3_2 = nn.Dropout(p=self.dropout_percentage)\n",
    "\n",
    "        # BLOCK-4 (1) input=(28x28) output = (14x14)\n",
    "        self.conv4_1_1 = nn.Conv2d(in_channels=128, out_channels=256, kernel_size=(3, 3), stride=(2, 2), padding=(1, 1))\n",
    "        self.batchnorm4_1_1 = nn.BatchNorm2d(256)\n",
    "        self.conv4_1_2 = nn.Conv2d(in_channels=256, out_channels=256, kernel_size=(3, 3), stride=(1, 1), padding=(1, 1))\n",
    "        self.batchnorm4_1_2 = nn.BatchNorm2d(256)\n",
    "        self.concat_adjust_4 = nn.Conv2d(in_channels=128, out_channels=256, kernel_size=(1, 1), stride=(2, 2),\n",
    "                                         padding=(0, 0))\n",
    "        self.dropout4_1 = nn.Dropout(p=self.dropout_percentage)\n",
    "        # BLOCK-4 (2)\n",
    "        self.conv4_2_1 = nn.Conv2d(in_channels=256, out_channels=256, kernel_size=(3, 3), stride=(1, 1), padding=(1, 1))\n",
    "        self.batchnorm4_2_1 = nn.BatchNorm2d(256)\n",
    "        self.conv4_2_2 = nn.Conv2d(in_channels=256, out_channels=256, kernel_size=(3, 3), stride=(1, 1), padding=(1, 1))\n",
    "        self.batchnorm4_2_2 = nn.BatchNorm2d(256)\n",
    "        self.dropout4_2 = nn.Dropout(p=self.dropout_percentage)\n",
    "\n",
    "        # BLOCK-5 (1) input=(14x14) output = (7x7)\n",
    "        self.conv5_1_1 = nn.Conv2d(in_channels=256, out_channels=512, kernel_size=(3, 3), stride=(2, 2), padding=(1, 1))\n",
    "        self.batchnorm5_1_1 = nn.BatchNorm2d(512)\n",
    "        self.conv5_1_2 = nn.Conv2d(in_channels=512, out_channels=512, kernel_size=(3, 3), stride=(1, 1), padding=(1, 1))\n",
    "        self.batchnorm5_1_2 = nn.BatchNorm2d(512)\n",
    "        self.concat_adjust_5 = nn.Conv2d(in_channels=256, out_channels=512, kernel_size=(1, 1), stride=(2, 2),\n",
    "                                         padding=(0, 0))\n",
    "        self.dropout5_1 = nn.Dropout(p=self.dropout_percentage)\n",
    "        # BLOCK-5 (2)\n",
    "        self.conv5_2_1 = nn.Conv2d(in_channels=512, out_channels=512, kernel_size=(3, 3), stride=(1, 1), padding=(1, 1))\n",
    "        self.batchnorm5_2_1 = nn.BatchNorm2d(512)\n",
    "        self.conv5_2_2 = nn.Conv2d(in_channels=512, out_channels=512, kernel_size=(3, 3), stride=(1, 1), padding=(1, 1))\n",
    "        self.batchnorm5_2_2 = nn.BatchNorm2d(512)\n",
    "        self.dropout5_2 = nn.Dropout(p=self.dropout_percentage)\n",
    "\n",
    "        # Final Block input=(7x7)\n",
    "        self.avgpool = nn.AvgPool2d(kernel_size=(7, 7), stride=(1, 1))\n",
    "        self.fc = nn.Linear(in_features=1 * 1 * 512, out_features=1000)\n",
    "        self.out = nn.Linear(in_features=1000, out_features=num_classes)\n",
    "        # END\n",
    "\n",
    "    def forward(self, x):\n",
    "        # block 1 --> Starting block\n",
    "        x = self.relu(self.batchnorm1(self.conv1(x)))\n",
    "        op1 = self.maxpool1(x)\n",
    "\n",
    "        # block2 - 1\n",
    "        x = self.relu(self.batchnorm2_1_1(self.conv2_1_1(op1)))  # conv2_1\n",
    "        x = self.batchnorm2_1_2(self.conv2_1_2(x))  # conv2_1\n",
    "        x = self.dropout2_1(x)\n",
    "        # block2 - Adjust - No adjust in this layer as dimensions are already same\n",
    "        # block2 - Concatenate 1\n",
    "        op2_1 = self.relu(x + op1)\n",
    "        # block2 - 2\n",
    "        x = self.relu(self.batchnorm2_2_1(self.conv2_2_1(op2_1)))  # conv2_2\n",
    "        x = self.batchnorm2_2_2(self.conv2_2_2(x))  # conv2_2\n",
    "        x = self.dropout2_2(x)\n",
    "        # op - block2\n",
    "        op2 = self.relu(x + op2_1)\n",
    "\n",
    "        # block3 - 1[Convolution block]\n",
    "        x = self.relu(self.batchnorm3_1_1(self.conv3_1_1(op2)))  # conv3_1\n",
    "        x = self.batchnorm3_1_2(self.conv3_1_2(x))  # conv3_1\n",
    "        x = self.dropout3_1(x)\n",
    "        # block3 - Adjust\n",
    "        op2 = self.concat_adjust_3(op2)  # SKIP CONNECTION\n",
    "        # block3 - Concatenate 1\n",
    "        op3_1 = self.relu(x + op2)\n",
    "        # block3 - 2[Identity Block]\n",
    "        x = self.relu(self.batchnorm3_2_1(self.conv3_2_1(op3_1)))  # conv3_2\n",
    "        x = self.batchnorm3_2_2(self.conv3_2_2(x))  # conv3_2\n",
    "        x = self.dropout3_2(x)\n",
    "        # op - block3\n",
    "        op3 = self.relu(x + op3_1)\n",
    "\n",
    "        # block4 - 1[Convolition block]\n",
    "        x = self.relu(self.batchnorm4_1_1(self.conv4_1_1(op3)))  # conv4_1\n",
    "        x = self.batchnorm4_1_2(self.conv4_1_2(x))  # conv4_1\n",
    "        x = self.dropout4_1(x)\n",
    "        # block4 - Adjust\n",
    "        op3 = self.concat_adjust_4(op3)  # SKIP CONNECTION\n",
    "        # block4 - Concatenate 1\n",
    "        op4_1 = self.relu(x + op3)\n",
    "        # block4 - 2[Identity Block]\n",
    "        x = self.relu(self.batchnorm4_2_1(self.conv4_2_1(op4_1)))  # conv4_2\n",
    "        x = self.batchnorm4_2_2(self.conv4_2_2(x))  # conv4_2\n",
    "        x = self.dropout4_2(x)\n",
    "        # op - block4\n",
    "        op4 = self.relu(x + op4_1)\n",
    "\n",
    "        # block5 - 1[Convolution Block]\n",
    "        x = self.relu(self.batchnorm5_1_1(self.conv5_1_1(op4)))  # conv5_1\n",
    "        x = self.batchnorm5_1_2(self.conv5_1_2(x))  # conv5_1\n",
    "        x = self.dropout5_1(x)\n",
    "        # block5 - Adjust\n",
    "        op4 = self.concat_adjust_5(op4)  # SKIP CONNECTION\n",
    "        # block5 - Concatenate 1\n",
    "        op5_1 = self.relu(x + op4)\n",
    "        # block5 - 2[Identity Block]\n",
    "        x = self.relu(self.batchnorm5_2_1(self.conv5_2_1(op5_1)))  # conv5_2\n",
    "        x = self.batchnorm5_2_2(self.conv5_2_2(x))  # conv5_2\n",
    "        x = self.dropout5_2(x)\n",
    "        # op - block5\n",
    "        op5 = self.relu(x + op5_1)\n",
    "\n",
    "        # FINAL BLOCK - classifier\n",
    "        x = self.avgpool(op5)\n",
    "        x = x.reshape(x.shape[0], -1)\n",
    "        x = self.relu(self.fc(x))\n",
    "        x = self.out(x)\n",
    "\n",
    "        return x"
   ]
  },
  {
   "cell_type": "markdown",
   "id": "6425fa63",
   "metadata": {
    "papermill": {
     "duration": 0.003757,
     "end_time": "2025-03-27T15:36:19.040967",
     "exception": false,
     "start_time": "2025-03-27T15:36:19.037210",
     "status": "completed"
    },
    "tags": []
   },
   "source": [
    "# Resnet18 trainning"
   ]
  },
  {
   "cell_type": "code",
   "execution_count": 2,
   "id": "fefa0905",
   "metadata": {
    "_kg_hide-output": true,
    "execution": {
     "iopub.execute_input": "2025-03-27T15:36:19.050605Z",
     "iopub.status.busy": "2025-03-27T15:36:19.050187Z",
     "iopub.status.idle": "2025-03-27T23:48:15.469973Z",
     "shell.execute_reply": "2025-03-27T23:48:15.469018Z"
    },
    "papermill": {
     "duration": 29516.42689,
     "end_time": "2025-03-27T23:48:15.471944",
     "exception": false,
     "start_time": "2025-03-27T15:36:19.045054",
     "status": "completed"
    },
    "tags": []
   },
   "outputs": [
    {
     "name": "stderr",
     "output_type": "stream",
     "text": [
      "Training:  30%|█████████▍                     | 281/925 [01:52<03:30,  3.06it/s]/usr/local/lib/python3.10/dist-packages/PIL/Image.py:1054: UserWarning: Palette images with Transparency expressed in bytes should be converted to RGBA images\n",
      "  warnings.warn(\n",
      "Training: 100%|███████████████████████████████| 925/925 [05:57<00:00,  2.59it/s]\n",
      "Valid: 100%|██████████████████████████████████| 132/132 [00:40<00:00,  3.29it/s]\n"
     ]
    },
    {
     "name": "stdout",
     "output_type": "stream",
     "text": [
      "Epoch 0: Train loss = 1.6215130153862205, Train accuracy: 0.3783960694799552\n",
      "Epoch 0: Validation loss = 1.6855373256134265, Validation accuracy: 0.37757915698669176\n",
      "Validation accuracy increased (0 --> 0.37757915698669176). Model saved\n"
     ]
    },
    {
     "name": "stderr",
     "output_type": "stream",
     "text": [
      "Training: 100%|███████████████████████████████| 925/925 [04:18<00:00,  3.58it/s]\n",
      "Valid: 100%|██████████████████████████████████| 132/132 [00:27<00:00,  4.83it/s]\n"
     ]
    },
    {
     "name": "stdout",
     "output_type": "stream",
     "text": [
      "Epoch 1: Train loss = 1.2995649558144646, Train accuracy: 0.5084027883974281\n",
      "Epoch 1: Validation loss = 1.3006518803762668, Validation accuracy: 0.5188744072661255\n",
      "Validation accuracy increased (0.37757915698669176 --> 0.5188744072661255). Model saved\n"
     ]
    },
    {
     "name": "stderr",
     "output_type": "stream",
     "text": [
      "Training: 100%|███████████████████████████████| 925/925 [04:17<00:00,  3.59it/s]\n",
      "Valid: 100%|██████████████████████████████████| 132/132 [00:26<00:00,  5.01it/s]\n"
     ]
    },
    {
     "name": "stdout",
     "output_type": "stream",
     "text": [
      "Epoch 2: Train loss = 1.1098998353932354, Train accuracy: 0.5776938398142119\n",
      "Epoch 2: Validation loss = 0.9856958005464438, Validation accuracy: 0.6292695362459529\n",
      "Validation accuracy increased (0.5188744072661255 --> 0.6292695362459529). Model saved\n"
     ]
    },
    {
     "name": "stderr",
     "output_type": "stream",
     "text": [
      "Training: 100%|███████████████████████████████| 925/925 [04:22<00:00,  3.53it/s]\n",
      "Valid: 100%|██████████████████████████████████| 132/132 [00:27<00:00,  4.82it/s]\n"
     ]
    },
    {
     "name": "stdout",
     "output_type": "stream",
     "text": [
      "Epoch 3: Train loss = 0.961290003834544, Train accuracy: 0.6324046107562813\n",
      "Epoch 3: Validation loss = 0.9689187734867587, Validation accuracy: 0.6320992015076407\n",
      "Validation accuracy increased (0.6292695362459529 --> 0.6320992015076407). Model saved\n"
     ]
    },
    {
     "name": "stderr",
     "output_type": "stream",
     "text": [
      "Training: 100%|███████████████████████████████| 925/925 [04:19<00:00,  3.56it/s]\n",
      "Valid: 100%|██████████████████████████████████| 132/132 [00:27<00:00,  4.77it/s]\n"
     ]
    },
    {
     "name": "stdout",
     "output_type": "stream",
     "text": [
      "Epoch 4: Train loss = 0.8493029633406046, Train accuracy: 0.6707828794621132\n",
      "Epoch 4: Validation loss = 0.8781984568093762, Validation accuracy: 0.67406304045157\n",
      "Validation accuracy increased (0.6320992015076407 --> 0.67406304045157). Model saved\n"
     ]
    },
    {
     "name": "stderr",
     "output_type": "stream",
     "text": [
      "Training: 100%|███████████████████████████████| 925/925 [04:19<00:00,  3.56it/s]\n",
      "Valid: 100%|██████████████████████████████████| 132/132 [00:27<00:00,  4.84it/s]\n"
     ]
    },
    {
     "name": "stdout",
     "output_type": "stream",
     "text": [
      "Epoch 5: Train loss = 0.7576739709119539, Train accuracy: 0.705995244915421\n",
      "Epoch 5: Validation loss = 0.9197970565521356, Validation accuracy: 0.641799667793693\n"
     ]
    },
    {
     "name": "stderr",
     "output_type": "stream",
     "text": [
      "Training: 100%|███████████████████████████████| 925/925 [04:19<00:00,  3.57it/s]\n",
      "Valid: 100%|██████████████████████████████████| 132/132 [00:26<00:00,  5.01it/s]\n"
     ]
    },
    {
     "name": "stdout",
     "output_type": "stream",
     "text": [
      "Epoch 6: Train loss = 0.6749901023426571, Train accuracy: 0.7352338091102806\n",
      "Epoch 6: Validation loss = 1.0182182233441959, Validation accuracy: 0.620276061197122\n"
     ]
    },
    {
     "name": "stderr",
     "output_type": "stream",
     "text": [
      "Training: 100%|███████████████████████████████| 925/925 [04:19<00:00,  3.57it/s]\n",
      "Valid: 100%|██████████████████████████████████| 132/132 [00:26<00:00,  4.93it/s]\n"
     ]
    },
    {
     "name": "stdout",
     "output_type": "stream",
     "text": [
      "Epoch 7: Train loss = 0.6161536527324367, Train accuracy: 0.7559943677605809\n",
      "Epoch 7: Validation loss = 0.8288500254804437, Validation accuracy: 0.668888055239663\n"
     ]
    },
    {
     "name": "stderr",
     "output_type": "stream",
     "text": [
      "Training: 100%|███████████████████████████████| 925/925 [04:18<00:00,  3.57it/s]\n",
      "Valid: 100%|██████████████████████████████████| 132/132 [00:27<00:00,  4.80it/s]\n"
     ]
    },
    {
     "name": "stdout",
     "output_type": "stream",
     "text": [
      "Epoch 8: Train loss = 0.557549477815628, Train accuracy: 0.7773815293569822\n",
      "Epoch 8: Validation loss = 0.7226451560854912, Validation accuracy: 0.722347501326691\n",
      "Validation accuracy increased (0.67406304045157 --> 0.722347501326691). Model saved\n"
     ]
    },
    {
     "name": "stderr",
     "output_type": "stream",
     "text": [
      "Training: 100%|███████████████████████████████| 925/925 [04:20<00:00,  3.55it/s]\n",
      "Valid: 100%|██████████████████████████████████| 132/132 [00:28<00:00,  4.59it/s]\n"
     ]
    },
    {
     "name": "stdout",
     "output_type": "stream",
     "text": [
      "Epoch 9: Train loss = 0.5085953142916834, Train accuracy: 0.7973221340694943\n",
      "Epoch 9: Validation loss = 0.6354355149422631, Validation accuracy: 0.7382216792215001\n",
      "Validation accuracy increased (0.722347501326691 --> 0.7382216792215001). Model saved\n"
     ]
    },
    {
     "name": "stderr",
     "output_type": "stream",
     "text": [
      "Training: 100%|███████████████████████████████| 925/925 [04:25<00:00,  3.49it/s]\n",
      "Valid: 100%|██████████████████████████████████| 132/132 [00:27<00:00,  4.80it/s]\n"
     ]
    },
    {
     "name": "stdout",
     "output_type": "stream",
     "text": [
      "Epoch 10: Train loss = 0.4547425755938968, Train accuracy: 0.8183094616516217\n",
      "Epoch 10: Validation loss = 0.6351701233423117, Validation accuracy: 0.7472533317226352\n",
      "Validation accuracy increased (0.7382216792215001 --> 0.7472533317226352). Model saved\n"
     ]
    },
    {
     "name": "stderr",
     "output_type": "stream",
     "text": [
      "Training: 100%|███████████████████████████████| 925/925 [04:22<00:00,  3.52it/s]\n",
      "Valid: 100%|██████████████████████████████████| 132/132 [00:27<00:00,  4.76it/s]\n"
     ]
    },
    {
     "name": "stdout",
     "output_type": "stream",
     "text": [
      "Epoch 11: Train loss = 0.41805194980389365, Train accuracy: 0.8304925948220331\n",
      "Epoch 11: Validation loss = 0.8249597145300923, Validation accuracy: 0.6609845820701483\n"
     ]
    },
    {
     "name": "stderr",
     "output_type": "stream",
     "text": [
      "Training: 100%|███████████████████████████████| 925/925 [04:25<00:00,  3.49it/s]\n",
      "Valid: 100%|██████████████████████████████████| 132/132 [00:27<00:00,  4.81it/s]\n"
     ]
    },
    {
     "name": "stdout",
     "output_type": "stream",
     "text": [
      "Epoch 12: Train loss = 0.3822609155363328, Train accuracy: 0.8473085733362147\n",
      "Epoch 12: Validation loss = 0.5573271592006539, Validation accuracy: 0.7818136906081979\n",
      "Validation accuracy increased (0.7472533317226352 --> 0.7818136906081979). Model saved\n"
     ]
    },
    {
     "name": "stderr",
     "output_type": "stream",
     "text": [
      "Training: 100%|███████████████████████████████| 925/925 [04:21<00:00,  3.53it/s]\n",
      "Valid: 100%|██████████████████████████████████| 132/132 [00:27<00:00,  4.87it/s]\n"
     ]
    },
    {
     "name": "stdout",
     "output_type": "stream",
     "text": [
      "Epoch 13: Train loss = 0.3458856923475459, Train accuracy: 0.8594491386413574\n",
      "Epoch 13: Validation loss = 0.6129777743622209, Validation accuracy: 0.7581038764028838\n"
     ]
    },
    {
     "name": "stderr",
     "output_type": "stream",
     "text": [
      "Training: 100%|███████████████████████████████| 925/925 [04:22<00:00,  3.52it/s]\n",
      "Valid: 100%|██████████████████████████████████| 132/132 [00:27<00:00,  4.82it/s]\n"
     ]
    },
    {
     "name": "stdout",
     "output_type": "stream",
     "text": [
      "Epoch 14: Train loss = 0.31707561752683405, Train accuracy: 0.872973820389928\n",
      "Epoch 14: Validation loss = 0.6023042633226423, Validation accuracy: 0.7699738551269878\n"
     ]
    },
    {
     "name": "stderr",
     "output_type": "stream",
     "text": [
      "Training: 100%|███████████████████████████████| 925/925 [04:23<00:00,  3.52it/s]\n",
      "Valid: 100%|██████████████████████████████████| 132/132 [00:27<00:00,  4.73it/s]\n"
     ]
    },
    {
     "name": "stdout",
     "output_type": "stream",
     "text": [
      "Epoch 15: Train loss = 0.2899014564543157, Train accuracy: 0.8816677306793832\n",
      "Epoch 15: Validation loss = 0.5347403231443781, Validation accuracy: 0.7917126372005\n",
      "Validation accuracy increased (0.7818136906081979 --> 0.7917126372005). Model saved\n"
     ]
    },
    {
     "name": "stderr",
     "output_type": "stream",
     "text": [
      "Training: 100%|███████████████████████████████| 925/925 [04:23<00:00,  3.51it/s]\n",
      "Valid: 100%|██████████████████████████████████| 132/132 [00:28<00:00,  4.71it/s]\n"
     ]
    },
    {
     "name": "stdout",
     "output_type": "stream",
     "text": [
      "Epoch 16: Train loss = 0.2678553719214491, Train accuracy: 0.8877270701769236\n",
      "Epoch 16: Validation loss = 0.5893454332694863, Validation accuracy: 0.7718310356140137\n"
     ]
    },
    {
     "name": "stderr",
     "output_type": "stream",
     "text": [
      "Training: 100%|███████████████████████████████| 925/925 [04:24<00:00,  3.50it/s]\n",
      "Valid: 100%|██████████████████████████████████| 132/132 [00:27<00:00,  4.83it/s]\n"
     ]
    },
    {
     "name": "stdout",
     "output_type": "stream",
     "text": [
      "Epoch 17: Train loss = 0.24795328584273119, Train accuracy: 0.8966430334142736\n",
      "Epoch 17: Validation loss = 0.5771894808294196, Validation accuracy: 0.7815950567072089\n"
     ]
    },
    {
     "name": "stderr",
     "output_type": "stream",
     "text": [
      "Training: 100%|███████████████████████████████| 925/925 [04:24<00:00,  3.50it/s]\n",
      "Valid: 100%|██████████████████████████████████| 132/132 [00:28<00:00,  4.66it/s]\n"
     ]
    },
    {
     "name": "stdout",
     "output_type": "stream",
     "text": [
      "Epoch 18: Train loss = 0.23223387766931508, Train accuracy: 0.9029198009903366\n",
      "Epoch 18: Validation loss = 0.5610648183095636, Validation accuracy: 0.7760181282505845\n"
     ]
    },
    {
     "name": "stderr",
     "output_type": "stream",
     "text": [
      "Training: 100%|███████████████████████████████| 925/925 [04:21<00:00,  3.54it/s]\n",
      "Valid: 100%|██████████████████████████████████| 132/132 [00:27<00:00,  4.88it/s]\n"
     ]
    },
    {
     "name": "stdout",
     "output_type": "stream",
     "text": [
      "Epoch 19: Train loss = 0.20571473057205614, Train accuracy: 0.9140194861308948\n",
      "Epoch 19: Validation loss = 0.6060561428241658, Validation accuracy: 0.7660127255049619\n"
     ]
    },
    {
     "name": "stderr",
     "output_type": "stream",
     "text": [
      "Training: 100%|███████████████████████████████| 925/925 [04:21<00:00,  3.54it/s]\n",
      "Valid: 100%|██████████████████████████████████| 132/132 [00:27<00:00,  4.75it/s]\n"
     ]
    },
    {
     "name": "stdout",
     "output_type": "stream",
     "text": [
      "Epoch 20: Train loss = 0.19125239897418667, Train accuracy: 0.9207638201842437\n",
      "Epoch 20: Validation loss = 0.7544166946952994, Validation accuracy: 0.7139256551410212\n"
     ]
    },
    {
     "name": "stderr",
     "output_type": "stream",
     "text": [
      "Training: 100%|███████████████████████████████| 925/925 [04:19<00:00,  3.56it/s]\n",
      "Valid: 100%|██████████████████████████████████| 132/132 [00:27<00:00,  4.84it/s]\n"
     ]
    },
    {
     "name": "stdout",
     "output_type": "stream",
     "text": [
      "Epoch 21: Train loss = 0.18110980669590268, Train accuracy: 0.9222287231522638\n",
      "Epoch 21: Validation loss = 0.5737433403053067, Validation accuracy: 0.7639669062513293\n"
     ]
    },
    {
     "name": "stderr",
     "output_type": "stream",
     "text": [
      "Training: 100%|███████████████████████████████| 925/925 [04:19<00:00,  3.56it/s]\n",
      "Valid: 100%|██████████████████████████████████| 132/132 [00:27<00:00,  4.79it/s]\n"
     ]
    },
    {
     "name": "stdout",
     "output_type": "stream",
     "text": [
      "Epoch 22: Train loss = 0.1612173978581622, Train accuracy: 0.9287877869606018\n",
      "Epoch 22: Validation loss = 0.5692947099380421, Validation accuracy: 0.7922410192814741\n",
      "Validation accuracy increased (0.7917126372005 --> 0.7922410192814741). Model saved\n"
     ]
    },
    {
     "name": "stderr",
     "output_type": "stream",
     "text": [
      "Training: 100%|███████████████████████████████| 925/925 [04:22<00:00,  3.52it/s]\n",
      "Valid: 100%|██████████████████████████████████| 132/132 [00:27<00:00,  4.74it/s]\n"
     ]
    },
    {
     "name": "stdout",
     "output_type": "stream",
     "text": [
      "Epoch 23: Train loss = 0.16722873880653769, Train accuracy: 0.9271986995516597\n",
      "Epoch 23: Validation loss = 0.5431212581355463, Validation accuracy: 0.7974106971964692\n",
      "Validation accuracy increased (0.7922410192814741 --> 0.7974106971964692). Model saved\n"
     ]
    },
    {
     "name": "stderr",
     "output_type": "stream",
     "text": [
      "Training: 100%|███████████████████████████████| 925/925 [04:29<00:00,  3.43it/s]\n",
      "Valid: 100%|██████████████████████████████████| 132/132 [00:27<00:00,  4.72it/s]\n"
     ]
    },
    {
     "name": "stdout",
     "output_type": "stream",
     "text": [
      "Epoch 24: Train loss = 0.15319180492513082, Train accuracy: 0.9341588403727558\n",
      "Epoch 24: Validation loss = 0.5620518206534061, Validation accuracy: 0.787335320855632\n"
     ]
    },
    {
     "name": "stderr",
     "output_type": "stream",
     "text": [
      "Training: 100%|███████████████████████████████| 925/925 [04:23<00:00,  3.51it/s]\n",
      "Valid: 100%|██████████████████████████████████| 132/132 [00:27<00:00,  4.84it/s]\n"
     ]
    },
    {
     "name": "stdout",
     "output_type": "stream",
     "text": [
      "Epoch 25: Train loss = 0.13908655669540168, Train accuracy: 0.9407486544428645\n",
      "Epoch 25: Validation loss = 0.5461081623127966, Validation accuracy: 0.7862760248509321\n"
     ]
    },
    {
     "name": "stderr",
     "output_type": "stream",
     "text": [
      "Training: 100%|███████████████████████████████| 925/925 [04:22<00:00,  3.52it/s]\n",
      "Valid: 100%|██████████████████████████████████| 132/132 [00:27<00:00,  4.82it/s]\n"
     ]
    },
    {
     "name": "stdout",
     "output_type": "stream",
     "text": [
      "Epoch 26: Train loss = 0.13106210018785017, Train accuracy: 0.9445662564200324\n",
      "Epoch 26: Validation loss = 0.5577757000132944, Validation accuracy: 0.8024349384235613\n",
      "Validation accuracy increased (0.7974106971964692 --> 0.8024349384235613). Model saved\n"
     ]
    },
    {
     "name": "stderr",
     "output_type": "stream",
     "text": [
      "Training: 100%|███████████████████████████████| 925/925 [04:20<00:00,  3.55it/s]\n",
      "Valid: 100%|██████████████████████████████████| 132/132 [00:27<00:00,  4.80it/s]\n"
     ]
    },
    {
     "name": "stdout",
     "output_type": "stream",
     "text": [
      "Epoch 27: Train loss = 0.12447542979633687, Train accuracy: 0.947424003175787\n",
      "Epoch 27: Validation loss = 0.5042671620789351, Validation accuracy: 0.8274934151858995\n",
      "Validation accuracy increased (0.8024349384235613 --> 0.8274934151858995). Model saved\n"
     ]
    },
    {
     "name": "stderr",
     "output_type": "stream",
     "text": [
      "Training: 100%|███████████████████████████████| 925/925 [04:21<00:00,  3.54it/s]\n",
      "Valid: 100%|██████████████████████████████████| 132/132 [00:27<00:00,  4.77it/s]\n"
     ]
    },
    {
     "name": "stdout",
     "output_type": "stream",
     "text": [
      "Epoch 28: Train loss = 0.12396081597972158, Train accuracy: 0.9484921386435226\n",
      "Epoch 28: Validation loss = 0.6033668756259211, Validation accuracy: 0.7860108559781854\n"
     ]
    },
    {
     "name": "stderr",
     "output_type": "stream",
     "text": [
      "Training: 100%|███████████████████████████████| 925/925 [04:20<00:00,  3.56it/s]\n",
      "Valid: 100%|██████████████████████████████████| 132/132 [00:27<00:00,  4.79it/s]\n"
     ]
    },
    {
     "name": "stdout",
     "output_type": "stream",
     "text": [
      "Epoch 29: Train loss = 0.11375569326299671, Train accuracy: 0.953223306423909\n",
      "Epoch 29: Validation loss = 0.5900506759909067, Validation accuracy: 0.7878768769177523\n"
     ]
    },
    {
     "name": "stderr",
     "output_type": "stream",
     "text": [
      "Training: 100%|███████████████████████████████| 925/925 [04:22<00:00,  3.52it/s]\n",
      "Valid: 100%|██████████████████████████████████| 132/132 [00:27<00:00,  4.88it/s]\n"
     ]
    },
    {
     "name": "stdout",
     "output_type": "stream",
     "text": [
      "Epoch 30: Train loss = 0.1137143916682013, Train accuracy: 0.949699914906476\n",
      "Epoch 30: Validation loss = 0.5808570106146913, Validation accuracy: 0.8135923485864293\n"
     ]
    },
    {
     "name": "stderr",
     "output_type": "stream",
     "text": [
      "Training: 100%|███████████████████████████████| 925/925 [04:21<00:00,  3.53it/s]\n",
      "Valid: 100%|██████████████████████████████████| 132/132 [00:26<00:00,  4.90it/s]\n"
     ]
    },
    {
     "name": "stdout",
     "output_type": "stream",
     "text": [
      "Epoch 31: Train loss = 0.10155806913027993, Train accuracy: 0.9565951087668135\n",
      "Epoch 31: Validation loss = 0.5890609562171228, Validation accuracy: 0.7965246601538225\n"
     ]
    },
    {
     "name": "stderr",
     "output_type": "stream",
     "text": [
      "Training: 100%|███████████████████████████████| 925/925 [04:22<00:00,  3.53it/s]\n",
      "Valid: 100%|██████████████████████████████████| 132/132 [00:27<00:00,  4.87it/s]\n"
     ]
    },
    {
     "name": "stdout",
     "output_type": "stream",
     "text": [
      "Epoch 32: Train loss = 0.09904579853752275, Train accuracy: 0.9533452410311313\n",
      "Epoch 32: Validation loss = 0.5602723801452102, Validation accuracy: 0.7981367745634281\n"
     ]
    },
    {
     "name": "stderr",
     "output_type": "stream",
     "text": [
      "Training: 100%|███████████████████████████████| 925/925 [04:22<00:00,  3.52it/s]\n",
      "Valid: 100%|██████████████████████████████████| 132/132 [00:27<00:00,  4.76it/s]\n"
     ]
    },
    {
     "name": "stdout",
     "output_type": "stream",
     "text": [
      "Epoch 33: Train loss = 0.09837481672145627, Train accuracy: 0.9567178695910685\n",
      "Epoch 33: Validation loss = 0.5306310027160428, Validation accuracy: 0.8217449599143231\n"
     ]
    },
    {
     "name": "stderr",
     "output_type": "stream",
     "text": [
      "Training: 100%|███████████████████████████████| 925/925 [04:22<00:00,  3.53it/s]\n",
      "Valid: 100%|██████████████████████████████████| 132/132 [00:28<00:00,  4.66it/s]\n"
     ]
    },
    {
     "name": "stdout",
     "output_type": "stream",
     "text": [
      "Epoch 34: Train loss = 0.08856338355211994, Train accuracy: 0.9638430688832257\n",
      "Epoch 34: Validation loss = 0.6008810980076139, Validation accuracy: 0.8022580819599556\n"
     ]
    },
    {
     "name": "stderr",
     "output_type": "stream",
     "text": [
      "Training: 100%|███████████████████████████████| 925/925 [04:26<00:00,  3.47it/s]\n",
      "Valid: 100%|██████████████████████████████████| 132/132 [00:28<00:00,  4.71it/s]\n"
     ]
    },
    {
     "name": "stdout",
     "output_type": "stream",
     "text": [
      "Epoch 35: Train loss = 0.08622845846983428, Train accuracy: 0.9617005417153642\n",
      "Epoch 35: Validation loss = 0.564931740363439, Validation accuracy: 0.8102745160912023\n"
     ]
    },
    {
     "name": "stderr",
     "output_type": "stream",
     "text": [
      "Training: 100%|███████████████████████████████| 925/925 [04:24<00:00,  3.49it/s]\n",
      "Valid: 100%|██████████████████████████████████| 132/132 [00:27<00:00,  4.84it/s]\n"
     ]
    },
    {
     "name": "stdout",
     "output_type": "stream",
     "text": [
      "Epoch 36: Train loss = 0.09008680127699532, Train accuracy: 0.9612814447686479\n",
      "Epoch 36: Validation loss = 0.6632490391758356, Validation accuracy: 0.7866926847985296\n"
     ]
    },
    {
     "name": "stderr",
     "output_type": "stream",
     "text": [
      "Training: 100%|███████████████████████████████| 925/925 [04:22<00:00,  3.53it/s]\n",
      "Valid: 100%|██████████████████████████████████| 132/132 [00:27<00:00,  4.84it/s]\n"
     ]
    },
    {
     "name": "stdout",
     "output_type": "stream",
     "text": [
      "Epoch 37: Train loss = 0.07988262147693014, Train accuracy: 0.9661871754156577\n",
      "Epoch 37: Validation loss = 0.4882803408598358, Validation accuracy: 0.83544783429666\n",
      "Validation accuracy increased (0.8274934151858995 --> 0.83544783429666). Model saved\n"
     ]
    },
    {
     "name": "stderr",
     "output_type": "stream",
     "text": [
      "Training: 100%|███████████████████████████████| 925/925 [04:23<00:00,  3.52it/s]\n",
      "Valid: 100%|██████████████████████████████████| 132/132 [00:27<00:00,  4.77it/s]\n"
     ]
    },
    {
     "name": "stdout",
     "output_type": "stream",
     "text": [
      "Epoch 38: Train loss = 0.08441305564414407, Train accuracy: 0.9656144520398733\n",
      "Epoch 38: Validation loss = 0.6006326894416953, Validation accuracy: 0.8124768729462768\n"
     ]
    },
    {
     "name": "stderr",
     "output_type": "stream",
     "text": [
      "Training: 100%|███████████████████████████████| 925/925 [04:23<00:00,  3.52it/s]\n",
      "Valid: 100%|██████████████████████████████████| 132/132 [00:27<00:00,  4.87it/s]\n"
     ]
    },
    {
     "name": "stdout",
     "output_type": "stream",
     "text": [
      "Epoch 39: Train loss = 0.07736392159795237, Train accuracy: 0.9678797988633852\n",
      "Epoch 39: Validation loss = 0.5233733841415608, Validation accuracy: 0.8170590057517543\n"
     ]
    },
    {
     "name": "stderr",
     "output_type": "stream",
     "text": [
      "Training: 100%|███████████████████████████████| 925/925 [04:23<00:00,  3.51it/s]\n",
      "Valid: 100%|██████████████████████████████████| 132/132 [00:28<00:00,  4.62it/s]\n"
     ]
    },
    {
     "name": "stdout",
     "output_type": "stream",
     "text": [
      "Epoch 40: Train loss = 0.0729551746574155, Train accuracy: 0.9680132876860129\n",
      "Epoch 40: Validation loss = 0.678986327101787, Validation accuracy: 0.777071606480714\n"
     ]
    },
    {
     "name": "stderr",
     "output_type": "stream",
     "text": [
      "Training: 100%|███████████████████████████████| 925/925 [04:28<00:00,  3.45it/s]\n",
      "Valid: 100%|██████████████████████████████████| 132/132 [00:29<00:00,  4.51it/s]\n"
     ]
    },
    {
     "name": "stdout",
     "output_type": "stream",
     "text": [
      "Epoch 41: Train loss = 0.07229799960928693, Train accuracy: 0.967775486868781\n",
      "Epoch 41: Validation loss = 0.6435188715430823, Validation accuracy: 0.7843748245275382\n"
     ]
    },
    {
     "name": "stderr",
     "output_type": "stream",
     "text": [
      "Training: 100%|███████████████████████████████| 925/925 [04:29<00:00,  3.43it/s]\n",
      "Valid: 100%|██████████████████████████████████| 132/132 [00:29<00:00,  4.51it/s]\n"
     ]
    },
    {
     "name": "stdout",
     "output_type": "stream",
     "text": [
      "Epoch 42: Train loss = 0.06830718829076284, Train accuracy: 0.9698527944410169\n",
      "Epoch 42: Validation loss = 0.6228381229959654, Validation accuracy: 0.7918474823236465\n"
     ]
    },
    {
     "name": "stderr",
     "output_type": "stream",
     "text": [
      "Training: 100%|███████████████████████████████| 925/925 [04:30<00:00,  3.42it/s]\n",
      "Valid: 100%|██████████████████████████████████| 132/132 [00:28<00:00,  4.61it/s]\n"
     ]
    },
    {
     "name": "stdout",
     "output_type": "stream",
     "text": [
      "Epoch 43: Train loss = 0.065727547580263, Train accuracy: 0.9722320354951395\n",
      "Epoch 43: Validation loss = 0.6065716294176651, Validation accuracy: 0.7922402530005483\n"
     ]
    },
    {
     "name": "stderr",
     "output_type": "stream",
     "text": [
      "Training: 100%|███████████████████████████████| 925/925 [04:28<00:00,  3.45it/s]\n",
      "Valid: 100%|██████████████████████████████████| 132/132 [00:28<00:00,  4.66it/s]\n"
     ]
    },
    {
     "name": "stdout",
     "output_type": "stream",
     "text": [
      "Epoch 44: Train loss = 0.06921447508137774, Train accuracy: 0.9696248532630302\n",
      "Epoch 44: Validation loss = 0.6689311506395991, Validation accuracy: 0.7869355583732779\n"
     ]
    },
    {
     "name": "stderr",
     "output_type": "stream",
     "text": [
      "Training: 100%|███████████████████████████████| 925/925 [04:29<00:00,  3.44it/s]\n",
      "Valid: 100%|██████████████████████████████████| 132/132 [00:29<00:00,  4.52it/s]\n"
     ]
    },
    {
     "name": "stdout",
     "output_type": "stream",
     "text": [
      "Epoch 45: Train loss = 0.06393439976360045, Train accuracy: 0.973177219597069\n",
      "Epoch 45: Validation loss = 0.5419134976568095, Validation accuracy: 0.8291341666922425\n"
     ]
    },
    {
     "name": "stderr",
     "output_type": "stream",
     "text": [
      "Training: 100%|███████████████████████████████| 925/925 [04:32<00:00,  3.39it/s]\n",
      "Valid: 100%|██████████████████████████████████| 132/132 [00:29<00:00,  4.54it/s]\n"
     ]
    },
    {
     "name": "stdout",
     "output_type": "stream",
     "text": [
      "Epoch 46: Train loss = 0.06682296465799162, Train accuracy: 0.970775603281485\n",
      "Epoch 46: Validation loss = 0.6166897023266013, Validation accuracy: 0.7957435629584573\n"
     ]
    },
    {
     "name": "stderr",
     "output_type": "stream",
     "text": [
      "Training: 100%|███████████████████████████████| 925/925 [04:28<00:00,  3.45it/s]\n",
      "Valid: 100%|██████████████████████████████████| 132/132 [00:28<00:00,  4.62it/s]\n"
     ]
    },
    {
     "name": "stdout",
     "output_type": "stream",
     "text": [
      "Epoch 47: Train loss = 0.060250153942033646, Train accuracy: 0.9744099161431596\n",
      "Epoch 47: Validation loss = 0.5860988578448693, Validation accuracy: 0.8207617831049543\n"
     ]
    },
    {
     "name": "stderr",
     "output_type": "stream",
     "text": [
      "Training: 100%|███████████████████████████████| 925/925 [04:32<00:00,  3.39it/s]\n",
      "Valid: 100%|██████████████████████████████████| 132/132 [00:29<00:00,  4.41it/s]\n"
     ]
    },
    {
     "name": "stdout",
     "output_type": "stream",
     "text": [
      "Epoch 48: Train loss = 0.05892994243252041, Train accuracy: 0.9752903464033797\n",
      "Epoch 48: Validation loss = 0.5564707996831699, Validation accuracy: 0.8237168536041722\n"
     ]
    },
    {
     "name": "stderr",
     "output_type": "stream",
     "text": [
      "Training: 100%|███████████████████████████████| 925/925 [04:32<00:00,  3.40it/s]\n",
      "Valid: 100%|██████████████████████████████████| 132/132 [00:29<00:00,  4.46it/s]\n"
     ]
    },
    {
     "name": "stdout",
     "output_type": "stream",
     "text": [
      "Epoch 49: Train loss = 0.05466029860815537, Train accuracy: 0.9785722263439282\n",
      "Epoch 49: Validation loss = 0.5650243630604537, Validation accuracy: 0.8217051674922308\n"
     ]
    },
    {
     "name": "stderr",
     "output_type": "stream",
     "text": [
      "Training: 100%|███████████████████████████████| 925/925 [04:31<00:00,  3.41it/s]\n",
      "Valid: 100%|██████████████████████████████████| 132/132 [00:28<00:00,  4.58it/s]\n"
     ]
    },
    {
     "name": "stdout",
     "output_type": "stream",
     "text": [
      "Epoch 50: Train loss = 0.06330394852654757, Train accuracy: 0.9732610561396624\n",
      "Epoch 50: Validation loss = 0.5971062497772051, Validation accuracy: 0.8055784422339816\n"
     ]
    },
    {
     "name": "stderr",
     "output_type": "stream",
     "text": [
      "Training: 100%|███████████████████████████████| 925/925 [04:29<00:00,  3.44it/s]\n",
      "Valid: 100%|██████████████████████████████████| 132/132 [00:28<00:00,  4.68it/s]\n"
     ]
    },
    {
     "name": "stdout",
     "output_type": "stream",
     "text": [
      "Epoch 51: Train loss = 0.05475352438840059, Train accuracy: 0.9749270691742769\n",
      "Epoch 51: Validation loss = 0.6497749039395289, Validation accuracy: 0.7973926202817396\n"
     ]
    },
    {
     "name": "stderr",
     "output_type": "stream",
     "text": [
      "Training: 100%|███████████████████████████████| 925/925 [04:27<00:00,  3.45it/s]\n",
      "Valid: 100%|██████████████████████████████████| 132/132 [00:28<00:00,  4.64it/s]\n"
     ]
    },
    {
     "name": "stdout",
     "output_type": "stream",
     "text": [
      "Epoch 52: Train loss = 0.056238089403062054, Train accuracy: 0.9782704091716458\n",
      "Epoch 52: Validation loss = 0.6088378854999037, Validation accuracy: 0.7988681418426109\n"
     ]
    },
    {
     "name": "stderr",
     "output_type": "stream",
     "text": [
      "Training: 100%|███████████████████████████████| 925/925 [04:27<00:00,  3.46it/s]\n",
      "Valid: 100%|██████████████████████████████████| 132/132 [00:27<00:00,  4.73it/s]\n"
     ]
    },
    {
     "name": "stdout",
     "output_type": "stream",
     "text": [
      "Epoch 53: Train loss = 0.050738717302698896, Train accuracy: 0.9792125625868101\n",
      "Epoch 53: Validation loss = 0.5665495272754042, Validation accuracy: 0.8068525344133377\n"
     ]
    },
    {
     "name": "stderr",
     "output_type": "stream",
     "text": [
      "Training: 100%|███████████████████████████████| 925/925 [04:29<00:00,  3.44it/s]\n",
      "Valid: 100%|██████████████████████████████████| 132/132 [00:28<00:00,  4.69it/s]\n"
     ]
    },
    {
     "name": "stdout",
     "output_type": "stream",
     "text": [
      "Epoch 54: Train loss = 0.05525763114165464, Train accuracy: 0.9749098223608893\n",
      "Epoch 54: Validation loss = 0.6162728962460251, Validation accuracy: 0.8095029601545045\n"
     ]
    },
    {
     "name": "stderr",
     "output_type": "stream",
     "text": [
      "Training: 100%|███████████████████████████████| 925/925 [04:26<00:00,  3.47it/s]\n",
      "Valid: 100%|██████████████████████████████████| 132/132 [00:27<00:00,  4.78it/s]\n"
     ]
    },
    {
     "name": "stdout",
     "output_type": "stream",
     "text": [
      "Epoch 55: Train loss = 0.05191605111895557, Train accuracy: 0.9785366656329181\n",
      "Epoch 55: Validation loss = 0.5252329458228566, Validation accuracy: 0.8263436420397325\n"
     ]
    },
    {
     "name": "stderr",
     "output_type": "stream",
     "text": [
      "Training: 100%|███████████████████████████████| 925/925 [04:25<00:00,  3.48it/s]\n",
      "Valid: 100%|██████████████████████████████████| 132/132 [00:27<00:00,  4.81it/s]\n"
     ]
    },
    {
     "name": "stdout",
     "output_type": "stream",
     "text": [
      "Epoch 56: Train loss = 0.054901957470039536, Train accuracy: 0.9762347003575917\n",
      "Epoch 56: Validation loss = 0.5659264656856204, Validation accuracy: 0.810936453667554\n"
     ]
    },
    {
     "name": "stderr",
     "output_type": "stream",
     "text": [
      "Training: 100%|███████████████████████████████| 925/925 [04:26<00:00,  3.47it/s]\n",
      "Valid: 100%|██████████████████████████████████| 132/132 [00:28<00:00,  4.71it/s]\n"
     ]
    },
    {
     "name": "stdout",
     "output_type": "stream",
     "text": [
      "Epoch 57: Train loss = 0.04312442851454221, Train accuracy: 0.9807988090772887\n",
      "Epoch 57: Validation loss = 0.5631979986686598, Validation accuracy: 0.8238643552317764\n"
     ]
    },
    {
     "name": "stderr",
     "output_type": "stream",
     "text": [
      "Training: 100%|███████████████████████████████| 925/925 [04:27<00:00,  3.46it/s]\n",
      "Valid: 100%|██████████████████████████████████| 132/132 [00:27<00:00,  4.76it/s]\n"
     ]
    },
    {
     "name": "stdout",
     "output_type": "stream",
     "text": [
      "Epoch 58: Train loss = 0.049706314720301514, Train accuracy: 0.9794731566712663\n",
      "Epoch 58: Validation loss = 0.5670607139102437, Validation accuracy: 0.8153301360029163\n"
     ]
    },
    {
     "name": "stderr",
     "output_type": "stream",
     "text": [
      "Training: 100%|███████████████████████████████| 925/925 [04:27<00:00,  3.46it/s]\n",
      "Valid: 100%|██████████████████████████████████| 132/132 [00:27<00:00,  4.78it/s]\n"
     ]
    },
    {
     "name": "stdout",
     "output_type": "stream",
     "text": [
      "Epoch 59: Train loss = 0.041266403154287534, Train accuracy: 0.9814873652200441\n",
      "Epoch 59: Validation loss = 0.5557485310304345, Validation accuracy: 0.8354930073925944\n",
      "Validation accuracy increased (0.83544783429666 --> 0.8354930073925944). Model saved\n"
     ]
    },
    {
     "name": "stderr",
     "output_type": "stream",
     "text": [
      "Training: 100%|███████████████████████████████| 925/925 [04:25<00:00,  3.48it/s]\n",
      "Valid: 100%|██████████████████████████████████| 132/132 [00:28<00:00,  4.66it/s]\n"
     ]
    },
    {
     "name": "stdout",
     "output_type": "stream",
     "text": [
      "Epoch 60: Train loss = 0.047860551888462964, Train accuracy: 0.9801781861846511\n",
      "Epoch 60: Validation loss = 0.6192516668727903, Validation accuracy: 0.8054954761808569\n"
     ]
    },
    {
     "name": "stderr",
     "output_type": "stream",
     "text": [
      "Training: 100%|███████████████████████████████| 925/925 [04:27<00:00,  3.45it/s]\n",
      "Valid: 100%|██████████████████████████████████| 132/132 [00:29<00:00,  4.50it/s]\n"
     ]
    },
    {
     "name": "stdout",
     "output_type": "stream",
     "text": [
      "Epoch 61: Train loss = 0.04376679321489851, Train accuracy: 0.9805877427152685\n",
      "Epoch 61: Validation loss = 0.6086833453031651, Validation accuracy: 0.8197841070818178\n"
     ]
    },
    {
     "name": "stderr",
     "output_type": "stream",
     "text": [
      "Training: 100%|███████████████████████████████| 925/925 [04:26<00:00,  3.47it/s]\n",
      "Valid: 100%|██████████████████████████████████| 132/132 [00:28<00:00,  4.59it/s]\n"
     ]
    },
    {
     "name": "stdout",
     "output_type": "stream",
     "text": [
      "Epoch 62: Train loss = 0.044640323402787986, Train accuracy: 0.9820931763906736\n",
      "Epoch 62: Validation loss = 0.6155075144135591, Validation accuracy: 0.8026822855075201\n"
     ]
    },
    {
     "name": "stderr",
     "output_type": "stream",
     "text": [
      "Training: 100%|███████████████████████████████| 925/925 [04:31<00:00,  3.41it/s]\n",
      "Valid: 100%|██████████████████████████████████| 132/132 [00:29<00:00,  4.46it/s]\n"
     ]
    },
    {
     "name": "stdout",
     "output_type": "stream",
     "text": [
      "Epoch 63: Train loss = 0.04020483898873617, Train accuracy: 0.9820481782990533\n",
      "Epoch 63: Validation loss = 0.5212222594542034, Validation accuracy: 0.8447570060238694\n",
      "Validation accuracy increased (0.8354930073925944 --> 0.8447570060238694). Model saved\n"
     ]
    },
    {
     "name": "stderr",
     "output_type": "stream",
     "text": [
      "Training: 100%|███████████████████████████████| 925/925 [04:33<00:00,  3.38it/s]\n",
      "Valid: 100%|██████████████████████████████████| 132/132 [00:28<00:00,  4.59it/s]\n"
     ]
    },
    {
     "name": "stdout",
     "output_type": "stream",
     "text": [
      "Epoch 64: Train loss = 0.04625225420732907, Train accuracy: 0.9817259282034797\n",
      "Epoch 64: Validation loss = 0.6416823232659337, Validation accuracy: 0.8183241689747031\n"
     ]
    },
    {
     "name": "stderr",
     "output_type": "stream",
     "text": [
      "Training: 100%|███████████████████████████████| 925/925 [04:30<00:00,  3.42it/s]\n",
      "Valid: 100%|██████████████████████████████████| 132/132 [00:29<00:00,  4.47it/s]\n"
     ]
    },
    {
     "name": "stdout",
     "output_type": "stream",
     "text": [
      "Epoch 65: Train loss = 0.040142366479849444, Train accuracy: 0.9824651219393756\n",
      "Epoch 65: Validation loss = 0.6346449541548888, Validation accuracy: 0.7994071236162474\n"
     ]
    },
    {
     "name": "stderr",
     "output_type": "stream",
     "text": [
      "Training: 100%|███████████████████████████████| 925/925 [04:31<00:00,  3.41it/s]\n",
      "Valid: 100%|██████████████████████████████████| 132/132 [00:28<00:00,  4.58it/s]\n"
     ]
    },
    {
     "name": "stdout",
     "output_type": "stream",
     "text": [
      "Epoch 66: Train loss = 0.04107277251915326, Train accuracy: 0.9824458544963115\n",
      "Epoch 66: Validation loss = 0.5949171274674662, Validation accuracy: 0.8198262949784597\n"
     ]
    },
    {
     "name": "stderr",
     "output_type": "stream",
     "text": [
      "Training: 100%|███████████████████████████████| 925/925 [04:30<00:00,  3.41it/s]\n",
      "Valid: 100%|██████████████████████████████████| 132/132 [00:28<00:00,  4.58it/s]\n"
     ]
    },
    {
     "name": "stdout",
     "output_type": "stream",
     "text": [
      "Epoch 67: Train loss = 0.038448655601068575, Train accuracy: 0.9813654410516893\n",
      "Epoch 67: Validation loss = 0.5757657820076654, Validation accuracy: 0.8240378331957441\n"
     ]
    },
    {
     "name": "stderr",
     "output_type": "stream",
     "text": [
      "Training: 100%|███████████████████████████████| 925/925 [04:29<00:00,  3.43it/s]\n",
      "Valid: 100%|██████████████████████████████████| 132/132 [00:28<00:00,  4.57it/s]\n"
     ]
    },
    {
     "name": "stdout",
     "output_type": "stream",
     "text": [
      "Epoch 68: Train loss = 0.04543045747450968, Train accuracy: 0.979910720554558\n",
      "Epoch 68: Validation loss = 0.5528996066670074, Validation accuracy: 0.8304835074778759\n"
     ]
    },
    {
     "name": "stderr",
     "output_type": "stream",
     "text": [
      "Training: 100%|███████████████████████████████| 925/925 [04:29<00:00,  3.43it/s]\n",
      "Valid: 100%|██████████████████████████████████| 132/132 [00:28<00:00,  4.63it/s]\n"
     ]
    },
    {
     "name": "stdout",
     "output_type": "stream",
     "text": [
      "Epoch 69: Train loss = 0.03614344242249137, Train accuracy: 0.9848602392866804\n",
      "Epoch 69: Validation loss = 0.6082412518109336, Validation accuracy: 0.8240397098389539\n"
     ]
    },
    {
     "name": "stderr",
     "output_type": "stream",
     "text": [
      "Training: 100%|███████████████████████████████| 925/925 [04:28<00:00,  3.45it/s]\n",
      "Valid: 100%|██████████████████████████████████| 132/132 [00:28<00:00,  4.66it/s]\n"
     ]
    },
    {
     "name": "stdout",
     "output_type": "stream",
     "text": [
      "Epoch 70: Train loss = 0.03861892335593537, Train accuracy: 0.9820746383151493\n",
      "Epoch 70: Validation loss = 0.6093848133177469, Validation accuracy: 0.8201048143885352\n"
     ]
    },
    {
     "name": "stderr",
     "output_type": "stream",
     "text": [
      "Training: 100%|███████████████████████████████| 925/925 [04:26<00:00,  3.47it/s]\n",
      "Valid: 100%|██████████████████████████████████| 132/132 [00:29<00:00,  4.54it/s]\n"
     ]
    },
    {
     "name": "stdout",
     "output_type": "stream",
     "text": [
      "Epoch 71: Train loss = 0.034570935808300715, Train accuracy: 0.9858953892862474\n",
      "Epoch 71: Validation loss = 0.6057571604650355, Validation accuracy: 0.8168477831464825\n"
     ]
    },
    {
     "name": "stderr",
     "output_type": "stream",
     "text": [
      "Training: 100%|███████████████████████████████| 925/925 [04:28<00:00,  3.44it/s]\n",
      "Valid: 100%|██████████████████████████████████| 132/132 [00:27<00:00,  4.74it/s]\n"
     ]
    },
    {
     "name": "stdout",
     "output_type": "stream",
     "text": [
      "Epoch 72: Train loss = 0.0383844342461246, Train accuracy: 0.9833102409904068\n",
      "Epoch 72: Validation loss = 0.5393632211736544, Validation accuracy: 0.8329993463826902\n"
     ]
    },
    {
     "name": "stderr",
     "output_type": "stream",
     "text": [
      "Training: 100%|███████████████████████████████| 925/925 [04:26<00:00,  3.47it/s]\n",
      "Valid: 100%|██████████████████████████████████| 132/132 [00:27<00:00,  4.73it/s]\n"
     ]
    },
    {
     "name": "stdout",
     "output_type": "stream",
     "text": [
      "Epoch 73: Train loss = 0.035673399728052696, Train accuracy: 0.9854585169457101\n",
      "Epoch 73: Validation loss = 0.5686584560369904, Validation accuracy: 0.8154952738321188\n"
     ]
    },
    {
     "name": "stderr",
     "output_type": "stream",
     "text": [
      "Training: 100%|███████████████████████████████| 925/925 [04:28<00:00,  3.45it/s]\n",
      "Valid: 100%|██████████████████████████████████| 132/132 [00:28<00:00,  4.70it/s]\n"
     ]
    },
    {
     "name": "stdout",
     "output_type": "stream",
     "text": [
      "Epoch 74: Train loss = 0.03660054738435114, Train accuracy: 0.9830322219230033\n",
      "Epoch 74: Validation loss = 0.5363059150563045, Validation accuracy: 0.8345055291146943\n"
     ]
    },
    {
     "name": "stderr",
     "output_type": "stream",
     "text": [
      "Training: 100%|███████████████████████████████| 925/925 [04:30<00:00,  3.42it/s]\n",
      "Valid: 100%|██████████████████████████████████| 132/132 [00:27<00:00,  4.78it/s]\n"
     ]
    },
    {
     "name": "stdout",
     "output_type": "stream",
     "text": [
      "Epoch 75: Train loss = 0.0347845229646191, Train accuracy: 0.9863259612547385\n",
      "Epoch 75: Validation loss = 0.5553468167429056, Validation accuracy: 0.8453351060549418\n",
      "Validation accuracy increased (0.8447570060238694 --> 0.8453351060549418). Model saved\n"
     ]
    },
    {
     "name": "stderr",
     "output_type": "stream",
     "text": [
      "Training: 100%|███████████████████████████████| 925/925 [04:27<00:00,  3.46it/s]\n",
      "Valid: 100%|██████████████████████████████████| 132/132 [00:28<00:00,  4.70it/s]\n"
     ]
    },
    {
     "name": "stdout",
     "output_type": "stream",
     "text": [
      "Epoch 76: Train loss = 0.037108637756035616, Train accuracy: 0.9826224179525633\n",
      "Epoch 76: Validation loss = 0.5809139018088127, Validation accuracy: 0.8233846218296976\n"
     ]
    },
    {
     "name": "stderr",
     "output_type": "stream",
     "text": [
      "Training: 100%|███████████████████████████████| 925/925 [04:27<00:00,  3.46it/s]\n",
      "Valid: 100%|██████████████████████████████████| 132/132 [00:27<00:00,  4.72it/s]\n"
     ]
    },
    {
     "name": "stdout",
     "output_type": "stream",
     "text": [
      "Epoch 77: Train loss = 0.03484173016970335, Train accuracy: 0.9841009840449771\n",
      "Epoch 77: Validation loss = 0.51748926802115, Validation accuracy: 0.8225539742094098\n"
     ]
    },
    {
     "name": "stderr",
     "output_type": "stream",
     "text": [
      "Training: 100%|███████████████████████████████| 925/925 [04:26<00:00,  3.47it/s]\n",
      "Valid: 100%|██████████████████████████████████| 132/132 [00:28<00:00,  4.68it/s]\n"
     ]
    },
    {
     "name": "stdout",
     "output_type": "stream",
     "text": [
      "Epoch 78: Train loss = 0.031129262826351978, Train accuracy: 0.9875054972236221\n",
      "Epoch 78: Validation loss = 0.5160658781162717, Validation accuracy: 0.8464999826568546\n",
      "Validation accuracy increased (0.8453351060549418 --> 0.8464999826568546). Model saved\n"
     ]
    },
    {
     "name": "stderr",
     "output_type": "stream",
     "text": [
      "Training: 100%|███████████████████████████████| 925/925 [04:29<00:00,  3.43it/s]\n",
      "Valid: 100%|██████████████████████████████████| 132/132 [00:27<00:00,  4.76it/s]\n"
     ]
    },
    {
     "name": "stdout",
     "output_type": "stream",
     "text": [
      "Epoch 79: Train loss = 0.037148273425047736, Train accuracy: 0.9819253204319928\n",
      "Epoch 79: Validation loss = 0.5572926099553253, Validation accuracy: 0.8211675471428669\n"
     ]
    },
    {
     "name": "stderr",
     "output_type": "stream",
     "text": [
      "Training: 100%|███████████████████████████████| 925/925 [04:28<00:00,  3.45it/s]\n",
      "Valid: 100%|██████████████████████████████████| 132/132 [00:28<00:00,  4.71it/s]\n"
     ]
    },
    {
     "name": "stdout",
     "output_type": "stream",
     "text": [
      "Epoch 80: Train loss = 0.035684358706387906, Train accuracy: 0.9854476244385179\n",
      "Epoch 80: Validation loss = 0.5773440858518536, Validation accuracy: 0.8251247834978681\n"
     ]
    },
    {
     "name": "stderr",
     "output_type": "stream",
     "text": [
      "Training: 100%|███████████████████████████████| 925/925 [04:29<00:00,  3.44it/s]\n",
      "Valid: 100%|██████████████████████████████████| 132/132 [00:28<00:00,  4.68it/s]\n"
     ]
    },
    {
     "name": "stdout",
     "output_type": "stream",
     "text": [
      "Epoch 81: Train loss = 0.03304204330268329, Train accuracy: 0.9856686622387654\n",
      "Epoch 81: Validation loss = 0.6249583774443829, Validation accuracy: 0.7910156688003829\n"
     ]
    },
    {
     "name": "stderr",
     "output_type": "stream",
     "text": [
      "Training: 100%|███████████████████████████████| 925/925 [04:28<00:00,  3.45it/s]\n",
      "Valid: 100%|██████████████████████████████████| 132/132 [00:28<00:00,  4.58it/s]\n"
     ]
    },
    {
     "name": "stdout",
     "output_type": "stream",
     "text": [
      "Epoch 82: Train loss = 0.030958655697672716, Train accuracy: 0.9869903018023517\n",
      "Epoch 82: Validation loss = 0.6232892146729159, Validation accuracy: 0.8180048330263658\n"
     ]
    },
    {
     "name": "stderr",
     "output_type": "stream",
     "text": [
      "Training: 100%|███████████████████████████████| 925/925 [04:29<00:00,  3.44it/s]\n",
      "Valid: 100%|██████████████████████████████████| 132/132 [00:29<00:00,  4.49it/s]\n"
     ]
    },
    {
     "name": "stdout",
     "output_type": "stream",
     "text": [
      "Epoch 83: Train loss = 0.030247021703383056, Train accuracy: 0.98635840886348\n",
      "Epoch 83: Validation loss = 0.5661686719818548, Validation accuracy: 0.8369272432544015\n"
     ]
    },
    {
     "name": "stderr",
     "output_type": "stream",
     "text": [
      "Training: 100%|███████████████████████████████| 925/925 [04:31<00:00,  3.41it/s]\n",
      "Valid: 100%|██████████████████████████████████| 132/132 [00:29<00:00,  4.51it/s]\n"
     ]
    },
    {
     "name": "stdout",
     "output_type": "stream",
     "text": [
      "Epoch 84: Train loss = 0.03231795111243185, Train accuracy: 0.9864160482303517\n",
      "Epoch 84: Validation loss = 0.5791063047098842, Validation accuracy: 0.8314395628192208\n"
     ]
    },
    {
     "name": "stderr",
     "output_type": "stream",
     "text": [
      "Training: 100%|███████████████████████████████| 925/925 [04:24<00:00,  3.49it/s]\n",
      "Valid: 100%|██████████████████████████████████| 132/132 [00:28<00:00,  4.61it/s]\n"
     ]
    },
    {
     "name": "stdout",
     "output_type": "stream",
     "text": [
      "Epoch 85: Train loss = 0.029775859743885292, Train accuracy: 0.9864698588525926\n",
      "Epoch 85: Validation loss = 0.6068244476266431, Validation accuracy: 0.8190622957366885\n"
     ]
    },
    {
     "name": "stderr",
     "output_type": "stream",
     "text": [
      "Training: 100%|███████████████████████████████| 925/925 [04:26<00:00,  3.46it/s]\n",
      "Valid: 100%|██████████████████████████████████| 132/132 [00:28<00:00,  4.66it/s]\n"
     ]
    },
    {
     "name": "stdout",
     "output_type": "stream",
     "text": [
      "Epoch 86: Train loss = 0.029018236582987075, Train accuracy: 0.9889299322463371\n",
      "Epoch 86: Validation loss = 0.5880533133379438, Validation accuracy: 0.8262170918963172\n"
     ]
    },
    {
     "name": "stderr",
     "output_type": "stream",
     "text": [
      "Training: 100%|███████████████████████████████| 925/925 [04:30<00:00,  3.42it/s]\n",
      "Valid: 100%|██████████████████████████████████| 132/132 [00:28<00:00,  4.59it/s]\n"
     ]
    },
    {
     "name": "stdout",
     "output_type": "stream",
     "text": [
      "Epoch 87: Train loss = 0.03067385255620261, Train accuracy: 0.9875777928893631\n",
      "Epoch 87: Validation loss = 0.6580567006586175, Validation accuracy: 0.8058184475609751\n"
     ]
    },
    {
     "name": "stderr",
     "output_type": "stream",
     "text": [
      "Training: 100%|███████████████████████████████| 925/925 [04:29<00:00,  3.43it/s]\n",
      "Valid: 100%|██████████████████████████████████| 132/132 [00:27<00:00,  4.76it/s]\n"
     ]
    },
    {
     "name": "stdout",
     "output_type": "stream",
     "text": [
      "Epoch 88: Train loss = 0.03040981289295077, Train accuracy: 0.9874830184756098\n",
      "Epoch 88: Validation loss = 0.6085241539686015, Validation accuracy: 0.8213929773280115\n"
     ]
    },
    {
     "name": "stderr",
     "output_type": "stream",
     "text": [
      "Training: 100%|███████████████████████████████| 925/925 [04:27<00:00,  3.46it/s]\n",
      "Valid: 100%|██████████████████████████████████| 132/132 [00:27<00:00,  4.72it/s]\n"
     ]
    },
    {
     "name": "stdout",
     "output_type": "stream",
     "text": [
      "Epoch 89: Train loss = 0.030525376576123243, Train accuracy: 0.9869693523484308\n",
      "Epoch 89: Validation loss = 0.6138708836991679, Validation accuracy: 0.8088984990661795\n"
     ]
    },
    {
     "name": "stderr",
     "output_type": "stream",
     "text": [
      "Training: 100%|███████████████████████████████| 925/925 [04:27<00:00,  3.45it/s]\n",
      "Valid: 100%|██████████████████████████████████| 132/132 [00:28<00:00,  4.70it/s]\n"
     ]
    },
    {
     "name": "stdout",
     "output_type": "stream",
     "text": [
      "Epoch 90: Train loss = 0.03222231907825099, Train accuracy: 0.9860053953608952\n",
      "Epoch 90: Validation loss = 0.60961381036252, Validation accuracy: 0.828488491249807\n"
     ]
    },
    {
     "name": "stderr",
     "output_type": "stream",
     "text": [
      "Training: 100%|███████████████████████████████| 925/925 [04:26<00:00,  3.47it/s]\n",
      "Valid: 100%|██████████████████████████████████| 132/132 [00:26<00:00,  4.92it/s]\n"
     ]
    },
    {
     "name": "stdout",
     "output_type": "stream",
     "text": [
      "Epoch 91: Train loss = 0.029999813253997597, Train accuracy: 0.987300122879647\n",
      "Epoch 91: Validation loss = 0.5299172535764448, Validation accuracy: 0.8350873092810313\n"
     ]
    },
    {
     "name": "stderr",
     "output_type": "stream",
     "text": [
      "Training: 100%|███████████████████████████████| 925/925 [04:27<00:00,  3.46it/s]\n",
      "Valid: 100%|██████████████████████████████████| 132/132 [00:27<00:00,  4.72it/s]\n"
     ]
    },
    {
     "name": "stdout",
     "output_type": "stream",
     "text": [
      "Epoch 92: Train loss = 0.029460494055529127, Train accuracy: 0.9875500155783988\n",
      "Epoch 92: Validation loss = 0.6198093713345852, Validation accuracy: 0.8153531962271893\n"
     ]
    },
    {
     "name": "stderr",
     "output_type": "stream",
     "text": [
      "Training: 100%|███████████████████████████████| 925/925 [04:22<00:00,  3.52it/s]\n",
      "Valid: 100%|██████████████████████████████████| 132/132 [00:27<00:00,  4.75it/s]\n"
     ]
    },
    {
     "name": "stdout",
     "output_type": "stream",
     "text": [
      "Epoch 93: Train loss = 0.030862428323818823, Train accuracy: 0.9853337791803721\n",
      "Epoch 93: Validation loss = 0.5447366225222746, Validation accuracy: 0.838598803137288\n"
     ]
    },
    {
     "name": "stderr",
     "output_type": "stream",
     "text": [
      "Training: 100%|███████████████████████████████| 925/925 [04:22<00:00,  3.52it/s]\n",
      "Valid: 100%|██████████████████████████████████| 132/132 [00:26<00:00,  4.89it/s]\n"
     ]
    },
    {
     "name": "stdout",
     "output_type": "stream",
     "text": [
      "Epoch 94: Train loss = 0.028996782881310808, Train accuracy: 0.9887267720377123\n",
      "Epoch 94: Validation loss = 0.5845527082230105, Validation accuracy: 0.8096277596372546\n"
     ]
    },
    {
     "name": "stderr",
     "output_type": "stream",
     "text": [
      "Training: 100%|███████████████████████████████| 925/925 [04:23<00:00,  3.51it/s]\n",
      "Valid: 100%|██████████████████████████████████| 132/132 [00:27<00:00,  4.73it/s]\n"
     ]
    },
    {
     "name": "stdout",
     "output_type": "stream",
     "text": [
      "Epoch 95: Train loss = 0.02524546244279623, Train accuracy: 0.989342822964127\n",
      "Epoch 95: Validation loss = 0.643171632803525, Validation accuracy: 0.8186942569234155\n"
     ]
    },
    {
     "name": "stderr",
     "output_type": "stream",
     "text": [
      "Training: 100%|███████████████████████████████| 925/925 [04:23<00:00,  3.51it/s]\n",
      "Valid: 100%|██████████████████████████████████| 132/132 [00:27<00:00,  4.82it/s]\n"
     ]
    },
    {
     "name": "stdout",
     "output_type": "stream",
     "text": [
      "Epoch 96: Train loss = 0.027352708260936984, Train accuracy: 0.9874921423680073\n",
      "Epoch 96: Validation loss = 0.5633012008091266, Validation accuracy: 0.837023985656825\n"
     ]
    },
    {
     "name": "stderr",
     "output_type": "stream",
     "text": [
      "Training: 100%|███████████████████████████████| 925/925 [04:23<00:00,  3.51it/s]\n",
      "Valid: 100%|██████████████████████████████████| 132/132 [00:26<00:00,  4.90it/s]\n"
     ]
    },
    {
     "name": "stdout",
     "output_type": "stream",
     "text": [
      "Epoch 97: Train loss = 0.026910120315654706, Train accuracy: 0.9887534035863104\n",
      "Epoch 97: Validation loss = 0.5507313436405226, Validation accuracy: 0.8394150174025333\n"
     ]
    },
    {
     "name": "stderr",
     "output_type": "stream",
     "text": [
      "Training: 100%|███████████████████████████████| 925/925 [04:25<00:00,  3.49it/s]\n",
      "Valid: 100%|██████████████████████████████████| 132/132 [00:28<00:00,  4.64it/s]\n"
     ]
    },
    {
     "name": "stdout",
     "output_type": "stream",
     "text": [
      "Epoch 98: Train loss = 0.024821704506140196, Train accuracy: 0.9887162517856907\n",
      "Epoch 98: Validation loss = 0.6246175933064837, Validation accuracy: 0.8219502803051111\n"
     ]
    },
    {
     "name": "stderr",
     "output_type": "stream",
     "text": [
      "Training: 100%|███████████████████████████████| 925/925 [04:25<00:00,  3.48it/s]\n",
      "Valid: 100%|██████████████████████████████████| 132/132 [00:26<00:00,  4.89it/s]\n"
     ]
    },
    {
     "name": "stdout",
     "output_type": "stream",
     "text": [
      "Epoch 99: Train loss = 0.027025638837819586, Train accuracy: 0.9869861563476356\n",
      "Epoch 99: Validation loss = 0.5682424438330627, Validation accuracy: 0.8392141086585594\n"
     ]
    },
    {
     "data": {
      "image/png": "[encoded data removed]",
      "text/plain": [
       "<Figure size 1500x700 with 2 Axes>"
      ]
     },
     "metadata": {},
     "output_type": "display_data"
    }
   ],
   "source": [
    "\"\"\"\n",
    "Thanh Le  16 April 2024\n",
    "How to train/fine-tune a pre-trained model on a custom dataset (i.e., transfer learning)\n",
    "\"\"\"\n",
    "import torch\n",
    "from torch import nn, save, load\n",
    "from tqdm import tqdm\n",
    "from torch.optim import Adam\n",
    "from torch.utils.data import DataLoader\n",
    "from torchvision.datasets import ImageFolder\n",
    "import torchvision.transforms as transforms\n",
    "from torchmetrics.functional import accuracy\n",
    "from torchvision.transforms import ToTensor, Resize\n",
    "import numpy as np\n",
    "import os\n",
    "import matplotlib.pyplot as plt\n",
    "\n",
    "# Setup CUDA\n",
    "def setup_cuda():\n",
    "    # Setting seeds for reproducibility\n",
    "    seed = 50\n",
    "    torch.backends.cudnn.enabled = True\n",
    "    torch.backends.cudnn.benchmark = True\n",
    "    np.random.seed(seed)\n",
    "    torch.manual_seed(seed)\n",
    "    if torch.cuda.is_available():\n",
    "        torch.cuda.manual_seed(seed)\n",
    "\n",
    "    return torch.device('cuda:0' if torch.cuda.is_available() else 'cpu')\n",
    "\n",
    "\n",
    "def train_model():\n",
    "    \"\"\"\n",
    "    Train the model over a single epoch\n",
    "    :return: training loss and training accuracy\n",
    "    \"\"\"\n",
    "    train_loss = 0.0\n",
    "    train_acc = 0.0\n",
    "    model.train()\n",
    "\n",
    "    for (img, label) in tqdm(train_loader, ncols=80, desc='Training'):\n",
    "        # Get a batch\n",
    "        img, label = img.to(device, dtype=torch.float), label.to(device, dtype=torch.long)\n",
    "\n",
    "        # Set the gradients to zero before starting backpropagation\n",
    "        optimizer.zero_grad()\n",
    "\n",
    "        # Perform a feed-forward pass\n",
    "        logits = model(img)\n",
    "\n",
    "        # Compute the batch loss\n",
    "        loss = loss_fn(logits, label)\n",
    "\n",
    "        # Compute gradient of the loss fn w.r.t the trainable weights\n",
    "        loss.backward()\n",
    "\n",
    "        # Update the trainable weights\n",
    "        optimizer.step()\n",
    "\n",
    "        # Accumulate the batch loss\n",
    "        train_loss += loss.item()\n",
    "\n",
    "        # Get the predictions to calculate the accuracy for every iteration. Remember to accumulate the accuracy\n",
    "        prediction = logits.argmax(axis=1)\n",
    "        train_acc += accuracy(prediction, label, task='multiclass', average='macro', num_classes=len(class_names)).item()\n",
    "\n",
    "    return train_loss / len(train_loader), train_acc / len(train_loader)\n",
    "\n",
    "\n",
    "def validate_model():\n",
    "    \"\"\"\n",
    "    Validate the model over a single epoch\n",
    "    :return: validation loss and validation accuracy\n",
    "    \"\"\"\n",
    "    model.eval()\n",
    "    valid_loss = 0.0\n",
    "    val_acc = 0.0\n",
    "\n",
    "    with torch.no_grad():\n",
    "        for (img, label) in tqdm(val_loader, ncols=80, desc='Valid'):\n",
    "            # Get a batch\n",
    "            img, label = img.to(device, dtype=torch.float), label.to(device, dtype=torch.long)\n",
    "\n",
    "            # Perform a feed-forward pass\n",
    "            logits = model(img)\n",
    "\n",
    "            # Compute the batch loss\n",
    "            loss = loss_fn(logits, label)\n",
    "\n",
    "            # Accumulate the batch loss\n",
    "            valid_loss += loss.item()\n",
    "\n",
    "            # Get the predictions to calculate the accuracy for every iteration. Remember to accumulate the accuracy\n",
    "            prediction = logits.argmax(axis=1)\n",
    "            val_acc += accuracy(prediction, label, task='multiclass', average='macro', num_classes=len(class_names)).item()\n",
    "\n",
    "    return valid_loss / len(val_loader), val_acc / len(val_loader)\n",
    "\n",
    "\n",
    "# Example plotting function\n",
    "\n",
    "def plot_metrics(train_losses, val_losses, train_accuracies, val_accuracies):\n",
    "    epochs = range(1, len(train_losses) + 1)\n",
    "    # Losses\n",
    "    plt.figure(figsize=(15, 7))\n",
    "    plt.subplot(2, 1, 1)\n",
    "    plt.plot(epochs, train_losses, label='Training Loss', color='blue')\n",
    "    plt.plot(epochs, val_losses, label='Validation Loss', color='red')\n",
    "    plt.xlabel('Epochs')\n",
    "    plt.ylabel('Loss')\n",
    "    plt.title('Training and Validation Loss')\n",
    "    plt.legend()\n",
    "    plt.yscale('log')  # Log scale can help for loss curves with large values\n",
    "\n",
    "    # Accuracies\n",
    "    plt.subplot(2, 1, 2)\n",
    "    plt.plot(epochs, train_accuracies, label='Training Accuracy', color='green')\n",
    "    plt.plot(epochs, val_accuracies, label='Validation Accuracy', color='orange')\n",
    "    plt.xlabel('Epochs')\n",
    "    plt.ylabel('Accuracy')\n",
    "    plt.title('Training and Validation Accuracy')\n",
    "    plt.legend()\n",
    "\n",
    "    plt.tight_layout()\n",
    "    # Save the figure to a file\n",
    "    plt.savefig(\"trainplot.png\")  # You can change the file name and format (e.g., .png, .jpg, .pdf)\n",
    "\n",
    "    plt.show()\n",
    "\n",
    "\n",
    "if __name__ == \"__main__\":\n",
    "    device = setup_cuda()\n",
    "\n",
    "    # 1. Load the dataset\n",
    "    transform = transforms.Compose([Resize((224, 224)), ToTensor()])\n",
    "    train_dataset = ImageFolder(root='/kaggle/input/dataset-split/dataset_split/train', transform=transform)\n",
    "    val_dataset = ImageFolder(root='/kaggle/input/dataset-split/dataset_split/val', transform=transform)\n",
    "    # Get class names\n",
    "    class_names = train_dataset.classes\n",
    "\n",
    "    # 2. Create data loaders\n",
    "    train_loader = DataLoader(train_dataset, batch_size=32, shuffle=True)\n",
    "    val_loader = DataLoader(val_dataset, batch_size=32, shuffle=True)\n",
    "\n",
    "    # 3. Create a new deep model without pre-trained weights\n",
    "    # from utils.seresnet18 import ResNet18\n",
    "    model = ResNet18(\n",
    "        num_classes=len(class_names),\n",
    "    ).to(device)\n",
    "\n",
    "    # 4. Specify loss function and optimizer\n",
    "    optimizer = Adam(model.parameters(), lr=1e-4)\n",
    "    loss_fn = torch.nn.CrossEntropyLoss()\n",
    "\n",
    "    # 5. Train the model with 100 epochs\n",
    "    # store the metrics for plotting\n",
    "    train_losses, val_losses, train_accuracies, val_accuracies = [], [], [], []\n",
    "\n",
    "    max_acc = 0\n",
    "    for epoch in range(100):\n",
    "\n",
    "        # 5.1. Train the model over a single epoch\n",
    "        train_loss, train_acc = train_model()\n",
    "        train_losses.append(train_loss)     # save train loss values\n",
    "        train_accuracies.append(train_acc)  # save train acc values\n",
    "\n",
    "        # 5.2. Validate the model after training\n",
    "        val_loss, val_acc = validate_model()\n",
    "        val_losses.append(val_loss)         # save val loss values\n",
    "        val_accuracies.append(val_acc)      # save val acc values\n",
    "\n",
    "        print(f'Epoch {epoch}: Train loss = {train_loss}, Train accuracy: {train_acc}')\n",
    "        print(f'Epoch {epoch}: Validation loss = {val_loss}, Validation accuracy: {val_acc}')\n",
    "\n",
    "        # 4.3. Save the model if the validation accuracy is increasing\n",
    "        if val_acc > max_acc:\n",
    "            print(f'Validation accuracy increased ({max_acc} --> {val_acc}). Model saved')\n",
    "            folder_path = 'checkpoints_resnet18'  # Define the folder name\n",
    "            if not os.path.exists(folder_path):\n",
    "                os.makedirs(folder_path)  # Create the folder if it does not exist\n",
    "            file_path = os.path.join(folder_path,\n",
    "                                     'resnet18_epoch_' + str(epoch) + '_acc_{0:.4f}'.format(val_acc) + '.pt')\n",
    "            with open(file_path, 'wb') as f:\n",
    "                save(model.state_dict(), f)\n",
    "            max_acc = val_acc\n",
    "\n",
    "# After training is complete, plot the metrics\n",
    "plot_metrics(train_losses, val_losses, train_accuracies, val_accuracies)"
   ]
  },
  {
   "cell_type": "markdown",
   "id": "e85635c0",
   "metadata": {
    "papermill": {
     "duration": 5.79434,
     "end_time": "2025-03-27T23:48:27.072372",
     "exception": false,
     "start_time": "2025-03-27T23:48:21.278032",
     "status": "completed"
    },
    "tags": []
   },
   "source": [
    "# Testing for Resnet18"
   ]
  },
  {
   "cell_type": "code",
   "execution_count": 3,
   "id": "00d95ac2",
   "metadata": {
    "execution": {
     "iopub.execute_input": "2025-03-27T23:48:39.457190Z",
     "iopub.status.busy": "2025-03-27T23:48:39.456703Z",
     "iopub.status.idle": "2025-03-27T23:48:39.461621Z",
     "shell.execute_reply": "2025-03-27T23:48:39.460866Z"
    },
    "papermill": {
     "duration": 6.217423,
     "end_time": "2025-03-27T23:48:39.462969",
     "exception": false,
     "start_time": "2025-03-27T23:48:33.245546",
     "status": "completed"
    },
    "tags": []
   },
   "outputs": [],
   "source": [
    "# import torch\n",
    "# from torch import nn, save, load\n",
    "# from tqdm import tqdm\n",
    "# from torch.optim import Adam\n",
    "# from torch.utils.data import DataLoader\n",
    "# from torchvision.datasets import ImageFolder\n",
    "# import torchvision.transforms as transforms\n",
    "# from torchmetrics.functional import accuracy\n",
    "# from torchvision.transforms import ToTensor, Resize\n",
    "# import numpy as np\n",
    "# import os\n",
    "# from PIL import Image\n",
    "# import matplotlib.pyplot as plt\n",
    "\n",
    "# # Thiết lập biến cần thiết\n",
    "# train_dir = '/kaggle/input/dataset-split/dataset_split/train'\n",
    "# test_dir = '/kaggle/input/dataset-split/dataset_split/test'\n",
    "# valid_dir = '/kaggle/input/dataset-split/dataset_split/val'\n",
    "# NUM_WORKERS = os.cpu_count()\n",
    "# BATCH_SIZE = 32\n",
    "# IMG_SIZE = 224\n",
    "# manual_transforms = transforms.Compose([\n",
    "#     transforms.Resize((IMG_SIZE, IMG_SIZE)),\n",
    "#     transforms.ToTensor(),\n",
    "# ])\n",
    "# patch_size = 16\n",
    "# CLASS = {} # KHONG CAN\n",
    "\n",
    "\n",
    "# # Thiết lập thiết bị (GPU hoặc CPU)\n",
    "# def setup_cuda():\n",
    "#     torch.backends.cudnn.enabled = True\n",
    "#     torch.backends.cudnn.benchmark = True\n",
    "#     device = torch.device('cuda:0' if torch.cuda.is_available() else 'cpu')\n",
    "#     return device\n",
    "\n",
    "\n",
    "# device = setup_cuda()\n",
    "\n",
    "# # Thiết lập các transform để xử lý ảnh\n",
    "# manual_transforms = transforms.Compose([\n",
    "#     transforms.Resize((IMG_SIZE, IMG_SIZE)),\n",
    "#     transforms.ToTensor(),\n",
    "# ])\n",
    "\n",
    "\n",
    "# # Hàm dự đoán kết quả cho một hình ảnh\n",
    "# def predict_image(image_path, model, transform, class_names, device):\n",
    "#     model.eval()\n",
    "#     img = Image.open(image_path).convert('RGB')\n",
    "#     img_tensor = transform(img).unsqueeze(0).to(device)\n",
    "#     with torch.no_grad():\n",
    "#         output = model(img_tensor)\n",
    "#         _, predicted_class = torch.max(output, 1)\n",
    "#     predicted_label = class_names[predicted_class.item()]\n",
    "#     return img, predicted_label\n",
    "\n",
    "\n",
    "# # Hàm chính để dự đoán các hình ảnh trong tập test\n",
    "# def test_model():\n",
    "#     # 1. Tải dữ liệu và lớp từ tập train\n",
    "#     transform = transforms.Compose([Resize((224, 224)), ToTensor()])\n",
    "#     train_dataset = ImageFolder(root='/kaggle/input/dataset-split/dataset_split/train', transform=transform)\n",
    "#     test_dataset = ImageFolder(root='/kaggle/input/dataset-split/dataset_split/test', transform=transform)\n",
    "#     print(f\"Tổng số ảnh trong tập test: {len(test_dataset.imgs)}\")\n",
    "    \n",
    "#     # Get class names\n",
    "#     class_names = train_dataset.classes\n",
    "\n",
    "#     # 2. Tạo mô hình ViT và tải trạng thái từ checkpoint\n",
    "#     # from utils.resnet18 import ResNet18\n",
    "\n",
    "#     model = ResNet18(\n",
    "#         num_classes=len(class_names),\n",
    "#     ).to(device)\n",
    "\n",
    "#     folder_checkpoint = 'checkpoints_resnet18'  # Define the folder name\n",
    "#     file_name = '/kaggle/input/resnet-train-acc/ResNet_train_acc/resnet18_epoch_10_acc_0.7310.pt' #best weight\n",
    "#     file_checkpoint = os.path.join(folder_checkpoint, file_name)  # lay best weight\n",
    "#     model.load_state_dict(torch.load(file_checkpoint, device))\n",
    "#     print('Model loaded from checkpoint.')\n",
    "#     # Ensure the output directory exists\n",
    "#     output_dir = \"output_resnet18\"\n",
    "#     os.makedirs(output_dir, exist_ok=True)\n",
    "\n",
    "#     # 3. Dự đoán kết quả cho mỗi hình ảnh trong tập test\n",
    "#     for image_path in tqdm(test_dataset.imgs, desc='Testing'):\n",
    "#         img, predicted_label = predict_image(image_path[0], model, manual_transforms, class_names, device)\n",
    "#         # plt.imshow(img)\n",
    "#         # plt.title(f'Predicted: {predicted_label}')\n",
    "#         # plt.show()\n",
    "\n",
    "#         # Convert the tensor image back to a PIL image if necessary\n",
    "#         if isinstance(img, torch.Tensor):\n",
    "#             img = transforms.ToPILImage()(img)\n",
    "\n",
    "#         # Create a plot\n",
    "#         fig, ax = plt.subplots()\n",
    "\n",
    "#         # Set white background\n",
    "#         fig.patch.set_facecolor('white')\n",
    "#         ax.set_facecolor('white')\n",
    "\n",
    "#         # Remove axis\n",
    "#         ax.axis('off')\n",
    "\n",
    "#         # Display the image\n",
    "#         ax.imshow(img)\n",
    "\n",
    "#         # Add the predicted label as the title\n",
    "#         ax.set_title(f'Predicted: {predicted_label}', fontsize=12, pad=10)\n",
    "\n",
    "#         # Save the figure\n",
    "#         image_basename = os.path.basename(image_path[0])\n",
    "#         image_name, image_ext = os.path.splitext(image_basename)\n",
    "#         output_image_path = os.path.join(output_dir, f\"{image_name}_pred_{predicted_label}.png\")\n",
    "\n",
    "#         plt.savefig(output_image_path, bbox_inches='tight', pad_inches=0.1)\n",
    "#         plt.close(fig)\n",
    "\n",
    "\n",
    "# if __name__ == '__main__':\n",
    "#     test_model()\n"
   ]
  },
  {
   "cell_type": "code",
   "execution_count": 4,
   "id": "42548990",
   "metadata": {
    "execution": {
     "iopub.execute_input": "2025-03-27T23:48:51.524849Z",
     "iopub.status.busy": "2025-03-27T23:48:51.524519Z",
     "iopub.status.idle": "2025-03-27T23:48:51.527845Z",
     "shell.execute_reply": "2025-03-27T23:48:51.527108Z"
    },
    "papermill": {
     "duration": 6.142669,
     "end_time": "2025-03-27T23:48:51.529190",
     "exception": false,
     "start_time": "2025-03-27T23:48:45.386521",
     "status": "completed"
    },
    "tags": []
   },
   "outputs": [],
   "source": [
    "# import shutil\n",
    "\n",
    "# # Nén thư mục output_resnet18 thành file output_images.zip\n",
    "# shutil.make_archive(\"/kaggle/working/output_images\", 'zip', \"/kaggle/working/output_resnet18\")\n",
    "\n",
    "# # Sau đó hiển thị link tải\n",
    "# from IPython.display import FileLink\n",
    "# FileLink(r'/kaggle/working/output_images.zip')\n"
   ]
  },
  {
   "cell_type": "code",
   "execution_count": 5,
   "id": "e352191d",
   "metadata": {
    "execution": {
     "iopub.execute_input": "2025-03-27T23:49:03.434364Z",
     "iopub.status.busy": "2025-03-27T23:49:03.434030Z",
     "iopub.status.idle": "2025-03-27T23:49:03.437838Z",
     "shell.execute_reply": "2025-03-27T23:49:03.437080Z"
    },
    "papermill": {
     "duration": 6.014052,
     "end_time": "2025-03-27T23:49:03.439198",
     "exception": false,
     "start_time": "2025-03-27T23:48:57.425146",
     "status": "completed"
    },
    "tags": []
   },
   "outputs": [],
   "source": [
    "# import cv2\n",
    "# import os\n",
    "# from glob import glob\n",
    "\n",
    "# def create_video_from_images(image_folder, output_video_path, fps=10):\n",
    "#     # Lấy danh sách ảnh trong thư mục (sắp xếp theo tên)\n",
    "#     image_paths = sorted(glob(os.path.join(image_folder, \"*.png\")))\n",
    "\n",
    "#     if not image_paths:\n",
    "#         print(\"Không tìm thấy ảnh để tạo video.\")\n",
    "#         return\n",
    "\n",
    "#     # Đọc ảnh đầu tiên để lấy kích thước\n",
    "#     frame = cv2.imread(image_paths[0])\n",
    "#     height, width, _ = frame.shape\n",
    "\n",
    "#     # Khởi tạo VideoWriter\n",
    "#     fourcc = cv2.VideoWriter_fourcc(*'mp4v')  # Codec video\n",
    "#     out = cv2.VideoWriter(output_video_path, fourcc, fps, (width, height))\n",
    "\n",
    "#     # Ghi từng ảnh vào video\n",
    "#     for img_path in image_paths:\n",
    "#         img = cv2.imread(img_path)\n",
    "#         out.write(img)\n",
    "\n",
    "#     out.release()\n",
    "#     print(f\" Video đã được lưu tại: {output_video_path}\")\n",
    "\n",
    "# # Chạy hàm để tạo video\n",
    "# output_video_path = \"/kaggle/working/output_video.mp4\"\n",
    "# create_video_from_images(\"output_resnet18\", output_video_path)\n"
   ]
  },
  {
   "cell_type": "code",
   "execution_count": 6,
   "id": "efefe742",
   "metadata": {
    "execution": {
     "iopub.execute_input": "2025-03-27T23:49:15.497898Z",
     "iopub.status.busy": "2025-03-27T23:49:15.497565Z",
     "iopub.status.idle": "2025-03-27T23:49:15.500930Z",
     "shell.execute_reply": "2025-03-27T23:49:15.500061Z"
    },
    "papermill": {
     "duration": 5.887909,
     "end_time": "2025-03-27T23:49:15.502252",
     "exception": false,
     "start_time": "2025-03-27T23:49:09.614343",
     "status": "completed"
    },
    "tags": []
   },
   "outputs": [],
   "source": [
    "# from IPython.display import FileLink\n",
    "# FileLink(r'/kaggle/working/output_video.mp4')\n"
   ]
  },
  {
   "cell_type": "markdown",
   "id": "9c14c3ab",
   "metadata": {
    "papermill": {
     "duration": 5.884383,
     "end_time": "2025-03-27T23:49:27.511065",
     "exception": false,
     "start_time": "2025-03-27T23:49:21.626682",
     "status": "completed"
    },
    "tags": []
   },
   "source": [
    "# SEBLOCK"
   ]
  },
  {
   "cell_type": "code",
   "execution_count": 7,
   "id": "d94951fc",
   "metadata": {
    "execution": {
     "iopub.execute_input": "2025-03-27T23:49:39.839697Z",
     "iopub.status.busy": "2025-03-27T23:49:39.839340Z",
     "iopub.status.idle": "2025-03-27T23:49:39.843076Z",
     "shell.execute_reply": "2025-03-27T23:49:39.842179Z"
    },
    "papermill": {
     "duration": 6.148502,
     "end_time": "2025-03-27T23:49:39.844628",
     "exception": false,
     "start_time": "2025-03-27T23:49:33.696126",
     "status": "completed"
    },
    "tags": []
   },
   "outputs": [],
   "source": [
    "# import torch.nn as nn\n",
    "\n",
    "# class SE_Block(nn.Module):\n",
    "#     def __init__(self, c, r=16):\n",
    "#         super(SE_Block, self).__init__()\n",
    "#         self.squeeze = nn.AdaptiveAvgPool2d(1)\n",
    "#         self.excitation = nn.Sequential(\n",
    "#             nn.Linear(c, c // r, bias=False),\n",
    "#             nn.ReLU(inplace=True),\n",
    "#             nn.Linear(c // r, c, bias=False),\n",
    "#             nn.Sigmoid()\n",
    "#         )\n",
    "\n",
    "#     def forward(self, x):\n",
    "#         bs, c, _, _ = x.size()\n",
    "#         y = self.squeeze(x).view(bs, c)\n",
    "#         y = self.excitation(y).view(bs, c, 1, 1)\n",
    "#         return x * y.expand_as(x)"
   ]
  },
  {
   "cell_type": "markdown",
   "id": "a9917048",
   "metadata": {
    "papermill": {
     "duration": 6.093224,
     "end_time": "2025-03-27T23:49:51.859929",
     "exception": false,
     "start_time": "2025-03-27T23:49:45.766705",
     "status": "completed"
    },
    "tags": []
   },
   "source": [
    "# SEBLOCK + Resnet18"
   ]
  },
  {
   "cell_type": "code",
   "execution_count": 8,
   "id": "c325e917",
   "metadata": {
    "execution": {
     "iopub.execute_input": "2025-03-27T23:50:03.884788Z",
     "iopub.status.busy": "2025-03-27T23:50:03.884305Z",
     "iopub.status.idle": "2025-03-27T23:50:03.891627Z",
     "shell.execute_reply": "2025-03-27T23:50:03.890671Z"
    },
    "papermill": {
     "duration": 6.144602,
     "end_time": "2025-03-27T23:50:03.893436",
     "exception": false,
     "start_time": "2025-03-27T23:49:57.748834",
     "status": "completed"
    },
    "tags": []
   },
   "outputs": [],
   "source": [
    "# import torch\n",
    "# import torch.nn as nn\n",
    "# import torch.nn.functional as F\n",
    "\n",
    "\n",
    "# class SEBlock(nn.Module):\n",
    "#     def __init__(self, input_channels, reduction_ratio=16):\n",
    "#         super(SEBlock, self).__init__()\n",
    "#         self.avg_pool = nn.AdaptiveAvgPool2d(1)\n",
    "#         self.fc1 = nn.Linear(input_channels, input_channels // reduction_ratio, bias=False)\n",
    "#         self.relu = nn.ReLU(inplace=True)\n",
    "#         self.fc2 = nn.Linear(input_channels // reduction_ratio, input_channels, bias=False)\n",
    "#         self.sigmoid = nn.Sigmoid()\n",
    "\n",
    "#     def forward(self, x):\n",
    "#         batch_size, channels, _, _ = x.size()\n",
    "#         y = self.avg_pool(x).view(batch_size, channels)\n",
    "#         y = self.fc1(y)\n",
    "#         y = self.relu(y)\n",
    "#         y = self.fc2(y)\n",
    "#         y = self.sigmoid(y).view(batch_size, channels, 1, 1)\n",
    "#         return x * y.expand_as(x)\n",
    "\n",
    "\n",
    "# class SEResNet18(nn.Module):\n",
    "#     def __init__(self, num_classes):\n",
    "#         super(SEResNet18, self).__init__()\n",
    "\n",
    "#         self.dropout_percentage = 0.5\n",
    "#         self.relu = nn.ReLU()\n",
    "\n",
    "#         # BLOCK-1 (starting block) input=(224x224) output=(56x56)\n",
    "#         self.conv1 = nn.Conv2d(in_channels=3, out_channels=64, kernel_size=(7, 7), stride=(2, 2), padding=(3, 3))\n",
    "#         self.batchnorm1 = nn.BatchNorm2d(64)\n",
    "#         self.maxpool1 = nn.MaxPool2d(kernel_size=(3, 3), stride=(2, 2), padding=(1, 1))\n",
    "\n",
    "#         # BLOCK-2 (1) input=(56x56) output = (56x56)\n",
    "#         self.conv2_1_1 = nn.Conv2d(in_channels=64, out_channels=64, kernel_size=(3, 3), stride=(1, 1), padding=(1, 1))\n",
    "#         self.batchnorm2_1_1 = nn.BatchNorm2d(64)\n",
    "#         self.conv2_1_2 = nn.Conv2d(in_channels=64, out_channels=64, kernel_size=(3, 3), stride=(1, 1), padding=(1, 1))\n",
    "#         self.batchnorm2_1_2 = nn.BatchNorm2d(64)\n",
    "#         self.dropout2_1 = nn.Dropout(p=self.dropout_percentage)\n",
    "#         self.se2_1 = SEBlock(64)\n",
    "\n",
    "#         # BLOCK-2 (2)\n",
    "#         self.conv2_2_1 = nn.Conv2d(in_channels=64, out_channels=64, kernel_size=(3, 3), stride=(1, 1), padding=(1, 1))\n",
    "#         self.batchnorm2_2_1 = nn.BatchNorm2d(64)\n",
    "#         self.conv2_2_2 = nn.Conv2d(in_channels=64, out_channels=64, kernel_size=(3, 3), stride=(1, 1), padding=(1, 1))\n",
    "#         self.batchnorm2_2_2 = nn.BatchNorm2d(64)\n",
    "#         self.dropout2_2 = nn.Dropout(p=self.dropout_percentage)\n",
    "#         self.se2_2 = SEBlock(64)\n",
    "\n",
    "#         # BLOCK-3 (1) input=(56x56) output = (28x28)\n",
    "#         self.conv3_1_1 = nn.Conv2d(in_channels=64, out_channels=128, kernel_size=(3, 3), stride=(2, 2), padding=(1, 1))\n",
    "#         self.batchnorm3_1_1 = nn.BatchNorm2d(128)\n",
    "#         self.conv3_1_2 = nn.Conv2d(in_channels=128, out_channels=128, kernel_size=(3, 3), stride=(1, 1), padding=(1, 1))\n",
    "#         self.batchnorm3_1_2 = nn.BatchNorm2d(128)\n",
    "#         self.concat_adjust_3 = nn.Conv2d(in_channels=64, out_channels=128, kernel_size=(1, 1), stride=(2, 2),\n",
    "#                                          padding=(0, 0))\n",
    "#         self.dropout3_1 = nn.Dropout(p=self.dropout_percentage)\n",
    "#         self.se3_1 = SEBlock(128)\n",
    "\n",
    "#         # BLOCK-3 (2)\n",
    "#         self.conv3_2_1 = nn.Conv2d(in_channels=128, out_channels=128, kernel_size=(3, 3), stride=(1, 1), padding=(1, 1))\n",
    "#         self.batchnorm3_2_1 = nn.BatchNorm2d(128)\n",
    "#         self.conv3_2_2 = nn.Conv2d(in_channels=128, out_channels=128, kernel_size=(3, 3), stride=(1, 1), padding=(1, 1))\n",
    "#         self.batchnorm3_2_2 = nn.BatchNorm2d(128)\n",
    "#         self.dropout3_2 = nn.Dropout(p=self.dropout_percentage)\n",
    "#         self.se3_2 = SEBlock(128)\n",
    "\n",
    "#         # BLOCK-4 (1) input=(28x28) output = (14x14)\n",
    "#         self.conv4_1_1 = nn.Conv2d(in_channels=128, out_channels=256, kernel_size=(3, 3), stride=(2, 2), padding=(1, 1))\n",
    "#         self.batchnorm4_1_1 = nn.BatchNorm2d(256)\n",
    "#         self.conv4_1_2 = nn.Conv2d(in_channels=256, out_channels=256, kernel_size=(3, 3), stride=(1, 1), padding=(1, 1))\n",
    "#         self.batchnorm4_1_2 = nn.BatchNorm2d(256)\n",
    "#         self.concat_adjust_4 = nn.Conv2d(in_channels=128, out_channels=256, kernel_size=(1, 1), stride=(2, 2),\n",
    "#                                          padding=(0, 0))\n",
    "#         self.dropout4_1 = nn.Dropout(p=self.dropout_percentage)\n",
    "#         self.se4_1 = SEBlock(256)\n",
    "\n",
    "#         # BLOCK-4 (2)\n",
    "#         self.conv4_2_1 = nn.Conv2d(in_channels=256, out_channels=256, kernel_size=(3, 3), stride=(1, 1), padding=(1, 1))\n",
    "#         self.batchnorm4_2_1 = nn.BatchNorm2d(256)\n",
    "#         self.conv4_2_2 = nn.Conv2d(in_channels=256, out_channels=256, kernel_size=(3, 3), stride=(1, 1), padding=(1, 1))\n",
    "#         self.batchnorm4_2_2 = nn.BatchNorm2d(256)\n",
    "#         self.dropout4_2 = nn.Dropout(p=self.dropout_percentage)\n",
    "#         self.se4_2 = SEBlock(256)\n",
    "\n",
    "#         # BLOCK-5 (1) input=(14x14) output = (7x7)\n",
    "#         self.conv5_1_1 = nn.Conv2d(in_channels=256, out_channels=512, kernel_size=(3, 3), stride=(2, 2), padding=(1, 1))\n",
    "#         self.batchnorm5_1_1 = nn.BatchNorm2d(512)\n",
    "#         self.conv5_1_2 = nn.Conv2d(in_channels=512, out_channels=512, kernel_size=(3, 3), stride=(1, 1), padding=(1, 1))\n",
    "#         self.batchnorm5_1_2 = nn.BatchNorm2d(512)\n",
    "#         self.concat_adjust_5 = nn.Conv2d(in_channels=256, out_channels=512, kernel_size=(1, 1), stride=(2, 2),\n",
    "#                                          padding=(0, 0))\n",
    "#         self.dropout5_1 = nn.Dropout(p=self.dropout_percentage)\n",
    "#         self.se5_1 = SEBlock(512)\n",
    "\n",
    "#         # BLOCK-5 (2)\n",
    "#         self.conv5_2_1 = nn.Conv2d(in_channels=512, out_channels=512, kernel_size=(3, 3), stride=(1, 1), padding=(1, 1))\n",
    "#         self.batchnorm5_2_1 = nn.BatchNorm2d(512)\n",
    "#         self.conv5_2_2 = nn.Conv2d(in_channels=512, out_channels=512, kernel_size=(3, 3), stride=(1, 1), padding=(1, 1))\n",
    "#         self.batchnorm5_2_2 = nn.BatchNorm2d(512)\n",
    "#         self.dropout5_2 = nn.Dropout(p=self.dropout_percentage)\n",
    "#         self.se5_2 = SEBlock(512)\n",
    "\n",
    "#         # Final Block input=(7x7)\n",
    "#         self.avgpool = nn.AvgPool2d(kernel_size=(7, 7), stride=(1, 1))\n",
    "#         self.fc = nn.Linear(in_features=1 * 1 * 512, out_features=1000)\n",
    "#         self.out = nn.Linear(in_features=1000, out_features=num_classes)\n",
    "#         # END\n",
    "\n",
    "#     def forward(self, x):\n",
    "#         # block 1 --> Starting block\n",
    "#         x = self.relu(self.batchnorm1(self.conv1(x)))\n",
    "#         op1 = self.maxpool1(x)\n",
    "\n",
    "#         # block2 - 1\n",
    "#         x = self.relu(self.batchnorm2_1_1(self.conv2_1_1(op1)))  # conv2_1\n",
    "#         x = self.batchnorm2_1_2(self.conv2_1_2(x))  # conv2_1\n",
    "#         x = self.dropout2_1(x)\n",
    "#         x = self.se2_1(x)\n",
    "#         # block2 - Adjust - No adjust in this layer as dimensions are already same\n",
    "#         # block2 - Concatenate 1\n",
    "#         op2_1 = self.relu(x + op1)\n",
    "#         # block2 - 2\n",
    "#         x = self.relu(self.batchnorm2_2_1(self.conv2_2_1(op2_1)))  # conv2_2\n",
    "#         x = self.batchnorm2_2_2(self.conv2_2_2(x))  # conv2_2\n",
    "#         x = self.dropout2_2(x)\n",
    "#         x = self.se2_2(x)\n",
    "#         # op - block2\n",
    "#         op2 = self.relu(x + op2_1)\n",
    "\n",
    "#         # block3 - 1[Convolution block]\n",
    "#         x = self.relu(self.batchnorm3_1_1(self.conv3_1_1(op2)))  # conv3_1\n",
    "#         x = self.batchnorm3_1_2(self.conv3_1_2(x))  # conv3_1\n",
    "#         x = self.dropout3_1(x)\n",
    "#         x = self.se3_1(x)\n",
    "#         # block3 - Adjust\n",
    "#         op2 = self.concat_adjust_3(op2)  # SKIP CONNECTION\n",
    "#         # block3 - Concatenate 1\n",
    "#         op3_1 = self.relu(x + op2)\n",
    "#         # block3 - 2[Identity Block]\n",
    "#         x = self.relu(self.batchnorm3_2_1(self.conv3_2_1(op3_1)))  # conv3_2\n",
    "#         x = self.batchnorm3_2_2(self.conv3_2_2(x))  # conv3_2\n",
    "#         x = self.dropout3_2(x)\n",
    "#         x = self.se3_2(x)\n",
    "#         # op - block3\n",
    "#         op3 = self.relu(x + op3_1)\n",
    "\n",
    "#         # block4 - 1[Convolition block]\n",
    "#         x = self.relu(self.batchnorm4_1_1(self.conv4_1_1(op3)))  # conv4_1\n",
    "#         x = self.batchnorm4_1_2(self.conv4_1_2(x))  # conv4_1\n",
    "#         x = self.dropout4_1(x)\n",
    "#         x = self.se4_1(x)\n",
    "#         # block4 - Adjust\n",
    "#         op3 = self.concat_adjust_4(op3)  # SKIP CONNECTION\n",
    "#         # block4 - Concatenate 1\n",
    "#         op4_1 = self.relu(x + op3)\n",
    "#         # block4 - 2[Identity Block]\n",
    "#         x = self.relu(self.batchnorm4_2_1(self.conv4_2_1(op4_1)))  # conv4_2\n",
    "#         x = self.batchnorm4_2_2(self.conv4_2_2(x))  # conv4_2\n",
    "#         x = self.dropout4_2(x)\n",
    "#         x = self.se4_2(x)\n",
    "#         # op - block4\n",
    "#         op4 = self.relu(x + op4_1)\n",
    "\n",
    "#         # block5 - 1[Convolution Block]\n",
    "#         x = self.relu(self.batchnorm5_1_1(self.conv5_1_1(op4)))  # conv5_1\n",
    "#         x = self.batchnorm5_1_2(self.conv5_1_2(x))  # conv5_1\n",
    "#         x = self.dropout5_1(x)\n",
    "#         x = self.se5_1(x)\n",
    "#         # block5 - Adjust\n",
    "#         op4 = self.concat_adjust_5(op4)  # SKIP CONNECTION\n",
    "#         # block5 - Concatenate 1\n",
    "#         op5_1 = self.relu(x + op4)\n",
    "#         # block5 - 2[Identity Block]\n",
    "#         x = self.relu(self.batchnorm5_2_1(self.conv5_2_1(op5_1)))  # conv5_2\n",
    "#         x = self.batchnorm5_2_2(self.conv5_2_2(x))  # conv5_2\n",
    "#         x = self.dropout5_2(x)\n",
    "#         x = self.se5_2(x)\n",
    "#         # op - block5\n",
    "#         op5 = self.relu(x + op5_1)\n",
    "\n",
    "#         # FINAL BLOCK - classifier\n",
    "#         x = self.avgpool(op5)\n",
    "#         x = x.reshape(x.shape[0], -1)\n",
    "#         x = self.relu(self.fc(x))\n",
    "#         x = self.out(x)\n",
    "\n",
    "#         return x\n"
   ]
  },
  {
   "cell_type": "markdown",
   "id": "6cf01d5e",
   "metadata": {
    "papermill": {
     "duration": 6.079837,
     "end_time": "2025-03-27T23:50:15.957404",
     "exception": false,
     "start_time": "2025-03-27T23:50:09.877567",
     "status": "completed"
    },
    "tags": []
   },
   "source": [
    "# Train SEBLock"
   ]
  },
  {
   "cell_type": "code",
   "execution_count": 9,
   "id": "09cc20eb",
   "metadata": {
    "execution": {
     "iopub.execute_input": "2025-03-27T23:50:28.014048Z",
     "iopub.status.busy": "2025-03-27T23:50:28.013700Z",
     "iopub.status.idle": "2025-03-27T23:50:28.019303Z",
     "shell.execute_reply": "2025-03-27T23:50:28.018500Z"
    },
    "papermill": {
     "duration": 5.863568,
     "end_time": "2025-03-27T23:50:28.020809",
     "exception": false,
     "start_time": "2025-03-27T23:50:22.157241",
     "status": "completed"
    },
    "tags": []
   },
   "outputs": [],
   "source": [
    "# \"\"\"\n",
    "# Thanh Le  16 April 2024\n",
    "# How to train/fine-tune a pre-trained model on a custom dataset (i.e., transfer learning)\n",
    "# \"\"\"\n",
    "# import torch\n",
    "# from torch import nn, save, load\n",
    "# from tqdm import tqdm\n",
    "# from torch.optim import Adam\n",
    "# from torch.utils.data import DataLoader\n",
    "# from torchvision.datasets import ImageFolder\n",
    "# import torchvision.transforms as transforms\n",
    "# from torchmetrics.functional import accuracy\n",
    "# from torchvision.transforms import ToTensor, Resize\n",
    "# import numpy as np\n",
    "# import os\n",
    "# import matplotlib.pyplot as plt\n",
    "\n",
    "# # Setup CUDA\n",
    "# def setup_cuda():\n",
    "#     # Setting seeds for reproducibility\n",
    "#     seed = 50\n",
    "#     torch.backends.cudnn.enabled = True\n",
    "#     torch.backends.cudnn.benchmark = True\n",
    "#     np.random.seed(seed)\n",
    "#     torch.manual_seed(seed)\n",
    "#     if torch.cuda.is_available():\n",
    "#         torch.cuda.manual_seed(seed)\n",
    "\n",
    "#     return torch.device('cuda:0' if torch.cuda.is_available() else 'cpu')\n",
    "\n",
    "\n",
    "# def train_model():\n",
    "#     \"\"\"\n",
    "#     Train the model over a single epoch\n",
    "#     :return: training loss and training accuracy\n",
    "#     \"\"\"\n",
    "#     train_loss = 0.0\n",
    "#     train_acc = 0.0\n",
    "#     model.train()\n",
    "\n",
    "#     for (img, label) in tqdm(train_loader, ncols=80, desc='Training'):\n",
    "#         # Get a batch\n",
    "#         img, label = img.to(device, dtype=torch.float), label.to(device, dtype=torch.long)\n",
    "\n",
    "#         # Set the gradients to zero before starting backpropagation\n",
    "#         optimizer.zero_grad()\n",
    "\n",
    "#         # Perform a feed-forward pass\n",
    "#         logits = model(img)\n",
    "\n",
    "#         # Compute the batch loss\n",
    "#         loss = loss_fn(logits, label)\n",
    "\n",
    "#         # Compute gradient of the loss fn w.r.t the trainable weights\n",
    "#         loss.backward()\n",
    "\n",
    "#         # Update the trainable weights\n",
    "#         optimizer.step()\n",
    "\n",
    "#         # Accumulate the batch loss\n",
    "#         train_loss += loss.item()\n",
    "\n",
    "#         # Get the predictions to calculate the accuracy for every iteration. Remember to accumulate the accuracy\n",
    "#         prediction = logits.argmax(axis=1)\n",
    "#         train_acc += accuracy(prediction, label, task='multiclass', average='macro', num_classes=len(class_names)).item()\n",
    "\n",
    "#     return train_loss / len(train_loader), train_acc / len(train_loader)\n",
    "\n",
    "\n",
    "# def validate_model():\n",
    "#     \"\"\"\n",
    "#     Validate the model over a single epoch\n",
    "#     :return: validation loss and validation accuracy\n",
    "#     \"\"\"\n",
    "#     model.eval()\n",
    "#     valid_loss = 0.0\n",
    "#     val_acc = 0.0\n",
    "\n",
    "#     with torch.no_grad():\n",
    "#         for (img, label) in tqdm(val_loader, ncols=80, desc='Valid'):\n",
    "#             # Get a batch\n",
    "#             img, label = img.to(device, dtype=torch.float), label.to(device, dtype=torch.long)\n",
    "\n",
    "#             # Perform a feed-forward pass\n",
    "#             logits = model(img)\n",
    "\n",
    "#             # Compute the batch loss\n",
    "#             loss = loss_fn(logits, label)\n",
    "\n",
    "#             # Accumulate the batch loss\n",
    "#             valid_loss += loss.item()\n",
    "\n",
    "#             # Get the predictions to calculate the accuracy for every iteration. Remember to accumulate the accuracy\n",
    "#             prediction = logits.argmax(axis=1)\n",
    "#             val_acc += accuracy(prediction, label, task='multiclass', average='macro', num_classes=len(class_names)).item()\n",
    "\n",
    "#     return valid_loss / len(val_loader), val_acc / len(val_loader)\n",
    "\n",
    "# # Example plotting function\n",
    "\n",
    "# def plot_metrics(train_losses, val_losses, train_accuracies, val_accuracies):\n",
    "#     epochs = range(1, len(train_losses) + 1)\n",
    "#     # Losses\n",
    "#     plt.figure(figsize=(15, 7))\n",
    "#     plt.subplot(2, 1, 1)\n",
    "#     plt.plot(epochs, train_losses, label='Training Loss', color='blue')\n",
    "#     plt.plot(epochs, val_losses, label='Validation Loss', color='red')\n",
    "#     plt.xlabel('Epochs')\n",
    "#     plt.ylabel('Loss')\n",
    "#     plt.title('Training and Validation Loss')\n",
    "#     plt.legend()\n",
    "#     plt.yscale('log')  # Log scale can help for loss curves with large values\n",
    "\n",
    "#     # Accuracies\n",
    "#     plt.subplot(2, 1, 2)\n",
    "#     plt.plot(epochs, train_accuracies, label='Training Accuracy', color='green')\n",
    "#     plt.plot(epochs, val_accuracies, label='Validation Accuracy', color='orange')\n",
    "#     plt.xlabel('Epochs')\n",
    "#     plt.ylabel('Accuracy')\n",
    "#     plt.title('Training and Validation Accuracy')\n",
    "#     plt.legend()\n",
    "\n",
    "#     plt.tight_layout()\n",
    "#     # Save the figure to a file\n",
    "#     plt.savefig(\"trainplot.png\")  # You can change the file name and format (e.g., .png, .jpg, .pdf)\n",
    "\n",
    "#     plt.show()\n",
    "\n",
    "# if __name__ == \"__main__\":\n",
    "#     device = setup_cuda()\n",
    "\n",
    "#     # 1. Load the dataset\n",
    "#     transform = transforms.Compose([Resize((224, 224)), ToTensor()])\n",
    "#     train_dataset = ImageFolder(root='/kaggle/input/dataset-split/dataset_split/train', transform=transform)\n",
    "#     val_dataset = ImageFolder(root='/kaggle/input/dataset-split/dataset_split/val', transform=transform)\n",
    "#     # Get class names\n",
    "#     class_names = train_dataset.classes\n",
    "\n",
    "#     # 2. Create data loaders\n",
    "#     train_loader = DataLoader(train_dataset, batch_size=32, shuffle=True)\n",
    "#     val_loader = DataLoader(val_dataset, batch_size=32, shuffle=True)\n",
    "\n",
    "#     # 3. Create a new deep model without pre-trained weights\n",
    "#     # from utils.seresnet18 import SEResNet18\n",
    "\n",
    "#     model = SEResNet18(\n",
    "#         num_classes=len(class_names),\n",
    "#     ).to(device)\n",
    "\n",
    "#     # 4. Specify loss function and optimizer\n",
    "#     optimizer = Adam(model.parameters(), lr=1e-4)\n",
    "#     loss_fn = torch.nn.CrossEntropyLoss()\n",
    "\n",
    "#     # 5. Train the model with 100 epochs\n",
    "#     # store the metrics for plotting\n",
    "#     train_losses, val_losses, train_accuracies, val_accuracies = [], [], [], []\n",
    "\n",
    "#     max_acc = 0\n",
    "#     for epoch in range(100):\n",
    "\n",
    "#         # 5.1. Train the model over a single epoch\n",
    "#         train_loss, train_acc = train_model()\n",
    "#         train_losses.append(train_loss)  # save train loss values\n",
    "#         train_accuracies.append(train_acc)  # save train acc values\n",
    "\n",
    "#         # 5.2. Validate the model after training\n",
    "#         val_loss, val_acc = validate_model()\n",
    "#         val_losses.append(val_loss)  # save val loss values\n",
    "#         val_accuracies.append(val_acc)  # save val acc values\n",
    "\n",
    "#         print(f'Epoch {epoch}: Train loss = {train_loss}, Train accuracy: {train_acc}')\n",
    "#         print(f'Epoch {epoch}: Validation loss = {val_loss}, Validation accuracy: {val_acc}')\n",
    "\n",
    "#         # 4.3. Save the model if the validation accuracy is increasing\n",
    "#         if val_acc > max_acc:\n",
    "#             print(f'Validation accuracy increased ({max_acc} --> {val_acc}). Model saved')\n",
    "#             folder_path = 'checkpoints_se_resnet18'  # Define the folder name\n",
    "#             if not os.path.exists(folder_path):\n",
    "#                 os.makedirs(folder_path)  # Create the folder if it does not exist\n",
    "#             file_path = os.path.join(folder_path,\n",
    "#                                      'se_resnet18_epoch_' + str(epoch) + '_acc_{0:.4f}'.format(val_acc) + '.pt')\n",
    "#             with open(file_path, 'wb') as f:\n",
    "#                 save(model.state_dict(), f)\n",
    "#             max_acc = val_acc\n",
    "# # After training is complete, plot the metrics\n",
    "# plot_metrics(train_losses, val_losses, train_accuracies, val_accuracies)"
   ]
  },
  {
   "cell_type": "markdown",
   "id": "f67464e6",
   "metadata": {
    "papermill": {
     "duration": 6.255436,
     "end_time": "2025-03-27T23:50:40.212437",
     "exception": false,
     "start_time": "2025-03-27T23:50:33.957001",
     "status": "completed"
    },
    "tags": []
   },
   "source": [
    "# Testing SEResnet18"
   ]
  },
  {
   "cell_type": "code",
   "execution_count": 10,
   "id": "64263770",
   "metadata": {
    "execution": {
     "iopub.execute_input": "2025-03-27T23:50:52.271194Z",
     "iopub.status.busy": "2025-03-27T23:50:52.270844Z",
     "iopub.status.idle": "2025-03-27T23:50:52.275785Z",
     "shell.execute_reply": "2025-03-27T23:50:52.274834Z"
    },
    "papermill": {
     "duration": 5.931218,
     "end_time": "2025-03-27T23:50:52.277216",
     "exception": false,
     "start_time": "2025-03-27T23:50:46.345998",
     "status": "completed"
    },
    "tags": []
   },
   "outputs": [],
   "source": [
    "# import torch\n",
    "# from torch import nn, save, load\n",
    "# from tqdm import tqdm\n",
    "# from torch.optim import Adam\n",
    "# from torch.utils.data import DataLoader\n",
    "# from torchvision.datasets import ImageFolder\n",
    "# import torchvision.transforms as transforms\n",
    "# from torchmetrics.functional import accuracy\n",
    "# from torchvision.transforms import ToTensor, Resize\n",
    "# import numpy as np\n",
    "# import os\n",
    "# from PIL import Image\n",
    "# import matplotlib.pyplot as plt\n",
    "\n",
    "# # Thiết lập biến cần thiết\n",
    "# train_dir = '/kaggle/input/dataset-split/dataset_split/train'\n",
    "# test_dir = '/kaggle/input/dataset-split/dataset_split/test'\n",
    "# valid_dir = '/kaggle/input/dataset-split/dataset_split/val'\n",
    "# NUM_WORKERS = os.cpu_count()\n",
    "# BATCH_SIZE = 32\n",
    "# IMG_SIZE = 224\n",
    "# manual_transforms = transforms.Compose([\n",
    "#     transforms.Resize((IMG_SIZE, IMG_SIZE)),\n",
    "#     transforms.ToTensor(),\n",
    "# ])\n",
    "# patch_size = 16\n",
    "# CLASS = {} # KHONG CAN DIEN CHI TIET\n",
    "\n",
    "\n",
    "# # Thiết lập thiết bị (GPU hoặc CPU)\n",
    "# def setup_cuda():\n",
    "#     torch.backends.cudnn.enabled = True\n",
    "#     torch.backends.cudnn.benchmark = True\n",
    "#     device = torch.device('cuda:0' if torch.cuda.is_available() else 'cpu')\n",
    "#     return device\n",
    "\n",
    "\n",
    "# device = setup_cuda()\n",
    "\n",
    "# # Thiết lập các transform để xử lý ảnh\n",
    "# manual_transforms = transforms.Compose([\n",
    "#     transforms.Resize((IMG_SIZE, IMG_SIZE)),\n",
    "#     transforms.ToTensor(),\n",
    "# ])\n",
    "\n",
    "\n",
    "# # Hàm dự đoán kết quả cho một hình ảnh\n",
    "# def predict_image(image_path, model, transform, class_names, device):\n",
    "#     model.eval()\n",
    "#     img = Image.open(image_path).convert('RGB')\n",
    "#     img_tensor = transform(img).unsqueeze(0).to(device)\n",
    "#     with torch.no_grad():\n",
    "#         output = model(img_tensor)\n",
    "#         _, predicted_class = torch.max(output, 1)\n",
    "#     predicted_label = class_names[predicted_class.item()]\n",
    "#     return img, predicted_label\n",
    "\n",
    "\n",
    "# # Hàm chính để dự đoán các hình ảnh trong tập test\n",
    "# def test_model():\n",
    "#     # 1. Tải dữ liệu và lớp từ tập train\n",
    "#     transform = transforms.Compose([Resize((224, 224)), ToTensor()])\n",
    "#     train_dataset = ImageFolder(root='/kaggle/input/dataset-split/dataset_split/train', transform=transform)\n",
    "#     test_dataset = ImageFolder(root='/kaggle/input/dataset-split/dataset_split/test', transform=transform)\n",
    "#     # Get class names\n",
    "#     class_names = train_dataset.classes\n",
    "\n",
    "#     # 2. Tạo mô hình ViT và tải trạng thái từ checkpoint\n",
    "#     # from utils.resnet18 import ResNet18\n",
    "\n",
    "#     model = SEResNet18(\n",
    "#         num_classes=len(class_names),\n",
    "#     ).to(device)\n",
    "\n",
    "#     folder_checkpoint = 'checkpoints_se_resnet18'  # Define the folder name\n",
    "#     file_name = '/kaggle/input/resnet-train-acc/ResNet_train_acc/se_resnet18_epoch_94_acc_0.8560.pt' #best weight\n",
    "#     file_checkpoint = os.path.join(folder_checkpoint, file_name)  # lay best weight\n",
    "#     model.load_state_dict(torch.load(file_checkpoint, device))\n",
    "#     print('Model loaded from checkpoint.')\n",
    "#     # Ensure the output directory exists\n",
    "#     output_dir = \"output_resnet18\"\n",
    "#     os.makedirs(output_dir, exist_ok=True)\n",
    "\n",
    "#     # 3. Dự đoán kết quả cho mỗi hình ảnh trong tập test\n",
    "#     for image_path in tqdm(test_dataset.imgs, desc='Testing'):\n",
    "#         img, predicted_label = predict_image(image_path[0], model, manual_transforms, class_names, device)\n",
    "#         # plt.imshow(img)\n",
    "#         # plt.title(f'Predicted: {predicted_label}')\n",
    "#         # plt.show()\n",
    "\n",
    "#         # Convert the tensor image back to a PIL image if necessary\n",
    "#         if isinstance(img, torch.Tensor):\n",
    "#             img = transforms.ToPILImage()(img)\n",
    "\n",
    "#         # Create a plot\n",
    "#         fig, ax = plt.subplots()\n",
    "\n",
    "#         # Set white background\n",
    "#         fig.patch.set_facecolor('white')\n",
    "#         ax.set_facecolor('white')\n",
    "\n",
    "#         # Remove axis\n",
    "#         ax.axis('off')\n",
    "\n",
    "#         # Display the image\n",
    "#         ax.imshow(img)\n",
    "\n",
    "#         # Add the predicted label as the title\n",
    "#         ax.set_title(f'Predicted: {predicted_label}', fontsize=12, pad=10)\n",
    "\n",
    "#         # Save the figure\n",
    "#         image_basename = os.path.basename(image_path[0])\n",
    "#         image_name, image_ext = os.path.splitext(image_basename)\n",
    "#         output_image_path = os.path.join(output_dir, f\"{image_name}_pred_{predicted_label}.png\")\n",
    "\n",
    "#         plt.savefig(output_image_path, bbox_inches='tight', pad_inches=0.1)\n",
    "#         plt.close(fig)\n",
    "\n",
    "\n",
    "# if __name__ == '__main__':\n",
    "#     test_model()\n"
   ]
  }
 ],
 "metadata": {
  "kaggle": {
   "accelerator": "nvidiaTeslaT4",
   "dataSources": [
    {
     "datasetId": 6740707,
     "sourceId": 10852843,
     "sourceType": "datasetVersion"
    },
    {
     "datasetId": 6814120,
     "sourceId": 10953792,
     "sourceType": "datasetVersion"
    }
   ],
   "dockerImageVersionId": 30919,
   "isGpuEnabled": true,
   "isInternetEnabled": true,
   "language": "python",
   "sourceType": "notebook"
  },
  "kernelspec": {
   "display_name": "Python 3",
   "language": "python",
   "name": "python3"
  },
  "language_info": {
   "codemirror_mode": {
    "name": "ipython",
    "version": 3
   },
   "file_extension": ".py",
   "mimetype": "text/x-python",
   "name": "python",
   "nbconvert_exporter": "python",
   "pygments_lexer": "ipython3",
   "version": "3.10.12"
  },
  "papermill": {
   "default_parameters": {},
   "duration": 29688.237227,
   "end_time": "2025-03-27T23:51:00.887288",
   "environment_variables": {},
   "exception": null,
   "input_path": "__notebook__.ipynb",
   "output_path": "__notebook__.ipynb",
   "parameters": {},
   "start_time": "2025-03-27T15:36:12.650061",
   "version": "2.6.0"
  }
 },
 "nbformat": 4,
 "nbformat_minor": 5
}
