{
 "cells": [
  {
   "cell_type": "markdown",
   "id": "7429540f",
   "metadata": {
    "papermill": {
     "duration": 0.004177,
     "end_time": "2025-02-27T14:19:31.629914",
     "exception": false,
     "start_time": "2025-02-27T14:19:31.625737",
     "status": "completed"
    },
    "tags": []
   },
   "source": [
    "# Model RESNET18"
   ]
  },
  {
   "cell_type": "code",
   "execution_count": 1,
   "id": "fad58dc2",
   "metadata": {
    "execution": {
     "iopub.execute_input": "2025-02-27T14:19:31.638387Z",
     "iopub.status.busy": "2025-02-27T14:19:31.638127Z",
     "iopub.status.idle": "2025-02-27T14:19:35.222875Z",
     "shell.execute_reply": "2025-02-27T14:19:35.222201Z"
    },
    "papermill": {
     "duration": 3.590839,
     "end_time": "2025-02-27T14:19:35.224590",
     "exception": false,
     "start_time": "2025-02-27T14:19:31.633751",
     "status": "completed"
    },
    "tags": []
   },
   "outputs": [],
   "source": [
    "import torch.nn as nn\n",
    "\n",
    "class ResNet18(nn.Module):\n",
    "    def __init__(self, num_classes):\n",
    "        super(ResNet18, self).__init__()\n",
    "\n",
    "        self.dropout_percentage = 0.5\n",
    "        self.relu = nn.ReLU()\n",
    "\n",
    "        # BLOCK-1 (starting block) input=(224x224) output=(112x112)\n",
    "        self.conv1 = nn.Conv2d(in_channels=3, out_channels=64, kernel_size=(7, 7), stride=(2, 2), padding=(3, 3))\n",
    "        self.batchnorm1 = nn.BatchNorm2d(64)\n",
    "        self.maxpool1 = nn.MaxPool2d(kernel_size=(3, 3), stride=(2, 2), padding=(1, 1))\n",
    "\n",
    "        # BLOCK-2 (1) input=(112x112) output = (56x56)\n",
    "        self.conv2_1_1 = nn.Conv2d(in_channels=64, out_channels=64, kernel_size=(3, 3), stride=(1, 1), padding=(1, 1))\n",
    "        self.batchnorm2_1_1 = nn.BatchNorm2d(64)\n",
    "        self.conv2_1_2 = nn.Conv2d(in_channels=64, out_channels=64, kernel_size=(3, 3), stride=(1, 1), padding=(1, 1))\n",
    "        self.batchnorm2_1_2 = nn.BatchNorm2d(64)\n",
    "        self.dropout2_1 = nn.Dropout(p=self.dropout_percentage)\n",
    "\n",
    "        # BLOCK-2 (2)\n",
    "        self.conv2_2_1 = nn.Conv2d(in_channels=64, out_channels=64, kernel_size=(3, 3), stride=(1, 1), padding=(1, 1))\n",
    "        self.batchnorm2_2_1 = nn.BatchNorm2d(64)\n",
    "        self.conv2_2_2 = nn.Conv2d(in_channels=64, out_channels=64, kernel_size=(3, 3), stride=(1, 1), padding=(1, 1))\n",
    "        self.batchnorm2_2_2 = nn.BatchNorm2d(64)\n",
    "        self.dropout2_2 = nn.Dropout(p=self.dropout_percentage)\n",
    "\n",
    "        # BLOCK-3 (1) input=(56x56) output = (28x28)\n",
    "        self.conv3_1_1 = nn.Conv2d(in_channels=64, out_channels=128, kernel_size=(3, 3), stride=(2, 2), padding=(1, 1))\n",
    "        self.batchnorm3_1_1 = nn.BatchNorm2d(128)\n",
    "        self.conv3_1_2 = nn.Conv2d(in_channels=128, out_channels=128, kernel_size=(3, 3), stride=(1, 1), padding=(1, 1))\n",
    "        self.batchnorm3_1_2 = nn.BatchNorm2d(128)\n",
    "        self.concat_adjust_3 = nn.Conv2d(in_channels=64, out_channels=128, kernel_size=(1, 1), stride=(2, 2),\n",
    "                                         padding=(0, 0))\n",
    "        self.dropout3_1 = nn.Dropout(p=self.dropout_percentage)\n",
    "        # BLOCK-3 (2)\n",
    "        self.conv3_2_1 = nn.Conv2d(in_channels=128, out_channels=128, kernel_size=(3, 3), stride=(1, 1), padding=(1, 1))\n",
    "        self.batchnorm3_2_1 = nn.BatchNorm2d(128)\n",
    "        self.conv3_2_2 = nn.Conv2d(in_channels=128, out_channels=128, kernel_size=(3, 3), stride=(1, 1), padding=(1, 1))\n",
    "        self.batchnorm3_2_2 = nn.BatchNorm2d(128)\n",
    "        self.dropout3_2 = nn.Dropout(p=self.dropout_percentage)\n",
    "\n",
    "        # BLOCK-4 (1) input=(28x28) output = (14x14)\n",
    "        self.conv4_1_1 = nn.Conv2d(in_channels=128, out_channels=256, kernel_size=(3, 3), stride=(2, 2), padding=(1, 1))\n",
    "        self.batchnorm4_1_1 = nn.BatchNorm2d(256)\n",
    "        self.conv4_1_2 = nn.Conv2d(in_channels=256, out_channels=256, kernel_size=(3, 3), stride=(1, 1), padding=(1, 1))\n",
    "        self.batchnorm4_1_2 = nn.BatchNorm2d(256)\n",
    "        self.concat_adjust_4 = nn.Conv2d(in_channels=128, out_channels=256, kernel_size=(1, 1), stride=(2, 2),\n",
    "                                         padding=(0, 0))\n",
    "        self.dropout4_1 = nn.Dropout(p=self.dropout_percentage)\n",
    "        # BLOCK-4 (2)\n",
    "        self.conv4_2_1 = nn.Conv2d(in_channels=256, out_channels=256, kernel_size=(3, 3), stride=(1, 1), padding=(1, 1))\n",
    "        self.batchnorm4_2_1 = nn.BatchNorm2d(256)\n",
    "        self.conv4_2_2 = nn.Conv2d(in_channels=256, out_channels=256, kernel_size=(3, 3), stride=(1, 1), padding=(1, 1))\n",
    "        self.batchnorm4_2_2 = nn.BatchNorm2d(256)\n",
    "        self.dropout4_2 = nn.Dropout(p=self.dropout_percentage)\n",
    "\n",
    "        # BLOCK-5 (1) input=(14x14) output = (7x7)\n",
    "        self.conv5_1_1 = nn.Conv2d(in_channels=256, out_channels=512, kernel_size=(3, 3), stride=(2, 2), padding=(1, 1))\n",
    "        self.batchnorm5_1_1 = nn.BatchNorm2d(512)\n",
    "        self.conv5_1_2 = nn.Conv2d(in_channels=512, out_channels=512, kernel_size=(3, 3), stride=(1, 1), padding=(1, 1))\n",
    "        self.batchnorm5_1_2 = nn.BatchNorm2d(512)\n",
    "        self.concat_adjust_5 = nn.Conv2d(in_channels=256, out_channels=512, kernel_size=(1, 1), stride=(2, 2),\n",
    "                                         padding=(0, 0))\n",
    "        self.dropout5_1 = nn.Dropout(p=self.dropout_percentage)\n",
    "        # BLOCK-5 (2)\n",
    "        self.conv5_2_1 = nn.Conv2d(in_channels=512, out_channels=512, kernel_size=(3, 3), stride=(1, 1), padding=(1, 1))\n",
    "        self.batchnorm5_2_1 = nn.BatchNorm2d(512)\n",
    "        self.conv5_2_2 = nn.Conv2d(in_channels=512, out_channels=512, kernel_size=(3, 3), stride=(1, 1), padding=(1, 1))\n",
    "        self.batchnorm5_2_2 = nn.BatchNorm2d(512)\n",
    "        self.dropout5_2 = nn.Dropout(p=self.dropout_percentage)\n",
    "\n",
    "        # Final Block input=(7x7)\n",
    "        self.avgpool = nn.AvgPool2d(kernel_size=(7, 7), stride=(1, 1))\n",
    "        self.fc = nn.Linear(in_features=1 * 1 * 512, out_features=1000)\n",
    "        self.out = nn.Linear(in_features=1000, out_features=num_classes)\n",
    "        # END\n",
    "\n",
    "    def forward(self, x):\n",
    "        # block 1 --> Starting block\n",
    "        x = self.relu(self.batchnorm1(self.conv1(x)))\n",
    "        op1 = self.maxpool1(x)\n",
    "\n",
    "        # block2 - 1\n",
    "        x = self.relu(self.batchnorm2_1_1(self.conv2_1_1(op1)))  # conv2_1\n",
    "        x = self.batchnorm2_1_2(self.conv2_1_2(x))  # conv2_1\n",
    "        x = self.dropout2_1(x)\n",
    "        # block2 - Adjust - No adjust in this layer as dimensions are already same\n",
    "        # block2 - Concatenate 1\n",
    "        op2_1 = self.relu(x + op1)\n",
    "        # block2 - 2\n",
    "        x = self.relu(self.batchnorm2_2_1(self.conv2_2_1(op2_1)))  # conv2_2\n",
    "        x = self.batchnorm2_2_2(self.conv2_2_2(x))  # conv2_2\n",
    "        x = self.dropout2_2(x)\n",
    "        # op - block2\n",
    "        op2 = self.relu(x + op2_1)\n",
    "\n",
    "        # block3 - 1[Convolution block]\n",
    "        x = self.relu(self.batchnorm3_1_1(self.conv3_1_1(op2)))  # conv3_1\n",
    "        x = self.batchnorm3_1_2(self.conv3_1_2(x))  # conv3_1\n",
    "        x = self.dropout3_1(x)\n",
    "        # block3 - Adjust\n",
    "        op2 = self.concat_adjust_3(op2)  # SKIP CONNECTION\n",
    "        # block3 - Concatenate 1\n",
    "        op3_1 = self.relu(x + op2)\n",
    "        # block3 - 2[Identity Block]\n",
    "        x = self.relu(self.batchnorm3_2_1(self.conv3_2_1(op3_1)))  # conv3_2\n",
    "        x = self.batchnorm3_2_2(self.conv3_2_2(x))  # conv3_2\n",
    "        x = self.dropout3_2(x)\n",
    "        # op - block3\n",
    "        op3 = self.relu(x + op3_1)\n",
    "\n",
    "        # block4 - 1[Convolition block]\n",
    "        x = self.relu(self.batchnorm4_1_1(self.conv4_1_1(op3)))  # conv4_1\n",
    "        x = self.batchnorm4_1_2(self.conv4_1_2(x))  # conv4_1\n",
    "        x = self.dropout4_1(x)\n",
    "        # block4 - Adjust\n",
    "        op3 = self.concat_adjust_4(op3)  # SKIP CONNECTION\n",
    "        # block4 - Concatenate 1\n",
    "        op4_1 = self.relu(x + op3)\n",
    "        # block4 - 2[Identity Block]\n",
    "        x = self.relu(self.batchnorm4_2_1(self.conv4_2_1(op4_1)))  # conv4_2\n",
    "        x = self.batchnorm4_2_2(self.conv4_2_2(x))  # conv4_2\n",
    "        x = self.dropout4_2(x)\n",
    "        # op - block4\n",
    "        op4 = self.relu(x + op4_1)\n",
    "\n",
    "        # block5 - 1[Convolution Block]\n",
    "        x = self.relu(self.batchnorm5_1_1(self.conv5_1_1(op4)))  # conv5_1\n",
    "        x = self.batchnorm5_1_2(self.conv5_1_2(x))  # conv5_1\n",
    "        x = self.dropout5_1(x)\n",
    "        # block5 - Adjust\n",
    "        op4 = self.concat_adjust_5(op4)  # SKIP CONNECTION\n",
    "        # block5 - Concatenate 1\n",
    "        op5_1 = self.relu(x + op4)\n",
    "        # block5 - 2[Identity Block]\n",
    "        x = self.relu(self.batchnorm5_2_1(self.conv5_2_1(op5_1)))  # conv5_2\n",
    "        x = self.batchnorm5_2_1(self.conv5_2_1(x))  # conv5_2\n",
    "        x = self.dropout5_2(x)\n",
    "        # op - block5\n",
    "        op5 = self.relu(x + op5_1)\n",
    "\n",
    "        # FINAL BLOCK - classifier\n",
    "        x = self.avgpool(op5)\n",
    "        x = x.reshape(x.shape[0], -1)\n",
    "        x = self.relu(self.fc(x))\n",
    "        x = self.out(x)\n",
    "\n",
    "        return x"
   ]
  },
  {
   "cell_type": "markdown",
   "id": "7bae9173",
   "metadata": {
    "papermill": {
     "duration": 0.003401,
     "end_time": "2025-02-27T14:19:35.231924",
     "exception": false,
     "start_time": "2025-02-27T14:19:35.228523",
     "status": "completed"
    },
    "tags": []
   },
   "source": [
    "# Resnet18 trainning"
   ]
  },
  {
   "cell_type": "code",
   "execution_count": 2,
   "id": "b0eacc97",
   "metadata": {
    "_kg_hide-output": true,
    "execution": {
     "iopub.execute_input": "2025-02-27T14:19:35.240188Z",
     "iopub.status.busy": "2025-02-27T14:19:35.239809Z",
     "iopub.status.idle": "2025-02-27T14:19:35.244715Z",
     "shell.execute_reply": "2025-02-27T14:19:35.244119Z"
    },
    "papermill": {
     "duration": 0.010479,
     "end_time": "2025-02-27T14:19:35.245996",
     "exception": false,
     "start_time": "2025-02-27T14:19:35.235517",
     "status": "completed"
    },
    "tags": []
   },
   "outputs": [],
   "source": [
    "# \"\"\"\n",
    "# Thanh Le  16 April 2024\n",
    "# How to train/fine-tune a pre-trained model on a custom dataset (i.e., transfer learning)\n",
    "# \"\"\"\n",
    "# import torch\n",
    "# from torch import nn, save, load\n",
    "# from tqdm import tqdm\n",
    "# from torch.optim import Adam\n",
    "# from torch.utils.data import DataLoader\n",
    "# from torchvision.datasets import ImageFolder\n",
    "# import torchvision.transforms as transforms\n",
    "# from torchmetrics.functional import accuracy\n",
    "# from torchvision.transforms import ToTensor, Resize\n",
    "# import numpy as np\n",
    "# import os\n",
    "# import matplotlib.pyplot as plt\n",
    "\n",
    "# # Setup CUDA\n",
    "# def setup_cuda():\n",
    "#     # Setting seeds for reproducibility\n",
    "#     seed = 50\n",
    "#     torch.backends.cudnn.enabled = True\n",
    "#     torch.backends.cudnn.benchmark = True\n",
    "#     np.random.seed(seed)\n",
    "#     torch.manual_seed(seed)\n",
    "#     if torch.cuda.is_available():\n",
    "#         torch.cuda.manual_seed(seed)\n",
    "\n",
    "#     return torch.device('cuda:0' if torch.cuda.is_available() else 'cpu')\n",
    "\n",
    "\n",
    "# def train_model():\n",
    "#     \"\"\"\n",
    "#     Train the model over a single epoch\n",
    "#     :return: training loss and training accuracy\n",
    "#     \"\"\"\n",
    "#     train_loss = 0.0\n",
    "#     train_acc = 0.0\n",
    "#     model.train()\n",
    "\n",
    "#     for (img, label) in tqdm(train_loader, ncols=80, desc='Training'):\n",
    "#         # Get a batch\n",
    "#         img, label = img.to(device, dtype=torch.float), label.to(device, dtype=torch.long)\n",
    "\n",
    "#         # Set the gradients to zero before starting backpropagation\n",
    "#         optimizer.zero_grad()\n",
    "\n",
    "#         # Perform a feed-forward pass\n",
    "#         logits = model(img)\n",
    "\n",
    "#         # Compute the batch loss\n",
    "#         loss = loss_fn(logits, label)\n",
    "\n",
    "#         # Compute gradient of the loss fn w.r.t the trainable weights\n",
    "#         loss.backward()\n",
    "\n",
    "#         # Update the trainable weights\n",
    "#         optimizer.step()\n",
    "\n",
    "#         # Accumulate the batch loss\n",
    "#         train_loss += loss.item()\n",
    "\n",
    "#         # Get the predictions to calculate the accuracy for every iteration. Remember to accumulate the accuracy\n",
    "#         prediction = logits.argmax(axis=1)\n",
    "#         train_acc += accuracy(prediction, label, task='multiclass', average='macro', num_classes=len(class_names)).item()\n",
    "\n",
    "#     return train_loss / len(train_loader), train_acc / len(train_loader)\n",
    "\n",
    "\n",
    "# def validate_model():\n",
    "#     \"\"\"\n",
    "#     Validate the model over a single epoch\n",
    "#     :return: validation loss and validation accuracy\n",
    "#     \"\"\"\n",
    "#     model.eval()\n",
    "#     valid_loss = 0.0\n",
    "#     val_acc = 0.0\n",
    "\n",
    "#     with torch.no_grad():\n",
    "#         for (img, label) in tqdm(val_loader, ncols=80, desc='Valid'):\n",
    "#             # Get a batch\n",
    "#             img, label = img.to(device, dtype=torch.float), label.to(device, dtype=torch.long)\n",
    "\n",
    "#             # Perform a feed-forward pass\n",
    "#             logits = model(img)\n",
    "\n",
    "#             # Compute the batch loss\n",
    "#             loss = loss_fn(logits, label)\n",
    "\n",
    "#             # Accumulate the batch loss\n",
    "#             valid_loss += loss.item()\n",
    "\n",
    "#             # Get the predictions to calculate the accuracy for every iteration. Remember to accumulate the accuracy\n",
    "#             prediction = logits.argmax(axis=1)\n",
    "#             val_acc += accuracy(prediction, label, task='multiclass', average='macro', num_classes=len(class_names)).item()\n",
    "\n",
    "#     return valid_loss / len(val_loader), val_acc / len(val_loader)\n",
    "\n",
    "\n",
    "# # Example plotting function\n",
    "\n",
    "# def plot_metrics(train_losses, val_losses, train_accuracies, val_accuracies):\n",
    "#     epochs = range(1, len(train_losses) + 1)\n",
    "#     # Losses\n",
    "#     plt.figure(figsize=(15, 7))\n",
    "#     plt.subplot(2, 1, 1)\n",
    "#     plt.plot(epochs, train_losses, label='Training Loss', color='blue')\n",
    "#     plt.plot(epochs, val_losses, label='Validation Loss', color='red')\n",
    "#     plt.xlabel('Epochs')\n",
    "#     plt.ylabel('Loss')\n",
    "#     plt.title('Training and Validation Loss')\n",
    "#     plt.legend()\n",
    "#     plt.yscale('log')  # Log scale can help for loss curves with large values\n",
    "\n",
    "#     # Accuracies\n",
    "#     plt.subplot(2, 1, 2)\n",
    "#     plt.plot(epochs, train_accuracies, label='Training Accuracy', color='green')\n",
    "#     plt.plot(epochs, val_accuracies, label='Validation Accuracy', color='orange')\n",
    "#     plt.xlabel('Epochs')\n",
    "#     plt.ylabel('Accuracy')\n",
    "#     plt.title('Training and Validation Accuracy')\n",
    "#     plt.legend()\n",
    "\n",
    "#     plt.tight_layout()\n",
    "#     # Save the figure to a file\n",
    "#     plt.savefig(\"trainplot.png\")  # You can change the file name and format (e.g., .png, .jpg, .pdf)\n",
    "\n",
    "#     plt.show()\n",
    "\n",
    "\n",
    "# if __name__ == \"__main__\":\n",
    "#     device = setup_cuda()\n",
    "\n",
    "#     # 1. Load the dataset\n",
    "#     transform = transforms.Compose([Resize((224, 224)), ToTensor()])\n",
    "#     train_dataset = ImageFolder(root='/kaggle/input/dataset-split/dataset_split/train', transform=transform)\n",
    "#     val_dataset = ImageFolder(root='/kaggle/input/dataset-split/dataset_split/val', transform=transform)\n",
    "#     # Get class names\n",
    "#     class_names = train_dataset.classes\n",
    "\n",
    "#     # 2. Create data loaders\n",
    "#     train_loader = DataLoader(train_dataset, batch_size=32, shuffle=True)\n",
    "#     val_loader = DataLoader(val_dataset, batch_size=32, shuffle=True)\n",
    "\n",
    "#     # 3. Create a new deep model without pre-trained weights\n",
    "#     # from utils.seresnet18 import ResNet18\n",
    "#     model = ResNet18(\n",
    "#         num_classes=len(class_names),\n",
    "#     ).to(device)\n",
    "\n",
    "#     # 4. Specify loss function and optimizer\n",
    "#     optimizer = Adam(model.parameters(), lr=1e-4)\n",
    "#     loss_fn = torch.nn.CrossEntropyLoss()\n",
    "\n",
    "#     # 5. Train the model with 100 epochs\n",
    "#     # store the metrics for plotting\n",
    "#     train_losses, val_losses, train_accuracies, val_accuracies = [], [], [], []\n",
    "\n",
    "#     max_acc = 0\n",
    "#     for epoch in range(100):\n",
    "\n",
    "#         # 5.1. Train the model over a single epoch\n",
    "#         train_loss, train_acc = train_model()\n",
    "#         train_losses.append(train_loss)     # save train loss values\n",
    "#         train_accuracies.append(train_acc)  # save train acc values\n",
    "\n",
    "#         # 5.2. Validate the model after training\n",
    "#         val_loss, val_acc = validate_model()\n",
    "#         val_losses.append(val_loss)         # save val loss values\n",
    "#         val_accuracies.append(val_acc)      # save val acc values\n",
    "\n",
    "#         print(f'Epoch {epoch}: Train loss = {train_loss}, Train accuracy: {train_acc}')\n",
    "#         print(f'Epoch {epoch}: Validation loss = {val_loss}, Validation accuracy: {val_acc}')\n",
    "\n",
    "#         # 4.3. Save the model if the validation accuracy is increasing\n",
    "#         if val_acc > max_acc:\n",
    "#             print(f'Validation accuracy increased ({max_acc} --> {val_acc}). Model saved')\n",
    "#             folder_path = 'checkpoints_resnet18'  # Define the folder name\n",
    "#             if not os.path.exists(folder_path):\n",
    "#                 os.makedirs(folder_path)  # Create the folder if it does not exist\n",
    "#             file_path = os.path.join(folder_path,\n",
    "#                                      'resnet18_epoch_' + str(epoch) + '_acc_{0:.4f}'.format(val_acc) + '.pt')\n",
    "#             with open(file_path, 'wb') as f:\n",
    "#                 save(model.state_dict(), f)\n",
    "#             max_acc = val_acc\n",
    "\n",
    "# # After training is complete, plot the metrics\n",
    "# plot_metrics(train_losses, val_losses, train_accuracies, val_accuracies)"
   ]
  },
  {
   "cell_type": "markdown",
   "id": "798b10b6",
   "metadata": {
    "papermill": {
     "duration": 0.003375,
     "end_time": "2025-02-27T14:19:35.252767",
     "exception": false,
     "start_time": "2025-02-27T14:19:35.249392",
     "status": "completed"
    },
    "tags": []
   },
   "source": [
    "# Testing for Resnet18"
   ]
  },
  {
   "cell_type": "code",
   "execution_count": 3,
   "id": "6601ccc3",
   "metadata": {
    "execution": {
     "iopub.execute_input": "2025-02-27T14:19:35.260477Z",
     "iopub.status.busy": "2025-02-27T14:19:35.260222Z",
     "iopub.status.idle": "2025-02-27T14:19:35.264317Z",
     "shell.execute_reply": "2025-02-27T14:19:35.263570Z"
    },
    "papermill": {
     "duration": 0.009299,
     "end_time": "2025-02-27T14:19:35.265540",
     "exception": false,
     "start_time": "2025-02-27T14:19:35.256241",
     "status": "completed"
    },
    "tags": []
   },
   "outputs": [],
   "source": [
    "# import torch\n",
    "# from torch import nn, save, load\n",
    "# from tqdm import tqdm\n",
    "# from torch.optim import Adam\n",
    "# from torch.utils.data import DataLoader\n",
    "# from torchvision.datasets import ImageFolder\n",
    "# import torchvision.transforms as transforms\n",
    "# from torchmetrics.functional import accuracy\n",
    "# from torchvision.transforms import ToTensor, Resize\n",
    "# import numpy as np\n",
    "# import os\n",
    "# from PIL import Image\n",
    "# import matplotlib.pyplot as plt\n",
    "\n",
    "# # Thiết lập biến cần thiết\n",
    "# train_dir = '/kaggle/input/dataset-split/dataset_split/train'\n",
    "# test_dir = '/kaggle/input/dataset-split/dataset_split/test'\n",
    "# valid_dir = '/kaggle/input/dataset-split/dataset_split/val'\n",
    "# NUM_WORKERS = os.cpu_count()\n",
    "# BATCH_SIZE = 32\n",
    "# IMG_SIZE = 224\n",
    "# manual_transforms = transforms.Compose([\n",
    "#     transforms.Resize((IMG_SIZE, IMG_SIZE)),\n",
    "#     transforms.ToTensor(),\n",
    "# ])\n",
    "# patch_size = 16\n",
    "# CLASS = {} # KHONG CAN\n",
    "\n",
    "\n",
    "# # Thiết lập thiết bị (GPU hoặc CPU)\n",
    "# def setup_cuda():\n",
    "#     torch.backends.cudnn.enabled = True\n",
    "#     torch.backends.cudnn.benchmark = True\n",
    "#     device = torch.device('cuda:0' if torch.cuda.is_available() else 'cpu')\n",
    "#     return device\n",
    "\n",
    "\n",
    "# device = setup_cuda()\n",
    "\n",
    "# # Thiết lập các transform để xử lý ảnh\n",
    "# manual_transforms = transforms.Compose([\n",
    "#     transforms.Resize((IMG_SIZE, IMG_SIZE)),\n",
    "#     transforms.ToTensor(),\n",
    "# ])\n",
    "\n",
    "\n",
    "# # Hàm dự đoán kết quả cho một hình ảnh\n",
    "# def predict_image(image_path, model, transform, class_names, device):\n",
    "#     model.eval()\n",
    "#     img = Image.open(image_path).convert('RGB')\n",
    "#     img_tensor = transform(img).unsqueeze(0).to(device)\n",
    "#     with torch.no_grad():\n",
    "#         output = model(img_tensor)\n",
    "#         _, predicted_class = torch.max(output, 1)\n",
    "#     predicted_label = class_names[predicted_class.item()]\n",
    "#     return img, predicted_label\n",
    "\n",
    "\n",
    "# # Hàm chính để dự đoán các hình ảnh trong tập test\n",
    "# def test_model():\n",
    "#     # 1. Tải dữ liệu và lớp từ tập train\n",
    "#     transform = transforms.Compose([Resize((224, 224)), ToTensor()])\n",
    "#     train_dataset = ImageFolder(root='/kaggle/input/dataset-split/dataset_split/train', transform=transform)\n",
    "#     test_dataset = ImageFolder(root='/kaggle/input/dataset-split/dataset_split/test', transform=transform)\n",
    "#     # Get class names\n",
    "#     class_names = train_dataset.classes\n",
    "\n",
    "#     # 2. Tạo mô hình ViT và tải trạng thái từ checkpoint\n",
    "#     # from utils.resnet18 import ResNet18\n",
    "\n",
    "#     model = ResNet18(\n",
    "#         num_classes=len(class_names),\n",
    "#     ).to(device)\n",
    "\n",
    "#     folder_checkpoint = 'checkpoints_resnet18'  # Define the folder name\n",
    "#     file_name = '/kaggle/input/resnet-train-acc/ResNet/resnet18_epoch_10_acc_0.7310.pt' #best weight\n",
    "#     file_checkpoint = os.path.join(folder_checkpoint, file_name)  # lay best weight\n",
    "#     model.load_state_dict(torch.load(file_checkpoint, device))\n",
    "#     print('Model loaded from checkpoint.')\n",
    "#     # Ensure the output directory exists\n",
    "#     output_dir = \"output_resnet18\"\n",
    "#     os.makedirs(output_dir, exist_ok=True)\n",
    "\n",
    "#     # 3. Dự đoán kết quả cho mỗi hình ảnh trong tập test\n",
    "#     for image_path in tqdm(test_dataset.imgs, desc='Testing'):\n",
    "#         img, predicted_label = predict_image(image_path[0], model, manual_transforms, class_names, device)\n",
    "#         # plt.imshow(img)\n",
    "#         # plt.title(f'Predicted: {predicted_label}')\n",
    "#         # plt.show()\n",
    "\n",
    "#         # Convert the tensor image back to a PIL image if necessary\n",
    "#         if isinstance(img, torch.Tensor):\n",
    "#             img = transforms.ToPILImage()(img)\n",
    "\n",
    "#         # Create a plot\n",
    "#         fig, ax = plt.subplots()\n",
    "\n",
    "#         # Set white background\n",
    "#         fig.patch.set_facecolor('white')\n",
    "#         ax.set_facecolor('white')\n",
    "\n",
    "#         # Remove axis\n",
    "#         ax.axis('off')\n",
    "\n",
    "#         # Display the image\n",
    "#         ax.imshow(img)\n",
    "\n",
    "#         # Add the predicted label as the title\n",
    "#         ax.set_title(f'Predicted: {predicted_label}', fontsize=12, pad=10)\n",
    "\n",
    "#         # Save the figure\n",
    "#         image_basename = os.path.basename(image_path[0])\n",
    "#         image_name, image_ext = os.path.splitext(image_basename)\n",
    "#         output_image_path = os.path.join(output_dir, f\"{image_name}_pred_{predicted_label}.png\")\n",
    "\n",
    "#         plt.savefig(output_image_path, bbox_inches='tight', pad_inches=0.1)\n",
    "#         plt.close(fig)\n",
    "\n",
    "\n",
    "# if __name__ == '__main__':\n",
    "#     test_model()\n"
   ]
  },
  {
   "cell_type": "markdown",
   "id": "5f371294",
   "metadata": {
    "papermill": {
     "duration": 0.003279,
     "end_time": "2025-02-27T14:19:35.272297",
     "exception": false,
     "start_time": "2025-02-27T14:19:35.269018",
     "status": "completed"
    },
    "tags": []
   },
   "source": [
    "# SEBLOCK"
   ]
  },
  {
   "cell_type": "code",
   "execution_count": 4,
   "id": "87b1860d",
   "metadata": {
    "execution": {
     "iopub.execute_input": "2025-02-27T14:19:35.279909Z",
     "iopub.status.busy": "2025-02-27T14:19:35.279674Z",
     "iopub.status.idle": "2025-02-27T14:19:35.284639Z",
     "shell.execute_reply": "2025-02-27T14:19:35.284052Z"
    },
    "papermill": {
     "duration": 0.010692,
     "end_time": "2025-02-27T14:19:35.286399",
     "exception": false,
     "start_time": "2025-02-27T14:19:35.275707",
     "status": "completed"
    },
    "tags": []
   },
   "outputs": [],
   "source": [
    "import torch.nn as nn\n",
    "\n",
    "class SE_Block(nn.Module):\n",
    "    def __init__(self, c, r=16):\n",
    "        super(SE_Block, self).__init__()\n",
    "        self.squeeze = nn.AdaptiveAvgPool2d(1)\n",
    "        self.excitation = nn.Sequential(\n",
    "            nn.Linear(c, c // r, bias=False),\n",
    "            nn.ReLU(inplace=True),\n",
    "            nn.Linear(c // r, c, bias=False),\n",
    "            nn.Sigmoid()\n",
    "        )\n",
    "\n",
    "    def forward(self, x):\n",
    "        bs, c, _, _ = x.size()\n",
    "        y = self.squeeze(x).view(bs, c)\n",
    "        y = self.excitation(y).view(bs, c, 1, 1)\n",
    "        return x * y.expand_as(x)"
   ]
  },
  {
   "cell_type": "markdown",
   "id": "d5c1ebb2",
   "metadata": {
    "papermill": {
     "duration": 0.003509,
     "end_time": "2025-02-27T14:19:35.294032",
     "exception": false,
     "start_time": "2025-02-27T14:19:35.290523",
     "status": "completed"
    },
    "tags": []
   },
   "source": [
    "# SEBLOCK + Resnet18"
   ]
  },
  {
   "cell_type": "code",
   "execution_count": 5,
   "id": "37743d88",
   "metadata": {
    "execution": {
     "iopub.execute_input": "2025-02-27T14:19:35.302188Z",
     "iopub.status.busy": "2025-02-27T14:19:35.301916Z",
     "iopub.status.idle": "2025-02-27T14:19:35.327684Z",
     "shell.execute_reply": "2025-02-27T14:19:35.327060Z"
    },
    "papermill": {
     "duration": 0.031483,
     "end_time": "2025-02-27T14:19:35.328872",
     "exception": false,
     "start_time": "2025-02-27T14:19:35.297389",
     "status": "completed"
    },
    "tags": []
   },
   "outputs": [],
   "source": [
    "import torch\n",
    "import torch.nn as nn\n",
    "import torch.nn.functional as F\n",
    "\n",
    "\n",
    "class SEBlock(nn.Module):\n",
    "    def __init__(self, input_channels, reduction_ratio=16):\n",
    "        super(SEBlock, self).__init__()\n",
    "        self.avg_pool = nn.AdaptiveAvgPool2d(1)\n",
    "        self.fc1 = nn.Linear(input_channels, input_channels // reduction_ratio, bias=False)\n",
    "        self.relu = nn.ReLU(inplace=True)\n",
    "        self.fc2 = nn.Linear(input_channels // reduction_ratio, input_channels, bias=False)\n",
    "        self.sigmoid = nn.Sigmoid()\n",
    "\n",
    "    def forward(self, x):\n",
    "        batch_size, channels, _, _ = x.size()\n",
    "        y = self.avg_pool(x).view(batch_size, channels)\n",
    "        y = self.fc1(y)\n",
    "        y = self.relu(y)\n",
    "        y = self.fc2(y)\n",
    "        y = self.sigmoid(y).view(batch_size, channels, 1, 1)\n",
    "        return x * y.expand_as(x)\n",
    "\n",
    "\n",
    "class SEResNet18(nn.Module):\n",
    "    def __init__(self, num_classes):\n",
    "        super(SEResNet18, self).__init__()\n",
    "\n",
    "        self.dropout_percentage = 0.5\n",
    "        self.relu = nn.ReLU()\n",
    "\n",
    "        # BLOCK-1 (starting block) input=(224x224) output=(56x56)\n",
    "        self.conv1 = nn.Conv2d(in_channels=3, out_channels=64, kernel_size=(7, 7), stride=(2, 2), padding=(3, 3))\n",
    "        self.batchnorm1 = nn.BatchNorm2d(64)\n",
    "        self.maxpool1 = nn.MaxPool2d(kernel_size=(3, 3), stride=(2, 2), padding=(1, 1))\n",
    "\n",
    "        # BLOCK-2 (1) input=(56x56) output = (56x56)\n",
    "        self.conv2_1_1 = nn.Conv2d(in_channels=64, out_channels=64, kernel_size=(3, 3), stride=(1, 1), padding=(1, 1))\n",
    "        self.batchnorm2_1_1 = nn.BatchNorm2d(64)\n",
    "        self.conv2_1_2 = nn.Conv2d(in_channels=64, out_channels=64, kernel_size=(3, 3), stride=(1, 1), padding=(1, 1))\n",
    "        self.batchnorm2_1_2 = nn.BatchNorm2d(64)\n",
    "        self.dropout2_1 = nn.Dropout(p=self.dropout_percentage)\n",
    "        self.se2_1 = SEBlock(64)\n",
    "\n",
    "        # BLOCK-2 (2)\n",
    "        self.conv2_2_1 = nn.Conv2d(in_channels=64, out_channels=64, kernel_size=(3, 3), stride=(1, 1), padding=(1, 1))\n",
    "        self.batchnorm2_2_1 = nn.BatchNorm2d(64)\n",
    "        self.conv2_2_2 = nn.Conv2d(in_channels=64, out_channels=64, kernel_size=(3, 3), stride=(1, 1), padding=(1, 1))\n",
    "        self.batchnorm2_2_2 = nn.BatchNorm2d(64)\n",
    "        self.dropout2_2 = nn.Dropout(p=self.dropout_percentage)\n",
    "        self.se2_2 = SEBlock(64)\n",
    "\n",
    "        # BLOCK-3 (1) input=(56x56) output = (28x28)\n",
    "        self.conv3_1_1 = nn.Conv2d(in_channels=64, out_channels=128, kernel_size=(3, 3), stride=(2, 2), padding=(1, 1))\n",
    "        self.batchnorm3_1_1 = nn.BatchNorm2d(128)\n",
    "        self.conv3_1_2 = nn.Conv2d(in_channels=128, out_channels=128, kernel_size=(3, 3), stride=(1, 1), padding=(1, 1))\n",
    "        self.batchnorm3_1_2 = nn.BatchNorm2d(128)\n",
    "        self.concat_adjust_3 = nn.Conv2d(in_channels=64, out_channels=128, kernel_size=(1, 1), stride=(2, 2),\n",
    "                                         padding=(0, 0))\n",
    "        self.dropout3_1 = nn.Dropout(p=self.dropout_percentage)\n",
    "        self.se3_1 = SEBlock(128)\n",
    "\n",
    "        # BLOCK-3 (2)\n",
    "        self.conv3_2_1 = nn.Conv2d(in_channels=128, out_channels=128, kernel_size=(3, 3), stride=(1, 1), padding=(1, 1))\n",
    "        self.batchnorm3_2_1 = nn.BatchNorm2d(128)\n",
    "        self.conv3_2_2 = nn.Conv2d(in_channels=128, out_channels=128, kernel_size=(3, 3), stride=(1, 1), padding=(1, 1))\n",
    "        self.batchnorm3_2_2 = nn.BatchNorm2d(128)\n",
    "        self.dropout3_2 = nn.Dropout(p=self.dropout_percentage)\n",
    "        self.se3_2 = SEBlock(128)\n",
    "\n",
    "        # BLOCK-4 (1) input=(28x28) output = (14x14)\n",
    "        self.conv4_1_1 = nn.Conv2d(in_channels=128, out_channels=256, kernel_size=(3, 3), stride=(2, 2), padding=(1, 1))\n",
    "        self.batchnorm4_1_1 = nn.BatchNorm2d(256)\n",
    "        self.conv4_1_2 = nn.Conv2d(in_channels=256, out_channels=256, kernel_size=(3, 3), stride=(1, 1), padding=(1, 1))\n",
    "        self.batchnorm4_1_2 = nn.BatchNorm2d(256)\n",
    "        self.concat_adjust_4 = nn.Conv2d(in_channels=128, out_channels=256, kernel_size=(1, 1), stride=(2, 2),\n",
    "                                         padding=(0, 0))\n",
    "        self.dropout4_1 = nn.Dropout(p=self.dropout_percentage)\n",
    "        self.se4_1 = SEBlock(256)\n",
    "\n",
    "        # BLOCK-4 (2)\n",
    "        self.conv4_2_1 = nn.Conv2d(in_channels=256, out_channels=256, kernel_size=(3, 3), stride=(1, 1), padding=(1, 1))\n",
    "        self.batchnorm4_2_1 = nn.BatchNorm2d(256)\n",
    "        self.conv4_2_2 = nn.Conv2d(in_channels=256, out_channels=256, kernel_size=(3, 3), stride=(1, 1), padding=(1, 1))\n",
    "        self.batchnorm4_2_2 = nn.BatchNorm2d(256)\n",
    "        self.dropout4_2 = nn.Dropout(p=self.dropout_percentage)\n",
    "        self.se4_2 = SEBlock(256)\n",
    "\n",
    "        # BLOCK-5 (1) input=(14x14) output = (7x7)\n",
    "        self.conv5_1_1 = nn.Conv2d(in_channels=256, out_channels=512, kernel_size=(3, 3), stride=(2, 2), padding=(1, 1))\n",
    "        self.batchnorm5_1_1 = nn.BatchNorm2d(512)\n",
    "        self.conv5_1_2 = nn.Conv2d(in_channels=512, out_channels=512, kernel_size=(3, 3), stride=(1, 1), padding=(1, 1))\n",
    "        self.batchnorm5_1_2 = nn.BatchNorm2d(512)\n",
    "        self.concat_adjust_5 = nn.Conv2d(in_channels=256, out_channels=512, kernel_size=(1, 1), stride=(2, 2),\n",
    "                                         padding=(0, 0))\n",
    "        self.dropout5_1 = nn.Dropout(p=self.dropout_percentage)\n",
    "        self.se5_1 = SEBlock(512)\n",
    "\n",
    "        # BLOCK-5 (2)\n",
    "        self.conv5_2_1 = nn.Conv2d(in_channels=512, out_channels=512, kernel_size=(3, 3), stride=(1, 1), padding=(1, 1))\n",
    "        self.batchnorm5_2_1 = nn.BatchNorm2d(512)\n",
    "        self.conv5_2_2 = nn.Conv2d(in_channels=512, out_channels=512, kernel_size=(3, 3), stride=(1, 1), padding=(1, 1))\n",
    "        self.batchnorm5_2_2 = nn.BatchNorm2d(512)\n",
    "        self.dropout5_2 = nn.Dropout(p=self.dropout_percentage)\n",
    "        self.se5_2 = SEBlock(512)\n",
    "\n",
    "        # Final Block input=(7x7)\n",
    "        self.avgpool = nn.AvgPool2d(kernel_size=(7, 7), stride=(1, 1))\n",
    "        self.fc = nn.Linear(in_features=1 * 1 * 512, out_features=1000)\n",
    "        self.out = nn.Linear(in_features=1000, out_features=num_classes)\n",
    "        # END\n",
    "\n",
    "    def forward(self, x):\n",
    "        # block 1 --> Starting block\n",
    "        x = self.relu(self.batchnorm1(self.conv1(x)))\n",
    "        op1 = self.maxpool1(x)\n",
    "\n",
    "        # block2 - 1\n",
    "        x = self.relu(self.batchnorm2_1_1(self.conv2_1_1(op1)))  # conv2_1\n",
    "        x = self.batchnorm2_1_2(self.conv2_1_2(x))  # conv2_1\n",
    "        x = self.dropout2_1(x)\n",
    "        x = self.se2_1(x)\n",
    "        # block2 - Adjust - No adjust in this layer as dimensions are already same\n",
    "        # block2 - Concatenate 1\n",
    "        op2_1 = self.relu(x + op1)\n",
    "        # block2 - 2\n",
    "        x = self.relu(self.batchnorm2_2_1(self.conv2_2_1(op2_1)))  # conv2_2\n",
    "        x = self.batchnorm2_2_2(self.conv2_2_2(x))  # conv2_2\n",
    "        x = self.dropout2_2(x)\n",
    "        x = self.se2_2(x)\n",
    "        # op - block2\n",
    "        op2 = self.relu(x + op2_1)\n",
    "\n",
    "        # block3 - 1[Convolution block]\n",
    "        x = self.relu(self.batchnorm3_1_1(self.conv3_1_1(op2)))  # conv3_1\n",
    "        x = self.batchnorm3_1_2(self.conv3_1_2(x))  # conv3_1\n",
    "        x = self.dropout3_1(x)\n",
    "        x = self.se3_1(x)\n",
    "        # block3 - Adjust\n",
    "        op2 = self.concat_adjust_3(op2)  # SKIP CONNECTION\n",
    "        # block3 - Concatenate 1\n",
    "        op3_1 = self.relu(x + op2)\n",
    "        # block3 - 2[Identity Block]\n",
    "        x = self.relu(self.batchnorm3_2_1(self.conv3_2_1(op3_1)))  # conv3_2\n",
    "        x = self.batchnorm3_2_2(self.conv3_2_2(x))  # conv3_2\n",
    "        x = self.dropout3_2(x)\n",
    "        x = self.se3_2(x)\n",
    "        # op - block3\n",
    "        op3 = self.relu(x + op3_1)\n",
    "\n",
    "        # block4 - 1[Convolition block]\n",
    "        x = self.relu(self.batchnorm4_1_1(self.conv4_1_1(op3)))  # conv4_1\n",
    "        x = self.batchnorm4_1_2(self.conv4_1_2(x))  # conv4_1\n",
    "        x = self.dropout4_1(x)\n",
    "        x = self.se4_1(x)\n",
    "        # block4 - Adjust\n",
    "        op3 = self.concat_adjust_4(op3)  # SKIP CONNECTION\n",
    "        # block4 - Concatenate 1\n",
    "        op4_1 = self.relu(x + op3)\n",
    "        # block4 - 2[Identity Block]\n",
    "        x = self.relu(self.batchnorm4_2_1(self.conv4_2_1(op4_1)))  # conv4_2\n",
    "        x = self.batchnorm4_2_2(self.conv4_2_2(x))  # conv4_2\n",
    "        x = self.dropout4_2(x)\n",
    "        x = self.se4_2(x)\n",
    "        # op - block4\n",
    "        op4 = self.relu(x + op4_1)\n",
    "\n",
    "        # block5 - 1[Convolution Block]\n",
    "        x = self.relu(self.batchnorm5_1_1(self.conv5_1_1(op4)))  # conv5_1\n",
    "        x = self.batchnorm5_1_2(self.conv5_1_2(x))  # conv5_1\n",
    "        x = self.dropout5_1(x)\n",
    "        x = self.se5_1(x)\n",
    "        # block5 - Adjust\n",
    "        op4 = self.concat_adjust_5(op4)  # SKIP CONNECTION\n",
    "        # block5 - Concatenate 1\n",
    "        op5_1 = self.relu(x + op4)\n",
    "        # block5 - 2[Identity Block]\n",
    "        x = self.relu(self.batchnorm5_2_1(self.conv5_2_1(op5_1)))  # conv5_2\n",
    "        x = self.batchnorm5_2_2(self.conv5_2_1(x))  # conv5_2\n",
    "        x = self.dropout5_2(x)\n",
    "        x = self.se5_2(x)\n",
    "        # op - block5\n",
    "        op5 = self.relu(x + op5_1)\n",
    "\n",
    "        # FINAL BLOCK - classifier\n",
    "        x = self.avgpool(op5)\n",
    "        x = x.reshape(x.shape[0], -1)\n",
    "        x = self.relu(self.fc(x))\n",
    "        x = self.out(x)\n",
    "\n",
    "        return x\n"
   ]
  },
  {
   "cell_type": "markdown",
   "id": "7397e3f1",
   "metadata": {
    "papermill": {
     "duration": 0.0032,
     "end_time": "2025-02-27T14:19:35.335757",
     "exception": false,
     "start_time": "2025-02-27T14:19:35.332557",
     "status": "completed"
    },
    "tags": []
   },
   "source": [
    "# Train SEBLock"
   ]
  },
  {
   "cell_type": "code",
   "execution_count": 6,
   "id": "c43a51d4",
   "metadata": {
    "execution": {
     "iopub.execute_input": "2025-02-27T14:19:35.343724Z",
     "iopub.status.busy": "2025-02-27T14:19:35.343510Z",
     "iopub.status.idle": "2025-02-27T22:49:51.551486Z",
     "shell.execute_reply": "2025-02-27T22:49:51.550613Z"
    },
    "papermill": {
     "duration": 30616.213992,
     "end_time": "2025-02-27T22:49:51.553249",
     "exception": false,
     "start_time": "2025-02-27T14:19:35.339257",
     "status": "completed"
    },
    "tags": []
   },
   "outputs": [
    {
     "name": "stderr",
     "output_type": "stream",
     "text": [
      "Training:   9%|██▊                             | 81/925 [00:39<06:14,  2.25it/s]/usr/local/lib/python3.10/dist-packages/PIL/Image.py:1054: UserWarning: Palette images with Transparency expressed in bytes should be converted to RGBA images\n",
      "  warnings.warn(\n",
      "Training: 100%|███████████████████████████████| 925/925 [07:22<00:00,  2.09it/s]\n",
      "Valid: 100%|██████████████████████████████████| 132/132 [00:50<00:00,  2.60it/s]\n"
     ]
    },
    {
     "name": "stdout",
     "output_type": "stream",
     "text": [
      "Epoch 0: Train loss = 1.6270333226951392, Train accuracy: 0.3739207448790202\n",
      "Epoch 0: Validation loss = 1.4006815882343235, Validation accuracy: 0.4697840914807536\n",
      "Validation accuracy increased (0 --> 0.4697840914807536). Model saved\n"
     ]
    },
    {
     "name": "stderr",
     "output_type": "stream",
     "text": [
      "Training: 100%|███████████████████████████████| 925/925 [04:41<00:00,  3.28it/s]\n",
      "Valid: 100%|██████████████████████████████████| 132/132 [00:25<00:00,  5.11it/s]\n"
     ]
    },
    {
     "name": "stdout",
     "output_type": "stream",
     "text": [
      "Epoch 1: Train loss = 1.2798717317065678, Train accuracy: 0.5122083545697702\n",
      "Epoch 1: Validation loss = 1.5456087801492575, Validation accuracy: 0.4489321724483461\n"
     ]
    },
    {
     "name": "stderr",
     "output_type": "stream",
     "text": [
      "Training: 100%|███████████████████████████████| 925/925 [04:41<00:00,  3.28it/s]\n",
      "Valid: 100%|██████████████████████████████████| 132/132 [00:26<00:00,  5.06it/s]\n"
     ]
    },
    {
     "name": "stdout",
     "output_type": "stream",
     "text": [
      "Epoch 2: Train loss = 1.0863087532326983, Train accuracy: 0.5881349845029212\n",
      "Epoch 2: Validation loss = 1.0580843524499373, Validation accuracy: 0.6009338439413996\n",
      "Validation accuracy increased (0.4697840914807536 --> 0.6009338439413996). Model saved\n"
     ]
    },
    {
     "name": "stderr",
     "output_type": "stream",
     "text": [
      "Training: 100%|███████████████████████████████| 925/925 [04:34<00:00,  3.37it/s]\n",
      "Valid: 100%|██████████████████████████████████| 132/132 [00:26<00:00,  4.90it/s]\n"
     ]
    },
    {
     "name": "stdout",
     "output_type": "stream",
     "text": [
      "Epoch 3: Train loss = 0.9400623954953374, Train accuracy: 0.6505727417726774\n",
      "Epoch 3: Validation loss = 1.1849697214184385, Validation accuracy: 0.5651428843989517\n"
     ]
    },
    {
     "name": "stderr",
     "output_type": "stream",
     "text": [
      "Training: 100%|███████████████████████████████| 925/925 [04:37<00:00,  3.33it/s]\n",
      "Valid: 100%|██████████████████████████████████| 132/132 [00:27<00:00,  4.75it/s]\n"
     ]
    },
    {
     "name": "stdout",
     "output_type": "stream",
     "text": [
      "Epoch 4: Train loss = 0.8376955457313641, Train accuracy: 0.6785451214055758\n",
      "Epoch 4: Validation loss = 0.9615519509622545, Validation accuracy: 0.6516042464610302\n",
      "Validation accuracy increased (0.6009338439413996 --> 0.6516042464610302). Model saved\n"
     ]
    },
    {
     "name": "stderr",
     "output_type": "stream",
     "text": [
      "Training: 100%|███████████████████████████████| 925/925 [04:48<00:00,  3.21it/s]\n",
      "Valid: 100%|██████████████████████████████████| 132/132 [00:28<00:00,  4.67it/s]\n"
     ]
    },
    {
     "name": "stdout",
     "output_type": "stream",
     "text": [
      "Epoch 5: Train loss = 0.740975419186257, Train accuracy: 0.7158537896259412\n",
      "Epoch 5: Validation loss = 0.8546224385499954, Validation accuracy: 0.6875963723569205\n",
      "Validation accuracy increased (0.6516042464610302 --> 0.6875963723569205). Model saved\n"
     ]
    },
    {
     "name": "stderr",
     "output_type": "stream",
     "text": [
      "Training: 100%|███████████████████████████████| 925/925 [04:32<00:00,  3.39it/s]\n",
      "Valid: 100%|██████████████████████████████████| 132/132 [00:34<00:00,  3.82it/s]\n"
     ]
    },
    {
     "name": "stdout",
     "output_type": "stream",
     "text": [
      "Epoch 6: Train loss = 0.6662152726102519, Train accuracy: 0.7440338447287276\n",
      "Epoch 6: Validation loss = 0.826197226164919, Validation accuracy: 0.7068391927715504\n",
      "Validation accuracy increased (0.6875963723569205 --> 0.7068391927715504). Model saved\n"
     ]
    },
    {
     "name": "stderr",
     "output_type": "stream",
     "text": [
      "Training: 100%|███████████████████████████████| 925/925 [05:01<00:00,  3.07it/s]\n",
      "Valid: 100%|██████████████████████████████████| 132/132 [00:30<00:00,  4.31it/s]\n"
     ]
    },
    {
     "name": "stdout",
     "output_type": "stream",
     "text": [
      "Epoch 7: Train loss = 0.5997732498355814, Train accuracy: 0.7646593352910634\n",
      "Epoch 7: Validation loss = 0.9083102275476311, Validation accuracy: 0.664051163602959\n"
     ]
    },
    {
     "name": "stderr",
     "output_type": "stream",
     "text": [
      "Training: 100%|███████████████████████████████| 925/925 [04:29<00:00,  3.44it/s]\n",
      "Valid: 100%|██████████████████████████████████| 132/132 [00:25<00:00,  5.09it/s]\n"
     ]
    },
    {
     "name": "stdout",
     "output_type": "stream",
     "text": [
      "Epoch 8: Train loss = 0.5472531898762729, Train accuracy: 0.7885248071760744\n",
      "Epoch 8: Validation loss = 0.7072733575195977, Validation accuracy: 0.7231640917333689\n",
      "Validation accuracy increased (0.7068391927715504 --> 0.7231640917333689). Model saved\n"
     ]
    },
    {
     "name": "stderr",
     "output_type": "stream",
     "text": [
      "Training: 100%|███████████████████████████████| 925/925 [04:32<00:00,  3.39it/s]\n",
      "Valid: 100%|██████████████████████████████████| 132/132 [00:28<00:00,  4.68it/s]\n"
     ]
    },
    {
     "name": "stdout",
     "output_type": "stream",
     "text": [
      "Epoch 9: Train loss = 0.4949254058502816, Train accuracy: 0.8062884371667295\n",
      "Epoch 9: Validation loss = 0.6288874201250799, Validation accuracy: 0.769520464720148\n",
      "Validation accuracy increased (0.7231640917333689 --> 0.769520464720148). Model saved\n"
     ]
    },
    {
     "name": "stderr",
     "output_type": "stream",
     "text": [
      "Training: 100%|███████████████████████████████| 925/925 [04:37<00:00,  3.33it/s]\n",
      "Valid: 100%|██████████████████████████████████| 132/132 [00:26<00:00,  5.04it/s]\n"
     ]
    },
    {
     "name": "stdout",
     "output_type": "stream",
     "text": [
      "Epoch 10: Train loss = 0.45590913936898514, Train accuracy: 0.8229651384418075\n",
      "Epoch 10: Validation loss = 0.6143938321055789, Validation accuracy: 0.7518018547332648\n"
     ]
    },
    {
     "name": "stderr",
     "output_type": "stream",
     "text": [
      "Training: 100%|███████████████████████████████| 925/925 [04:32<00:00,  3.39it/s]\n",
      "Valid: 100%|██████████████████████████████████| 132/132 [00:26<00:00,  5.06it/s]\n"
     ]
    },
    {
     "name": "stdout",
     "output_type": "stream",
     "text": [
      "Epoch 11: Train loss = 0.4141093023886552, Train accuracy: 0.8359730424752106\n",
      "Epoch 11: Validation loss = 0.6249206030007565, Validation accuracy: 0.7623504892443166\n"
     ]
    },
    {
     "name": "stderr",
     "output_type": "stream",
     "text": [
      "Training: 100%|███████████████████████████████| 925/925 [04:48<00:00,  3.21it/s]\n",
      "Valid: 100%|██████████████████████████████████| 132/132 [00:44<00:00,  2.99it/s]\n"
     ]
    },
    {
     "name": "stdout",
     "output_type": "stream",
     "text": [
      "Epoch 12: Train loss = 0.38699486715568077, Train accuracy: 0.8398402508851645\n",
      "Epoch 12: Validation loss = 0.6404036029495976, Validation accuracy: 0.7756612413760388\n",
      "Validation accuracy increased (0.769520464720148 --> 0.7756612413760388). Model saved\n"
     ]
    },
    {
     "name": "stderr",
     "output_type": "stream",
     "text": [
      "Training: 100%|███████████████████████████████| 925/925 [05:09<00:00,  2.99it/s]\n",
      "Valid: 100%|██████████████████████████████████| 132/132 [00:28<00:00,  4.61it/s]\n"
     ]
    },
    {
     "name": "stdout",
     "output_type": "stream",
     "text": [
      "Epoch 13: Train loss = 0.3447569009581128, Train accuracy: 0.8601073865632753\n",
      "Epoch 13: Validation loss = 0.5437850709440131, Validation accuracy: 0.7926702092994343\n",
      "Validation accuracy increased (0.7756612413760388 --> 0.7926702092994343). Model saved\n"
     ]
    },
    {
     "name": "stderr",
     "output_type": "stream",
     "text": [
      "Training: 100%|███████████████████████████████| 925/925 [04:52<00:00,  3.17it/s]\n",
      "Valid: 100%|██████████████████████████████████| 132/132 [00:26<00:00,  4.92it/s]\n"
     ]
    },
    {
     "name": "stdout",
     "output_type": "stream",
     "text": [
      "Epoch 14: Train loss = 0.31790765587139774, Train accuracy: 0.8739494804433874\n",
      "Epoch 14: Validation loss = 0.6304648581779364, Validation accuracy: 0.7768264187104774\n"
     ]
    },
    {
     "name": "stderr",
     "output_type": "stream",
     "text": [
      "Training: 100%|███████████████████████████████| 925/925 [04:32<00:00,  3.40it/s]\n",
      "Valid: 100%|██████████████████████████████████| 132/132 [00:26<00:00,  4.96it/s]\n"
     ]
    },
    {
     "name": "stdout",
     "output_type": "stream",
     "text": [
      "Epoch 15: Train loss = 0.2907678289409425, Train accuracy: 0.8802988600408709\n",
      "Epoch 15: Validation loss = 0.5077103268580906, Validation accuracy: 0.8074380780259768\n",
      "Validation accuracy increased (0.7926702092994343 --> 0.8074380780259768). Model saved\n"
     ]
    },
    {
     "name": "stderr",
     "output_type": "stream",
     "text": [
      "Training: 100%|███████████████████████████████| 925/925 [04:30<00:00,  3.42it/s]\n",
      "Valid: 100%|██████████████████████████████████| 132/132 [00:27<00:00,  4.88it/s]\n"
     ]
    },
    {
     "name": "stdout",
     "output_type": "stream",
     "text": [
      "Epoch 16: Train loss = 0.27011785385576453, Train accuracy: 0.8869130570179707\n",
      "Epoch 16: Validation loss = 0.6448814993103346, Validation accuracy: 0.7821779219490109\n"
     ]
    },
    {
     "name": "stderr",
     "output_type": "stream",
     "text": [
      "Training: 100%|███████████████████████████████| 925/925 [04:32<00:00,  3.40it/s]\n",
      "Valid: 100%|██████████████████████████████████| 132/132 [00:26<00:00,  5.05it/s]\n"
     ]
    },
    {
     "name": "stdout",
     "output_type": "stream",
     "text": [
      "Epoch 17: Train loss = 0.24670995255781186, Train accuracy: 0.892226594589852\n",
      "Epoch 17: Validation loss = 0.5429048031342752, Validation accuracy: 0.8093078438982819\n",
      "Validation accuracy increased (0.8074380780259768 --> 0.8093078438982819). Model saved\n"
     ]
    },
    {
     "name": "stderr",
     "output_type": "stream",
     "text": [
      "Training: 100%|███████████████████████████████| 925/925 [04:26<00:00,  3.47it/s]\n",
      "Valid: 100%|██████████████████████████████████| 132/132 [00:26<00:00,  5.04it/s]\n"
     ]
    },
    {
     "name": "stdout",
     "output_type": "stream",
     "text": [
      "Epoch 18: Train loss = 0.22703766777104623, Train accuracy: 0.9062627666705364\n",
      "Epoch 18: Validation loss = 0.8382943744460741, Validation accuracy: 0.7055203792723742\n"
     ]
    },
    {
     "name": "stderr",
     "output_type": "stream",
     "text": [
      "Training: 100%|███████████████████████████████| 925/925 [04:26<00:00,  3.47it/s]\n",
      "Valid: 100%|██████████████████████████████████| 132/132 [00:26<00:00,  5.04it/s]\n"
     ]
    },
    {
     "name": "stdout",
     "output_type": "stream",
     "text": [
      "Epoch 19: Train loss = 0.21586550038207222, Train accuracy: 0.9064261622042269\n",
      "Epoch 19: Validation loss = 0.603219685003613, Validation accuracy: 0.7922026654987624\n"
     ]
    },
    {
     "name": "stderr",
     "output_type": "stream",
     "text": [
      "Training: 100%|███████████████████████████████| 925/925 [04:27<00:00,  3.45it/s]\n",
      "Valid: 100%|██████████████████████████████████| 132/132 [00:46<00:00,  2.81it/s]\n"
     ]
    },
    {
     "name": "stdout",
     "output_type": "stream",
     "text": [
      "Epoch 20: Train loss = 0.1969277127741559, Train accuracy: 0.917874824291951\n",
      "Epoch 20: Validation loss = 0.5426704035789678, Validation accuracy: 0.8142838633873246\n",
      "Validation accuracy increased (0.8093078438982819 --> 0.8142838633873246). Model saved\n"
     ]
    },
    {
     "name": "stderr",
     "output_type": "stream",
     "text": [
      "Training: 100%|███████████████████████████████| 925/925 [05:09<00:00,  2.99it/s]\n",
      "Valid: 100%|██████████████████████████████████| 132/132 [00:26<00:00,  5.05it/s]\n"
     ]
    },
    {
     "name": "stdout",
     "output_type": "stream",
     "text": [
      "Epoch 21: Train loss = 0.18376458759545475, Train accuracy: 0.9209648184518556\n",
      "Epoch 21: Validation loss = 0.655808719834595, Validation accuracy: 0.7859364729939085\n"
     ]
    },
    {
     "name": "stderr",
     "output_type": "stream",
     "text": [
      "Training: 100%|███████████████████████████████| 925/925 [05:04<00:00,  3.04it/s]\n",
      "Valid: 100%|██████████████████████████████████| 132/132 [00:34<00:00,  3.85it/s]\n"
     ]
    },
    {
     "name": "stdout",
     "output_type": "stream",
     "text": [
      "Epoch 22: Train loss = 0.17743910452501999, Train accuracy: 0.9239391054333868\n",
      "Epoch 22: Validation loss = 0.7046277026335398, Validation accuracy: 0.7386117760430683\n"
     ]
    },
    {
     "name": "stderr",
     "output_type": "stream",
     "text": [
      "Training: 100%|███████████████████████████████| 925/925 [04:54<00:00,  3.15it/s]\n",
      "Valid: 100%|██████████████████████████████████| 132/132 [00:25<00:00,  5.14it/s]\n"
     ]
    },
    {
     "name": "stdout",
     "output_type": "stream",
     "text": [
      "Epoch 23: Train loss = 0.16320369844652108, Train accuracy: 0.9299701645567611\n",
      "Epoch 23: Validation loss = 0.5861651382098595, Validation accuracy: 0.7839393611207153\n"
     ]
    },
    {
     "name": "stderr",
     "output_type": "stream",
     "text": [
      "Training: 100%|███████████████████████████████| 925/925 [04:30<00:00,  3.42it/s]\n",
      "Valid: 100%|██████████████████████████████████| 132/132 [00:26<00:00,  4.96it/s]\n"
     ]
    },
    {
     "name": "stdout",
     "output_type": "stream",
     "text": [
      "Epoch 24: Train loss = 0.15411850410035333, Train accuracy: 0.9355438956054482\n",
      "Epoch 24: Validation loss = 0.5686131553216414, Validation accuracy: 0.8123691082000732\n"
     ]
    },
    {
     "name": "stderr",
     "output_type": "stream",
     "text": [
      "Training: 100%|███████████████████████████████| 925/925 [04:35<00:00,  3.36it/s]\n",
      "Valid: 100%|██████████████████████████████████| 132/132 [00:26<00:00,  4.98it/s]\n"
     ]
    },
    {
     "name": "stdout",
     "output_type": "stream",
     "text": [
      "Epoch 25: Train loss = 0.14259291004943284, Train accuracy: 0.9404430184493193\n",
      "Epoch 25: Validation loss = 0.5255788261014404, Validation accuracy: 0.8082249620647142\n"
     ]
    },
    {
     "name": "stderr",
     "output_type": "stream",
     "text": [
      "Training: 100%|███████████████████████████████| 925/925 [04:32<00:00,  3.39it/s]\n",
      "Valid: 100%|██████████████████████████████████| 132/132 [00:26<00:00,  5.03it/s]\n"
     ]
    },
    {
     "name": "stdout",
     "output_type": "stream",
     "text": [
      "Epoch 26: Train loss = 0.13639169853079963, Train accuracy: 0.9399367287352278\n",
      "Epoch 26: Validation loss = 0.678626974536614, Validation accuracy: 0.7689207272999214\n"
     ]
    },
    {
     "name": "stderr",
     "output_type": "stream",
     "text": [
      "Training: 100%|███████████████████████████████| 925/925 [04:33<00:00,  3.39it/s]\n",
      "Valid: 100%|██████████████████████████████████| 132/132 [00:25<00:00,  5.08it/s]\n"
     ]
    },
    {
     "name": "stdout",
     "output_type": "stream",
     "text": [
      "Epoch 27: Train loss = 0.12493429432799284, Train accuracy: 0.9477668985160621\n",
      "Epoch 27: Validation loss = 0.5966566129390037, Validation accuracy: 0.7884409405065306\n"
     ]
    },
    {
     "name": "stderr",
     "output_type": "stream",
     "text": [
      "Training: 100%|███████████████████████████████| 925/925 [04:27<00:00,  3.45it/s]\n",
      "Valid: 100%|██████████████████████████████████| 132/132 [00:26<00:00,  5.00it/s]\n"
     ]
    },
    {
     "name": "stdout",
     "output_type": "stream",
     "text": [
      "Epoch 28: Train loss = 0.12167988796038805, Train accuracy: 0.9468708026731336\n",
      "Epoch 28: Validation loss = 0.6105162216293992, Validation accuracy: 0.7940518905719122\n"
     ]
    },
    {
     "name": "stderr",
     "output_type": "stream",
     "text": [
      "Training: 100%|███████████████████████████████| 925/925 [04:31<00:00,  3.40it/s]\n",
      "Valid: 100%|██████████████████████████████████| 132/132 [00:25<00:00,  5.09it/s]\n"
     ]
    },
    {
     "name": "stdout",
     "output_type": "stream",
     "text": [
      "Epoch 29: Train loss = 0.10963798639540737, Train accuracy: 0.9494855576592522\n",
      "Epoch 29: Validation loss = 0.6044825782265627, Validation accuracy: 0.8029108386148106\n"
     ]
    },
    {
     "name": "stderr",
     "output_type": "stream",
     "text": [
      "Training: 100%|███████████████████████████████| 925/925 [04:27<00:00,  3.46it/s]\n",
      "Valid: 100%|██████████████████████████████████| 132/132 [00:26<00:00,  4.96it/s]\n"
     ]
    },
    {
     "name": "stdout",
     "output_type": "stream",
     "text": [
      "Epoch 30: Train loss = 0.11014143637054273, Train accuracy: 0.953295749200357\n",
      "Epoch 30: Validation loss = 0.6096455247677637, Validation accuracy: 0.7973433168548526\n"
     ]
    },
    {
     "name": "stderr",
     "output_type": "stream",
     "text": [
      "Training: 100%|███████████████████████████████| 925/925 [04:32<00:00,  3.39it/s]\n",
      "Valid: 100%|██████████████████████████████████| 132/132 [00:27<00:00,  4.75it/s]\n"
     ]
    },
    {
     "name": "stdout",
     "output_type": "stream",
     "text": [
      "Epoch 31: Train loss = 0.10459559811757424, Train accuracy: 0.9532820371679358\n",
      "Epoch 31: Validation loss = 0.5593640875974388, Validation accuracy: 0.8121125549077988\n"
     ]
    },
    {
     "name": "stderr",
     "output_type": "stream",
     "text": [
      "Training: 100%|███████████████████████████████| 925/925 [04:38<00:00,  3.32it/s]\n",
      "Valid: 100%|██████████████████████████████████| 132/132 [00:25<00:00,  5.17it/s]\n"
     ]
    },
    {
     "name": "stdout",
     "output_type": "stream",
     "text": [
      "Epoch 32: Train loss = 0.10210989478824509, Train accuracy: 0.955119220823855\n",
      "Epoch 32: Validation loss = 0.5266899266139125, Validation accuracy: 0.8048687663042184\n"
     ]
    },
    {
     "name": "stderr",
     "output_type": "stream",
     "text": [
      "Training: 100%|███████████████████████████████| 925/925 [04:31<00:00,  3.41it/s]\n",
      "Valid: 100%|██████████████████████████████████| 132/132 [00:26<00:00,  5.01it/s]\n"
     ]
    },
    {
     "name": "stdout",
     "output_type": "stream",
     "text": [
      "Epoch 33: Train loss = 0.09550693039102731, Train accuracy: 0.9574057640900483\n",
      "Epoch 33: Validation loss = 0.620588720973694, Validation accuracy: 0.7952170213966658\n"
     ]
    },
    {
     "name": "stderr",
     "output_type": "stream",
     "text": [
      "Training: 100%|███████████████████████████████| 925/925 [04:42<00:00,  3.27it/s]\n",
      "Valid: 100%|██████████████████████████████████| 132/132 [00:25<00:00,  5.19it/s]\n"
     ]
    },
    {
     "name": "stdout",
     "output_type": "stream",
     "text": [
      "Epoch 34: Train loss = 0.09412635514235779, Train accuracy: 0.9609223309078732\n",
      "Epoch 34: Validation loss = 0.5086975193046259, Validation accuracy: 0.8258512530362967\n",
      "Validation accuracy increased (0.8142838633873246 --> 0.8258512530362967). Model saved\n"
     ]
    },
    {
     "name": "stderr",
     "output_type": "stream",
     "text": [
      "Training: 100%|███████████████████████████████| 925/925 [04:30<00:00,  3.42it/s]\n",
      "Valid: 100%|██████████████████████████████████| 132/132 [00:26<00:00,  5.03it/s]\n"
     ]
    },
    {
     "name": "stdout",
     "output_type": "stream",
     "text": [
      "Epoch 35: Train loss = 0.08543987201476419, Train accuracy: 0.9621178715937846\n",
      "Epoch 35: Validation loss = 0.5275020905855027, Validation accuracy: 0.8160820124727307\n"
     ]
    },
    {
     "name": "stderr",
     "output_type": "stream",
     "text": [
      "Training: 100%|███████████████████████████████| 925/925 [04:37<00:00,  3.33it/s]\n",
      "Valid: 100%|██████████████████████████████████| 132/132 [00:27<00:00,  4.89it/s]\n"
     ]
    },
    {
     "name": "stdout",
     "output_type": "stream",
     "text": [
      "Epoch 36: Train loss = 0.08552304289530258, Train accuracy: 0.9643682168625497\n",
      "Epoch 36: Validation loss = 0.652318474413319, Validation accuracy: 0.8055164457270594\n"
     ]
    },
    {
     "name": "stderr",
     "output_type": "stream",
     "text": [
      "Training: 100%|███████████████████████████████| 925/925 [04:33<00:00,  3.38it/s]\n",
      "Valid: 100%|██████████████████████████████████| 132/132 [00:26<00:00,  5.07it/s]\n"
     ]
    },
    {
     "name": "stdout",
     "output_type": "stream",
     "text": [
      "Epoch 37: Train loss = 0.07987078474582852, Train accuracy: 0.9649997017834637\n",
      "Epoch 37: Validation loss = 0.5722998474922144, Validation accuracy: 0.8134638929005825\n"
     ]
    },
    {
     "name": "stderr",
     "output_type": "stream",
     "text": [
      "Training: 100%|███████████████████████████████| 925/925 [04:32<00:00,  3.39it/s]\n",
      "Valid: 100%|██████████████████████████████████| 132/132 [00:26<00:00,  5.03it/s]\n"
     ]
    },
    {
     "name": "stdout",
     "output_type": "stream",
     "text": [
      "Epoch 38: Train loss = 0.08244213135032033, Train accuracy: 0.9655876445770264\n",
      "Epoch 38: Validation loss = 0.5826726565984163, Validation accuracy: 0.8042852846962033\n"
     ]
    },
    {
     "name": "stderr",
     "output_type": "stream",
     "text": [
      "Training: 100%|███████████████████████████████| 925/925 [04:25<00:00,  3.48it/s]\n",
      "Valid: 100%|██████████████████████████████████| 132/132 [00:26<00:00,  5.00it/s]\n"
     ]
    },
    {
     "name": "stdout",
     "output_type": "stream",
     "text": [
      "Epoch 39: Train loss = 0.0743152618836108, Train accuracy: 0.9692287178297301\n",
      "Epoch 39: Validation loss = 0.5898887638679959, Validation accuracy: 0.7949843754371008\n"
     ]
    },
    {
     "name": "stderr",
     "output_type": "stream",
     "text": [
      "Training: 100%|███████████████████████████████| 925/925 [04:30<00:00,  3.41it/s]\n",
      "Valid: 100%|██████████████████████████████████| 132/132 [00:29<00:00,  4.55it/s]\n"
     ]
    },
    {
     "name": "stdout",
     "output_type": "stream",
     "text": [
      "Epoch 40: Train loss = 0.07398451746026104, Train accuracy: 0.9686540348465378\n",
      "Epoch 40: Validation loss = 0.585465840092211, Validation accuracy: 0.8146418798150439\n"
     ]
    },
    {
     "name": "stderr",
     "output_type": "stream",
     "text": [
      "Training: 100%|███████████████████████████████| 925/925 [04:31<00:00,  3.41it/s]\n",
      "Valid: 100%|██████████████████████████████████| 132/132 [00:25<00:00,  5.13it/s]\n"
     ]
    },
    {
     "name": "stdout",
     "output_type": "stream",
     "text": [
      "Epoch 41: Train loss = 0.07149732966089269, Train accuracy: 0.9670369066418828\n",
      "Epoch 41: Validation loss = 0.6779237765480172, Validation accuracy: 0.7960496580961979\n"
     ]
    },
    {
     "name": "stderr",
     "output_type": "stream",
     "text": [
      "Training: 100%|███████████████████████████████| 925/925 [04:29<00:00,  3.43it/s]\n",
      "Valid: 100%|██████████████████████████████████| 132/132 [00:25<00:00,  5.08it/s]\n"
     ]
    },
    {
     "name": "stdout",
     "output_type": "stream",
     "text": [
      "Epoch 42: Train loss = 0.07191171301818276, Train accuracy: 0.9693869691281706\n",
      "Epoch 42: Validation loss = 0.608341712053075, Validation accuracy: 0.7900606407360597\n"
     ]
    },
    {
     "name": "stderr",
     "output_type": "stream",
     "text": [
      "Training: 100%|███████████████████████████████| 925/925 [04:28<00:00,  3.44it/s]\n",
      "Valid: 100%|██████████████████████████████████| 132/132 [00:26<00:00,  4.92it/s]\n"
     ]
    },
    {
     "name": "stdout",
     "output_type": "stream",
     "text": [
      "Epoch 43: Train loss = 0.06418762873335918, Train accuracy: 0.9718335766405672\n",
      "Epoch 43: Validation loss = 0.6787429534068162, Validation accuracy: 0.8011130473830483\n"
     ]
    },
    {
     "name": "stderr",
     "output_type": "stream",
     "text": [
      "Training: 100%|███████████████████████████████| 925/925 [04:28<00:00,  3.44it/s]\n",
      "Valid: 100%|██████████████████████████████████| 132/132 [00:31<00:00,  4.24it/s]\n"
     ]
    },
    {
     "name": "stdout",
     "output_type": "stream",
     "text": [
      "Epoch 44: Train loss = 0.06190615956451291, Train accuracy: 0.9710227535222028\n",
      "Epoch 44: Validation loss = 0.5984981370468935, Validation accuracy: 0.7987600817824855\n"
     ]
    },
    {
     "name": "stderr",
     "output_type": "stream",
     "text": [
      "Training: 100%|███████████████████████████████| 925/925 [04:31<00:00,  3.40it/s]\n",
      "Valid: 100%|██████████████████████████████████| 132/132 [00:26<00:00,  5.02it/s]\n"
     ]
    },
    {
     "name": "stdout",
     "output_type": "stream",
     "text": [
      "Epoch 45: Train loss = 0.06519701238847464, Train accuracy: 0.973249482464146\n",
      "Epoch 45: Validation loss = 0.6522297994374777, Validation accuracy: 0.7859926185373104\n"
     ]
    },
    {
     "name": "stderr",
     "output_type": "stream",
     "text": [
      "Training: 100%|███████████████████████████████| 925/925 [04:27<00:00,  3.46it/s]\n",
      "Valid: 100%|██████████████████████████████████| 132/132 [00:27<00:00,  4.77it/s]\n"
     ]
    },
    {
     "name": "stdout",
     "output_type": "stream",
     "text": [
      "Epoch 46: Train loss = 0.059475468551280684, Train accuracy: 0.9759413702423508\n",
      "Epoch 46: Validation loss = 0.6103502969737306, Validation accuracy: 0.7817628550710101\n"
     ]
    },
    {
     "name": "stderr",
     "output_type": "stream",
     "text": [
      "Training: 100%|███████████████████████████████| 925/925 [04:37<00:00,  3.33it/s]\n",
      "Valid: 100%|██████████████████████████████████| 132/132 [00:26<00:00,  4.99it/s]\n"
     ]
    },
    {
     "name": "stdout",
     "output_type": "stream",
     "text": [
      "Epoch 47: Train loss = 0.05865554388269555, Train accuracy: 0.9731528909141953\n",
      "Epoch 47: Validation loss = 0.5064400215492104, Validation accuracy: 0.8249326741153543\n"
     ]
    },
    {
     "name": "stderr",
     "output_type": "stream",
     "text": [
      "Training: 100%|███████████████████████████████| 925/925 [04:26<00:00,  3.47it/s]\n",
      "Valid: 100%|██████████████████████████████████| 132/132 [00:26<00:00,  4.93it/s]\n"
     ]
    },
    {
     "name": "stdout",
     "output_type": "stream",
     "text": [
      "Epoch 48: Train loss = 0.05652766449751358, Train accuracy: 0.9746536096366676\n",
      "Epoch 48: Validation loss = 0.5870914081619545, Validation accuracy: 0.8178469814134367\n"
     ]
    },
    {
     "name": "stderr",
     "output_type": "stream",
     "text": [
      "Training: 100%|███████████████████████████████| 925/925 [04:28<00:00,  3.44it/s]\n",
      "Valid: 100%|██████████████████████████████████| 132/132 [00:33<00:00,  3.94it/s]\n"
     ]
    },
    {
     "name": "stdout",
     "output_type": "stream",
     "text": [
      "Epoch 49: Train loss = 0.056335041625047655, Train accuracy: 0.9764065231503667\n",
      "Epoch 49: Validation loss = 0.5450229827935497, Validation accuracy: 0.8342885266650807\n",
      "Validation accuracy increased (0.8258512530362967 --> 0.8342885266650807). Model saved\n"
     ]
    },
    {
     "name": "stderr",
     "output_type": "stream",
     "text": [
      "Training: 100%|███████████████████████████████| 925/925 [04:34<00:00,  3.37it/s]\n",
      "Valid: 100%|██████████████████████████████████| 132/132 [00:25<00:00,  5.08it/s]\n"
     ]
    },
    {
     "name": "stdout",
     "output_type": "stream",
     "text": [
      "Epoch 50: Train loss = 0.05198284931614605, Train accuracy: 0.9752730595743334\n",
      "Epoch 50: Validation loss = 0.5753592581798633, Validation accuracy: 0.8189343715255911\n"
     ]
    },
    {
     "name": "stderr",
     "output_type": "stream",
     "text": [
      "Training: 100%|███████████████████████████████| 925/925 [04:27<00:00,  3.46it/s]\n",
      "Valid: 100%|██████████████████████████████████| 132/132 [00:27<00:00,  4.85it/s]\n"
     ]
    },
    {
     "name": "stdout",
     "output_type": "stream",
     "text": [
      "Epoch 51: Train loss = 0.056008454601664245, Train accuracy: 0.9763962017523276\n",
      "Epoch 51: Validation loss = 0.5644008208799994, Validation accuracy: 0.8025655182022037\n"
     ]
    },
    {
     "name": "stderr",
     "output_type": "stream",
     "text": [
      "Training: 100%|███████████████████████████████| 925/925 [04:29<00:00,  3.43it/s]\n",
      "Valid: 100%|██████████████████████████████████| 132/132 [00:26<00:00,  4.94it/s]\n"
     ]
    },
    {
     "name": "stdout",
     "output_type": "stream",
     "text": [
      "Epoch 52: Train loss = 0.05164002492042208, Train accuracy: 0.977053877662968\n",
      "Epoch 52: Validation loss = 0.6239806137640368, Validation accuracy: 0.8113240703488841\n"
     ]
    },
    {
     "name": "stderr",
     "output_type": "stream",
     "text": [
      "Training: 100%|███████████████████████████████| 925/925 [04:57<00:00,  3.11it/s]\n",
      "Valid: 100%|██████████████████████████████████| 132/132 [00:26<00:00,  4.92it/s]\n"
     ]
    },
    {
     "name": "stdout",
     "output_type": "stream",
     "text": [
      "Epoch 53: Train loss = 0.05195164135676129, Train accuracy: 0.9790789231094155\n",
      "Epoch 53: Validation loss = 0.5760996893725612, Validation accuracy: 0.8293638039718975\n"
     ]
    },
    {
     "name": "stderr",
     "output_type": "stream",
     "text": [
      "Training: 100%|███████████████████████████████| 925/925 [04:39<00:00,  3.31it/s]\n",
      "Valid: 100%|██████████████████████████████████| 132/132 [00:26<00:00,  4.97it/s]\n"
     ]
    },
    {
     "name": "stdout",
     "output_type": "stream",
     "text": [
      "Epoch 54: Train loss = 0.05602326207882347, Train accuracy: 0.97493766050081\n",
      "Epoch 54: Validation loss = 0.5716696281945615, Validation accuracy: 0.8085897704868605\n"
     ]
    },
    {
     "name": "stderr",
     "output_type": "stream",
     "text": [
      "Training: 100%|███████████████████████████████| 925/925 [04:30<00:00,  3.42it/s]\n",
      "Valid: 100%|██████████████████████████████████| 132/132 [00:26<00:00,  5.01it/s]\n"
     ]
    },
    {
     "name": "stdout",
     "output_type": "stream",
     "text": [
      "Epoch 55: Train loss = 0.050197601111423275, Train accuracy: 0.9788291579323846\n",
      "Epoch 55: Validation loss = 0.5994112755764615, Validation accuracy: 0.8173680558349147\n"
     ]
    },
    {
     "name": "stderr",
     "output_type": "stream",
     "text": [
      "Training: 100%|███████████████████████████████| 925/925 [04:50<00:00,  3.18it/s]\n",
      "Valid: 100%|██████████████████████████████████| 132/132 [00:36<00:00,  3.59it/s]\n"
     ]
    },
    {
     "name": "stdout",
     "output_type": "stream",
     "text": [
      "Epoch 56: Train loss = 0.04258067412474948, Train accuracy: 0.9808820410676905\n",
      "Epoch 56: Validation loss = 0.6523291984516563, Validation accuracy: 0.8024465373971246\n"
     ]
    },
    {
     "name": "stderr",
     "output_type": "stream",
     "text": [
      "Training: 100%|███████████████████████████████| 925/925 [05:00<00:00,  3.07it/s]\n",
      "Valid: 100%|██████████████████████████████████| 132/132 [00:25<00:00,  5.10it/s]\n"
     ]
    },
    {
     "name": "stdout",
     "output_type": "stream",
     "text": [
      "Epoch 57: Train loss = 0.05095842134844625, Train accuracy: 0.9794550619254241\n",
      "Epoch 57: Validation loss = 0.6825607103493178, Validation accuracy: 0.7952935253128861\n"
     ]
    },
    {
     "name": "stderr",
     "output_type": "stream",
     "text": [
      "Training: 100%|███████████████████████████████| 925/925 [04:29<00:00,  3.44it/s]\n",
      "Valid: 100%|██████████████████████████████████| 132/132 [00:26<00:00,  5.04it/s]\n"
     ]
    },
    {
     "name": "stdout",
     "output_type": "stream",
     "text": [
      "Epoch 58: Train loss = 0.04722916965640301, Train accuracy: 0.9802086650358665\n",
      "Epoch 58: Validation loss = 0.6345131990753792, Validation accuracy: 0.8150134551705737\n"
     ]
    },
    {
     "name": "stderr",
     "output_type": "stream",
     "text": [
      "Training: 100%|███████████████████████████████| 925/925 [04:28<00:00,  3.44it/s]\n",
      "Valid: 100%|██████████████████████████████████| 132/132 [00:27<00:00,  4.86it/s]\n"
     ]
    },
    {
     "name": "stdout",
     "output_type": "stream",
     "text": [
      "Epoch 59: Train loss = 0.044494988079359, Train accuracy: 0.9798016340668138\n",
      "Epoch 59: Validation loss = 0.6251488084142859, Validation accuracy: 0.8050078862544262\n"
     ]
    },
    {
     "name": "stderr",
     "output_type": "stream",
     "text": [
      "Training: 100%|███████████████████████████████| 925/925 [04:30<00:00,  3.42it/s]\n",
      "Valid: 100%|██████████████████████████████████| 132/132 [00:29<00:00,  4.54it/s]\n"
     ]
    },
    {
     "name": "stdout",
     "output_type": "stream",
     "text": [
      "Epoch 60: Train loss = 0.0454569940532973, Train accuracy: 0.9806872268625207\n",
      "Epoch 60: Validation loss = 0.6569846398902662, Validation accuracy: 0.8122034325744166\n"
     ]
    },
    {
     "name": "stderr",
     "output_type": "stream",
     "text": [
      "Training: 100%|███████████████████████████████| 925/925 [05:01<00:00,  3.07it/s]\n",
      "Valid: 100%|██████████████████████████████████| 132/132 [00:25<00:00,  5.10it/s]\n"
     ]
    },
    {
     "name": "stdout",
     "output_type": "stream",
     "text": [
      "Epoch 61: Train loss = 0.04024169088272076, Train accuracy: 0.9839596294068002\n",
      "Epoch 61: Validation loss = 0.6720508080766057, Validation accuracy: 0.8093709882461664\n"
     ]
    },
    {
     "name": "stderr",
     "output_type": "stream",
     "text": [
      "Training: 100%|███████████████████████████████| 925/925 [04:28<00:00,  3.44it/s]\n",
      "Valid: 100%|██████████████████████████████████| 132/132 [00:26<00:00,  5.01it/s]\n"
     ]
    },
    {
     "name": "stdout",
     "output_type": "stream",
     "text": [
      "Epoch 62: Train loss = 0.039936319794537295, Train accuracy: 0.9816058665997274\n",
      "Epoch 62: Validation loss = 0.5576669891562426, Validation accuracy: 0.8251272187088475\n"
     ]
    },
    {
     "name": "stderr",
     "output_type": "stream",
     "text": [
      "Training: 100%|███████████████████████████████| 925/925 [04:28<00:00,  3.45it/s]\n",
      "Valid: 100%|██████████████████████████████████| 132/132 [00:26<00:00,  4.99it/s]\n"
     ]
    },
    {
     "name": "stdout",
     "output_type": "stream",
     "text": [
      "Epoch 63: Train loss = 0.04766301906392343, Train accuracy: 0.9811099489315136\n",
      "Epoch 63: Validation loss = 0.5330298293918145, Validation accuracy: 0.8212725009882089\n"
     ]
    },
    {
     "name": "stderr",
     "output_type": "stream",
     "text": [
      "Training: 100%|███████████████████████████████| 925/925 [04:30<00:00,  3.42it/s]\n",
      "Valid: 100%|██████████████████████████████████| 132/132 [00:26<00:00,  4.98it/s]\n"
     ]
    },
    {
     "name": "stdout",
     "output_type": "stream",
     "text": [
      "Epoch 64: Train loss = 0.036610677822389186, Train accuracy: 0.9836060521409318\n",
      "Epoch 64: Validation loss = 0.6587073249798833, Validation accuracy: 0.7945278214685845\n"
     ]
    },
    {
     "name": "stderr",
     "output_type": "stream",
     "text": [
      "Training: 100%|███████████████████████████████| 925/925 [04:28<00:00,  3.45it/s]\n",
      "Valid: 100%|██████████████████████████████████| 132/132 [00:26<00:00,  4.99it/s]\n"
     ]
    },
    {
     "name": "stdout",
     "output_type": "stream",
     "text": [
      "Epoch 65: Train loss = 0.04647929426373889, Train accuracy: 0.9808254290915824\n",
      "Epoch 65: Validation loss = 0.5955483835811416, Validation accuracy: 0.8269533966526841\n"
     ]
    },
    {
     "name": "stderr",
     "output_type": "stream",
     "text": [
      "Training: 100%|███████████████████████████████| 925/925 [04:28<00:00,  3.44it/s]\n",
      "Valid: 100%|██████████████████████████████████| 132/132 [00:26<00:00,  4.96it/s]\n"
     ]
    },
    {
     "name": "stdout",
     "output_type": "stream",
     "text": [
      "Epoch 66: Train loss = 0.03703916339680389, Train accuracy: 0.9834242235003291\n",
      "Epoch 66: Validation loss = 0.5633360271934759, Validation accuracy: 0.8223350960196871\n"
     ]
    },
    {
     "name": "stderr",
     "output_type": "stream",
     "text": [
      "Training: 100%|███████████████████████████████| 925/925 [05:31<00:00,  2.79it/s]\n",
      "Valid: 100%|██████████████████████████████████| 132/132 [00:39<00:00,  3.37it/s]\n"
     ]
    },
    {
     "name": "stdout",
     "output_type": "stream",
     "text": [
      "Epoch 67: Train loss = 0.04142435627928117, Train accuracy: 0.9816002666628039\n",
      "Epoch 67: Validation loss = 0.5899219596194047, Validation accuracy: 0.8179554298068538\n"
     ]
    },
    {
     "name": "stderr",
     "output_type": "stream",
     "text": [
      "Training: 100%|███████████████████████████████| 925/925 [05:41<00:00,  2.71it/s]\n",
      "Valid: 100%|██████████████████████████████████| 132/132 [00:33<00:00,  3.96it/s]\n"
     ]
    },
    {
     "name": "stdout",
     "output_type": "stream",
     "text": [
      "Epoch 68: Train loss = 0.03528433317276083, Train accuracy: 0.9842180423478822\n",
      "Epoch 68: Validation loss = 0.5242761755079934, Validation accuracy: 0.8309034556150436\n"
     ]
    },
    {
     "name": "stderr",
     "output_type": "stream",
     "text": [
      "Training: 100%|███████████████████████████████| 925/925 [04:37<00:00,  3.33it/s]\n",
      "Valid: 100%|██████████████████████████████████| 132/132 [00:26<00:00,  5.05it/s]\n"
     ]
    },
    {
     "name": "stdout",
     "output_type": "stream",
     "text": [
      "Epoch 69: Train loss = 0.0416078869691213, Train accuracy: 0.98206954163474\n",
      "Epoch 69: Validation loss = 0.6078951548446309, Validation accuracy: 0.8241549296812578\n"
     ]
    },
    {
     "name": "stderr",
     "output_type": "stream",
     "text": [
      "Training: 100%|███████████████████████████████| 925/925 [04:34<00:00,  3.37it/s]\n",
      "Valid: 100%|██████████████████████████████████| 132/132 [00:27<00:00,  4.79it/s]\n"
     ]
    },
    {
     "name": "stdout",
     "output_type": "stream",
     "text": [
      "Epoch 70: Train loss = 0.03874893211306551, Train accuracy: 0.9834246998219877\n",
      "Epoch 70: Validation loss = 0.5546873424653754, Validation accuracy: 0.8364145177783389\n",
      "Validation accuracy increased (0.8342885266650807 --> 0.8364145177783389). Model saved\n"
     ]
    },
    {
     "name": "stderr",
     "output_type": "stream",
     "text": [
      "Training: 100%|███████████████████████████████| 925/925 [04:30<00:00,  3.42it/s]\n",
      "Valid: 100%|██████████████████████████████████| 132/132 [00:26<00:00,  5.00it/s]\n"
     ]
    },
    {
     "name": "stdout",
     "output_type": "stream",
     "text": [
      "Epoch 71: Train loss = 0.03716027037528457, Train accuracy: 0.9828320343429978\n",
      "Epoch 71: Validation loss = 0.6210862223736264, Validation accuracy: 0.8065068766926274\n"
     ]
    },
    {
     "name": "stderr",
     "output_type": "stream",
     "text": [
      "Training: 100%|███████████████████████████████| 925/925 [04:28<00:00,  3.45it/s]\n",
      "Valid: 100%|██████████████████████████████████| 132/132 [00:25<00:00,  5.13it/s]\n"
     ]
    },
    {
     "name": "stdout",
     "output_type": "stream",
     "text": [
      "Epoch 72: Train loss = 0.03582619778252666, Train accuracy: 0.9838952511065715\n",
      "Epoch 72: Validation loss = 0.5839789527835269, Validation accuracy: 0.8214494075739023\n"
     ]
    },
    {
     "name": "stderr",
     "output_type": "stream",
     "text": [
      "Training: 100%|███████████████████████████████| 925/925 [04:30<00:00,  3.42it/s]\n",
      "Valid: 100%|██████████████████████████████████| 132/132 [00:25<00:00,  5.09it/s]\n"
     ]
    },
    {
     "name": "stdout",
     "output_type": "stream",
     "text": [
      "Epoch 73: Train loss = 0.035577082977790664, Train accuracy: 0.9844875379510828\n",
      "Epoch 73: Validation loss = 0.5580535533866195, Validation accuracy: 0.8265202510537524\n"
     ]
    },
    {
     "name": "stderr",
     "output_type": "stream",
     "text": [
      "Training: 100%|███████████████████████████████| 925/925 [04:29<00:00,  3.43it/s]\n",
      "Valid: 100%|██████████████████████████████████| 132/132 [00:26<00:00,  4.92it/s]\n"
     ]
    },
    {
     "name": "stdout",
     "output_type": "stream",
     "text": [
      "Epoch 74: Train loss = 0.031907183871371675, Train accuracy: 0.9858250203003754\n",
      "Epoch 74: Validation loss = 0.618020751457097, Validation accuracy: 0.825400200305563\n"
     ]
    },
    {
     "name": "stderr",
     "output_type": "stream",
     "text": [
      "Training: 100%|███████████████████████████████| 925/925 [04:30<00:00,  3.42it/s]\n",
      "Valid: 100%|██████████████████████████████████| 132/132 [00:26<00:00,  4.91it/s]\n"
     ]
    },
    {
     "name": "stdout",
     "output_type": "stream",
     "text": [
      "Epoch 75: Train loss = 0.034090515401503825, Train accuracy: 0.9850053790453318\n",
      "Epoch 75: Validation loss = 0.5456556575090596, Validation accuracy: 0.8357958734938593\n"
     ]
    },
    {
     "name": "stderr",
     "output_type": "stream",
     "text": [
      "Training: 100%|███████████████████████████████| 925/925 [04:27<00:00,  3.46it/s]\n",
      "Valid: 100%|██████████████████████████████████| 132/132 [00:26<00:00,  5.05it/s]\n"
     ]
    },
    {
     "name": "stdout",
     "output_type": "stream",
     "text": [
      "Epoch 76: Train loss = 0.03309956364380825, Train accuracy: 0.9865200721895373\n",
      "Epoch 76: Validation loss = 0.5964517716431257, Validation accuracy: 0.8257686066808123\n"
     ]
    },
    {
     "name": "stderr",
     "output_type": "stream",
     "text": [
      "Training: 100%|███████████████████████████████| 925/925 [04:28<00:00,  3.45it/s]\n",
      "Valid: 100%|██████████████████████████████████| 132/132 [00:26<00:00,  5.04it/s]\n"
     ]
    },
    {
     "name": "stdout",
     "output_type": "stream",
     "text": [
      "Epoch 77: Train loss = 0.035242051726735724, Train accuracy: 0.9827879355404828\n",
      "Epoch 77: Validation loss = 0.600765880084399, Validation accuracy: 0.8284972603573943\n"
     ]
    },
    {
     "name": "stderr",
     "output_type": "stream",
     "text": [
      "Training: 100%|███████████████████████████████| 925/925 [04:28<00:00,  3.45it/s]\n",
      "Valid: 100%|██████████████████████████████████| 132/132 [00:26<00:00,  4.91it/s]\n"
     ]
    },
    {
     "name": "stdout",
     "output_type": "stream",
     "text": [
      "Epoch 78: Train loss = 0.03280310778309138, Train accuracy: 0.9846630270416672\n",
      "Epoch 78: Validation loss = 0.5565927362803257, Validation accuracy: 0.8295195265249773\n"
     ]
    },
    {
     "name": "stderr",
     "output_type": "stream",
     "text": [
      "Training: 100%|███████████████████████████████| 925/925 [04:29<00:00,  3.43it/s]\n",
      "Valid: 100%|██████████████████████████████████| 132/132 [00:27<00:00,  4.86it/s]\n"
     ]
    },
    {
     "name": "stdout",
     "output_type": "stream",
     "text": [
      "Epoch 79: Train loss = 0.03247762439308005, Train accuracy: 0.9848889611218427\n",
      "Epoch 79: Validation loss = 0.6763341064480218, Validation accuracy: 0.7970126036441687\n"
     ]
    },
    {
     "name": "stderr",
     "output_type": "stream",
     "text": [
      "Training: 100%|███████████████████████████████| 925/925 [04:28<00:00,  3.45it/s]\n",
      "Valid: 100%|██████████████████████████████████| 132/132 [00:26<00:00,  5.05it/s]\n"
     ]
    },
    {
     "name": "stdout",
     "output_type": "stream",
     "text": [
      "Epoch 80: Train loss = 0.029419781187701832, Train accuracy: 0.9864619276330278\n",
      "Epoch 80: Validation loss = 0.5512707826088775, Validation accuracy: 0.8485927690159191\n",
      "Validation accuracy increased (0.8364145177783389 --> 0.8485927690159191). Model saved\n"
     ]
    },
    {
     "name": "stderr",
     "output_type": "stream",
     "text": [
      "Training: 100%|███████████████████████████████| 925/925 [04:29<00:00,  3.43it/s]\n",
      "Valid: 100%|██████████████████████████████████| 132/132 [00:26<00:00,  4.94it/s]\n"
     ]
    },
    {
     "name": "stdout",
     "output_type": "stream",
     "text": [
      "Epoch 81: Train loss = 0.029323365618026426, Train accuracy: 0.9883275930945937\n",
      "Epoch 81: Validation loss = 0.6813653196123514, Validation accuracy: 0.8113387082562302\n"
     ]
    },
    {
     "name": "stderr",
     "output_type": "stream",
     "text": [
      "Training: 100%|███████████████████████████████| 925/925 [04:29<00:00,  3.44it/s]\n",
      "Valid: 100%|██████████████████████████████████| 132/132 [00:26<00:00,  4.91it/s]\n"
     ]
    },
    {
     "name": "stdout",
     "output_type": "stream",
     "text": [
      "Epoch 82: Train loss = 0.03358537436022448, Train accuracy: 0.9843718234912769\n",
      "Epoch 82: Validation loss = 0.5679194696642684, Validation accuracy: 0.8337862089727864\n"
     ]
    },
    {
     "name": "stderr",
     "output_type": "stream",
     "text": [
      "Training: 100%|███████████████████████████████| 925/925 [04:28<00:00,  3.44it/s]\n",
      "Valid: 100%|██████████████████████████████████| 132/132 [00:26<00:00,  5.04it/s]\n"
     ]
    },
    {
     "name": "stdout",
     "output_type": "stream",
     "text": [
      "Epoch 83: Train loss = 0.02762532649299435, Train accuracy: 0.9889195748921987\n",
      "Epoch 83: Validation loss = 0.5768106948922981, Validation accuracy: 0.8252108512502728\n"
     ]
    },
    {
     "name": "stderr",
     "output_type": "stream",
     "text": [
      "Training: 100%|███████████████████████████████| 925/925 [04:29<00:00,  3.43it/s]\n",
      "Valid: 100%|██████████████████████████████████| 132/132 [00:25<00:00,  5.12it/s]\n"
     ]
    },
    {
     "name": "stdout",
     "output_type": "stream",
     "text": [
      "Epoch 84: Train loss = 0.031868679930457555, Train accuracy: 0.9869753837585449\n",
      "Epoch 84: Validation loss = 0.5988275166177615, Validation accuracy: 0.8328297707167539\n"
     ]
    },
    {
     "name": "stderr",
     "output_type": "stream",
     "text": [
      "Training: 100%|███████████████████████████████| 925/925 [04:30<00:00,  3.42it/s]\n",
      "Valid: 100%|██████████████████████████████████| 132/132 [00:26<00:00,  4.96it/s]\n"
     ]
    },
    {
     "name": "stdout",
     "output_type": "stream",
     "text": [
      "Epoch 85: Train loss = 0.03071653019305715, Train accuracy: 0.9872480852539475\n",
      "Epoch 85: Validation loss = 0.5826301749682787, Validation accuracy: 0.8403612971305847\n"
     ]
    },
    {
     "name": "stderr",
     "output_type": "stream",
     "text": [
      "Training: 100%|███████████████████████████████| 925/925 [04:29<00:00,  3.44it/s]\n",
      "Valid: 100%|██████████████████████████████████| 132/132 [00:26<00:00,  4.94it/s]\n"
     ]
    },
    {
     "name": "stdout",
     "output_type": "stream",
     "text": [
      "Epoch 86: Train loss = 0.030040501295769826, Train accuracy: 0.9866986234768017\n",
      "Epoch 86: Validation loss = 0.5113864846414689, Validation accuracy: 0.8397955835768671\n"
     ]
    },
    {
     "name": "stderr",
     "output_type": "stream",
     "text": [
      "Training: 100%|███████████████████████████████| 925/925 [04:31<00:00,  3.40it/s]\n",
      "Valid: 100%|██████████████████████████████████| 132/132 [00:26<00:00,  5.07it/s]\n"
     ]
    },
    {
     "name": "stdout",
     "output_type": "stream",
     "text": [
      "Epoch 87: Train loss = 0.029144469600216473, Train accuracy: 0.9879839971903208\n",
      "Epoch 87: Validation loss = 0.5729500980426868, Validation accuracy: 0.8339632198666082\n"
     ]
    },
    {
     "name": "stderr",
     "output_type": "stream",
     "text": [
      "Training: 100%|███████████████████████████████| 925/925 [04:31<00:00,  3.41it/s]\n",
      "Valid: 100%|██████████████████████████████████| 132/132 [00:26<00:00,  4.96it/s]\n"
     ]
    },
    {
     "name": "stdout",
     "output_type": "stream",
     "text": [
      "Epoch 88: Train loss = 0.028589552786339678, Train accuracy: 0.9878389024734497\n",
      "Epoch 88: Validation loss = 0.6378190666437149, Validation accuracy: 0.8142581126003554\n"
     ]
    },
    {
     "name": "stderr",
     "output_type": "stream",
     "text": [
      "Training: 100%|███████████████████████████████| 925/925 [04:29<00:00,  3.43it/s]\n",
      "Valid: 100%|██████████████████████████████████| 132/132 [00:26<00:00,  4.96it/s]\n"
     ]
    },
    {
     "name": "stdout",
     "output_type": "stream",
     "text": [
      "Epoch 89: Train loss = 0.030143808259446223, Train accuracy: 0.9875438634769337\n",
      "Epoch 89: Validation loss = 0.571695317429575, Validation accuracy: 0.8307090744827733\n"
     ]
    },
    {
     "name": "stderr",
     "output_type": "stream",
     "text": [
      "Training: 100%|███████████████████████████████| 925/925 [04:30<00:00,  3.42it/s]\n",
      "Valid: 100%|██████████████████████████████████| 132/132 [00:26<00:00,  5.02it/s]\n"
     ]
    },
    {
     "name": "stdout",
     "output_type": "stream",
     "text": [
      "Epoch 90: Train loss = 0.02820695457444369, Train accuracy: 0.9883339601594049\n",
      "Epoch 90: Validation loss = 0.6630405461923643, Validation accuracy: 0.7989624842549815\n"
     ]
    },
    {
     "name": "stderr",
     "output_type": "stream",
     "text": [
      "Training: 100%|███████████████████████████████| 925/925 [04:29<00:00,  3.43it/s]\n",
      "Valid: 100%|██████████████████████████████████| 132/132 [00:26<00:00,  4.95it/s]\n"
     ]
    },
    {
     "name": "stdout",
     "output_type": "stream",
     "text": [
      "Epoch 91: Train loss = 0.028413678541145525, Train accuracy: 0.9875057964711575\n",
      "Epoch 91: Validation loss = 0.5023933636645476, Validation accuracy: 0.8410915488546545\n"
     ]
    },
    {
     "name": "stderr",
     "output_type": "stream",
     "text": [
      "Training: 100%|███████████████████████████████| 925/925 [04:30<00:00,  3.42it/s]\n",
      "Valid: 100%|██████████████████████████████████| 132/132 [00:26<00:00,  5.08it/s]\n"
     ]
    },
    {
     "name": "stdout",
     "output_type": "stream",
     "text": [
      "Epoch 92: Train loss = 0.031196100500583763, Train accuracy: 0.9853604964952211\n",
      "Epoch 92: Validation loss = 0.5311007885770365, Validation accuracy: 0.8217432869203163\n"
     ]
    },
    {
     "name": "stderr",
     "output_type": "stream",
     "text": [
      "Training: 100%|███████████████████████████████| 925/925 [04:31<00:00,  3.40it/s]\n",
      "Valid: 100%|██████████████████████████████████| 132/132 [00:26<00:00,  4.89it/s]\n"
     ]
    },
    {
     "name": "stdout",
     "output_type": "stream",
     "text": [
      "Epoch 93: Train loss = 0.02342326984629098, Train accuracy: 0.9903599250638807\n",
      "Epoch 93: Validation loss = 0.5628634966966329, Validation accuracy: 0.8433294693628947\n"
     ]
    },
    {
     "name": "stderr",
     "output_type": "stream",
     "text": [
      "Training: 100%|███████████████████████████████| 925/925 [04:28<00:00,  3.45it/s]\n",
      "Valid: 100%|██████████████████████████████████| 132/132 [00:27<00:00,  4.81it/s]\n"
     ]
    },
    {
     "name": "stdout",
     "output_type": "stream",
     "text": [
      "Epoch 94: Train loss = 0.024240270516964153, Train accuracy: 0.9910342320236\n",
      "Epoch 94: Validation loss = 0.4907827706809974, Validation accuracy: 0.8560064001516863\n",
      "Validation accuracy increased (0.8485927690159191 --> 0.8560064001516863). Model saved\n"
     ]
    },
    {
     "name": "stderr",
     "output_type": "stream",
     "text": [
      "Training: 100%|███████████████████████████████| 925/925 [04:30<00:00,  3.42it/s]\n",
      "Valid: 100%|██████████████████████████████████| 132/132 [00:27<00:00,  4.87it/s]\n"
     ]
    },
    {
     "name": "stdout",
     "output_type": "stream",
     "text": [
      "Epoch 95: Train loss = 0.030543457373396202, Train accuracy: 0.9870612801087869\n",
      "Epoch 95: Validation loss = 0.5309381590535244, Validation accuracy: 0.8363754031333056\n"
     ]
    },
    {
     "name": "stderr",
     "output_type": "stream",
     "text": [
      "Training: 100%|███████████████████████████████| 925/925 [04:31<00:00,  3.40it/s]\n",
      "Valid: 100%|██████████████████████████████████| 132/132 [00:27<00:00,  4.87it/s]\n"
     ]
    },
    {
     "name": "stdout",
     "output_type": "stream",
     "text": [
      "Epoch 96: Train loss = 0.022021727067193433, Train accuracy: 0.9906609488177944\n",
      "Epoch 96: Validation loss = 0.6775600405579264, Validation accuracy: 0.8133647432833007\n"
     ]
    },
    {
     "name": "stderr",
     "output_type": "stream",
     "text": [
      "Training: 100%|███████████████████████████████| 925/925 [04:29<00:00,  3.43it/s]\n",
      "Valid: 100%|██████████████████████████████████| 132/132 [00:27<00:00,  4.88it/s]\n"
     ]
    },
    {
     "name": "stdout",
     "output_type": "stream",
     "text": [
      "Epoch 97: Train loss = 0.027968395146237675, Train accuracy: 0.9890058960785737\n",
      "Epoch 97: Validation loss = 0.5086471284880782, Validation accuracy: 0.8480868962678042\n"
     ]
    },
    {
     "name": "stderr",
     "output_type": "stream",
     "text": [
      "Training: 100%|███████████████████████████████| 925/925 [04:31<00:00,  3.41it/s]\n",
      "Valid: 100%|██████████████████████████████████| 132/132 [00:26<00:00,  4.94it/s]\n"
     ]
    },
    {
     "name": "stdout",
     "output_type": "stream",
     "text": [
      "Epoch 98: Train loss = 0.022475286963178676, Train accuracy: 0.9903292391751264\n",
      "Epoch 98: Validation loss = 0.503240701544917, Validation accuracy: 0.8476419760422274\n"
     ]
    },
    {
     "name": "stderr",
     "output_type": "stream",
     "text": [
      "Training: 100%|███████████████████████████████| 925/925 [04:30<00:00,  3.42it/s]\n",
      "Valid: 100%|██████████████████████████████████| 132/132 [00:26<00:00,  5.00it/s]\n"
     ]
    },
    {
     "name": "stdout",
     "output_type": "stream",
     "text": [
      "Epoch 99: Train loss = 0.024826713344396872, Train accuracy: 0.9881290941625028\n",
      "Epoch 99: Validation loss = 0.5811262275797852, Validation accuracy: 0.8335679191531558\n"
     ]
    },
    {
     "data": {
      "image/png": "[encoded data removed]",
      "text/plain": [
       "<Figure size 1500x700 with 2 Axes>"
      ]
     },
     "metadata": {},
     "output_type": "display_data"
    }
   ],
   "source": [
    "\"\"\"\n",
    "Thanh Le  16 April 2024\n",
    "How to train/fine-tune a pre-trained model on a custom dataset (i.e., transfer learning)\n",
    "\"\"\"\n",
    "import torch\n",
    "from torch import nn, save, load\n",
    "from tqdm import tqdm\n",
    "from torch.optim import Adam\n",
    "from torch.utils.data import DataLoader\n",
    "from torchvision.datasets import ImageFolder\n",
    "import torchvision.transforms as transforms\n",
    "from torchmetrics.functional import accuracy\n",
    "from torchvision.transforms import ToTensor, Resize\n",
    "import numpy as np\n",
    "import os\n",
    "import matplotlib.pyplot as plt\n",
    "\n",
    "# Setup CUDA\n",
    "def setup_cuda():\n",
    "    # Setting seeds for reproducibility\n",
    "    seed = 50\n",
    "    torch.backends.cudnn.enabled = True\n",
    "    torch.backends.cudnn.benchmark = True\n",
    "    np.random.seed(seed)\n",
    "    torch.manual_seed(seed)\n",
    "    if torch.cuda.is_available():\n",
    "        torch.cuda.manual_seed(seed)\n",
    "\n",
    "    return torch.device('cuda:0' if torch.cuda.is_available() else 'cpu')\n",
    "\n",
    "\n",
    "def train_model():\n",
    "    \"\"\"\n",
    "    Train the model over a single epoch\n",
    "    :return: training loss and training accuracy\n",
    "    \"\"\"\n",
    "    train_loss = 0.0\n",
    "    train_acc = 0.0\n",
    "    model.train()\n",
    "\n",
    "    for (img, label) in tqdm(train_loader, ncols=80, desc='Training'):\n",
    "        # Get a batch\n",
    "        img, label = img.to(device, dtype=torch.float), label.to(device, dtype=torch.long)\n",
    "\n",
    "        # Set the gradients to zero before starting backpropagation\n",
    "        optimizer.zero_grad()\n",
    "\n",
    "        # Perform a feed-forward pass\n",
    "        logits = model(img)\n",
    "\n",
    "        # Compute the batch loss\n",
    "        loss = loss_fn(logits, label)\n",
    "\n",
    "        # Compute gradient of the loss fn w.r.t the trainable weights\n",
    "        loss.backward()\n",
    "\n",
    "        # Update the trainable weights\n",
    "        optimizer.step()\n",
    "\n",
    "        # Accumulate the batch loss\n",
    "        train_loss += loss.item()\n",
    "\n",
    "        # Get the predictions to calculate the accuracy for every iteration. Remember to accumulate the accuracy\n",
    "        prediction = logits.argmax(axis=1)\n",
    "        train_acc += accuracy(prediction, label, task='multiclass', average='macro', num_classes=len(class_names)).item()\n",
    "\n",
    "    return train_loss / len(train_loader), train_acc / len(train_loader)\n",
    "\n",
    "\n",
    "def validate_model():\n",
    "    \"\"\"\n",
    "    Validate the model over a single epoch\n",
    "    :return: validation loss and validation accuracy\n",
    "    \"\"\"\n",
    "    model.eval()\n",
    "    valid_loss = 0.0\n",
    "    val_acc = 0.0\n",
    "\n",
    "    with torch.no_grad():\n",
    "        for (img, label) in tqdm(val_loader, ncols=80, desc='Valid'):\n",
    "            # Get a batch\n",
    "            img, label = img.to(device, dtype=torch.float), label.to(device, dtype=torch.long)\n",
    "\n",
    "            # Perform a feed-forward pass\n",
    "            logits = model(img)\n",
    "\n",
    "            # Compute the batch loss\n",
    "            loss = loss_fn(logits, label)\n",
    "\n",
    "            # Accumulate the batch loss\n",
    "            valid_loss += loss.item()\n",
    "\n",
    "            # Get the predictions to calculate the accuracy for every iteration. Remember to accumulate the accuracy\n",
    "            prediction = logits.argmax(axis=1)\n",
    "            val_acc += accuracy(prediction, label, task='multiclass', average='macro', num_classes=len(class_names)).item()\n",
    "\n",
    "    return valid_loss / len(val_loader), val_acc / len(val_loader)\n",
    "\n",
    "# Example plotting function\n",
    "\n",
    "def plot_metrics(train_losses, val_losses, train_accuracies, val_accuracies):\n",
    "    epochs = range(1, len(train_losses) + 1)\n",
    "    # Losses\n",
    "    plt.figure(figsize=(15, 7))\n",
    "    plt.subplot(2, 1, 1)\n",
    "    plt.plot(epochs, train_losses, label='Training Loss', color='blue')\n",
    "    plt.plot(epochs, val_losses, label='Validation Loss', color='red')\n",
    "    plt.xlabel('Epochs')\n",
    "    plt.ylabel('Loss')\n",
    "    plt.title('Training and Validation Loss')\n",
    "    plt.legend()\n",
    "    plt.yscale('log')  # Log scale can help for loss curves with large values\n",
    "\n",
    "    # Accuracies\n",
    "    plt.subplot(2, 1, 2)\n",
    "    plt.plot(epochs, train_accuracies, label='Training Accuracy', color='green')\n",
    "    plt.plot(epochs, val_accuracies, label='Validation Accuracy', color='orange')\n",
    "    plt.xlabel('Epochs')\n",
    "    plt.ylabel('Accuracy')\n",
    "    plt.title('Training and Validation Accuracy')\n",
    "    plt.legend()\n",
    "\n",
    "    plt.tight_layout()\n",
    "    # Save the figure to a file\n",
    "    plt.savefig(\"trainplot.png\")  # You can change the file name and format (e.g., .png, .jpg, .pdf)\n",
    "\n",
    "    plt.show()\n",
    "\n",
    "if __name__ == \"__main__\":\n",
    "    device = setup_cuda()\n",
    "\n",
    "    # 1. Load the dataset\n",
    "    transform = transforms.Compose([Resize((224, 224)), ToTensor()])\n",
    "    train_dataset = ImageFolder(root='/kaggle/input/dataset-split/dataset_split/train', transform=transform)\n",
    "    val_dataset = ImageFolder(root='/kaggle/input/dataset-split/dataset_split/val', transform=transform)\n",
    "    # Get class names\n",
    "    class_names = train_dataset.classes\n",
    "\n",
    "    # 2. Create data loaders\n",
    "    train_loader = DataLoader(train_dataset, batch_size=32, shuffle=True)\n",
    "    val_loader = DataLoader(val_dataset, batch_size=32, shuffle=True)\n",
    "\n",
    "    # 3. Create a new deep model without pre-trained weights\n",
    "    # from utils.seresnet18 import SEResNet18\n",
    "\n",
    "    model = SEResNet18(\n",
    "        num_classes=len(class_names),\n",
    "    ).to(device)\n",
    "\n",
    "    # 4. Specify loss function and optimizer\n",
    "    optimizer = Adam(model.parameters(), lr=1e-4)\n",
    "    loss_fn = torch.nn.CrossEntropyLoss()\n",
    "\n",
    "    # 5. Train the model with 100 epochs\n",
    "    # store the metrics for plotting\n",
    "    train_losses, val_losses, train_accuracies, val_accuracies = [], [], [], []\n",
    "\n",
    "    max_acc = 0\n",
    "    for epoch in range(100):\n",
    "\n",
    "        # 5.1. Train the model over a single epoch\n",
    "        train_loss, train_acc = train_model()\n",
    "        train_losses.append(train_loss)  # save train loss values\n",
    "        train_accuracies.append(train_acc)  # save train acc values\n",
    "\n",
    "        # 5.2. Validate the model after training\n",
    "        val_loss, val_acc = validate_model()\n",
    "        val_losses.append(val_loss)  # save val loss values\n",
    "        val_accuracies.append(val_acc)  # save val acc values\n",
    "\n",
    "        print(f'Epoch {epoch}: Train loss = {train_loss}, Train accuracy: {train_acc}')\n",
    "        print(f'Epoch {epoch}: Validation loss = {val_loss}, Validation accuracy: {val_acc}')\n",
    "\n",
    "        # 4.3. Save the model if the validation accuracy is increasing\n",
    "        if val_acc > max_acc:\n",
    "            print(f'Validation accuracy increased ({max_acc} --> {val_acc}). Model saved')\n",
    "            folder_path = 'checkpoints_se_resnet18'  # Define the folder name\n",
    "            if not os.path.exists(folder_path):\n",
    "                os.makedirs(folder_path)  # Create the folder if it does not exist\n",
    "            file_path = os.path.join(folder_path,\n",
    "                                     'se_resnet18_epoch_' + str(epoch) + '_acc_{0:.4f}'.format(val_acc) + '.pt')\n",
    "            with open(file_path, 'wb') as f:\n",
    "                save(model.state_dict(), f)\n",
    "            max_acc = val_acc\n",
    "# After training is complete, plot the metrics\n",
    "plot_metrics(train_losses, val_losses, train_accuracies, val_accuracies)"
   ]
  },
  {
   "cell_type": "markdown",
   "id": "f5d0a3c1",
   "metadata": {
    "papermill": {
     "duration": 5.755964,
     "end_time": "2025-02-27T22:50:02.730624",
     "exception": false,
     "start_time": "2025-02-27T22:49:56.974660",
     "status": "completed"
    },
    "tags": []
   },
   "source": [
    "# Testing SEResnet18"
   ]
  },
  {
   "cell_type": "code",
   "execution_count": 7,
   "id": "e08608d1",
   "metadata": {
    "execution": {
     "iopub.execute_input": "2025-02-27T22:50:13.757982Z",
     "iopub.status.busy": "2025-02-27T22:50:13.757481Z",
     "iopub.status.idle": "2025-02-27T22:50:13.762435Z",
     "shell.execute_reply": "2025-02-27T22:50:13.761668Z"
    },
    "papermill": {
     "duration": 5.61379,
     "end_time": "2025-02-27T22:50:13.763705",
     "exception": false,
     "start_time": "2025-02-27T22:50:08.149915",
     "status": "completed"
    },
    "tags": []
   },
   "outputs": [],
   "source": [
    "# import torch\n",
    "# from torch import nn, save, load\n",
    "# from tqdm import tqdm\n",
    "# from torch.optim import Adam\n",
    "# from torch.utils.data import DataLoader\n",
    "# from torchvision.datasets import ImageFolder\n",
    "# import torchvision.transforms as transforms\n",
    "# from torchmetrics.functional import accuracy\n",
    "# from torchvision.transforms import ToTensor, Resize\n",
    "# import numpy as np\n",
    "# import os\n",
    "# from PIL import Image\n",
    "# import matplotlib.pyplot as plt\n",
    "\n",
    "# # Thiết lập biến cần thiết\n",
    "# train_dir = '/kaggle/input/playcards/train'\n",
    "# test_dir = '/kaggle/input/playcards/test'\n",
    "# valid_dir = '/kaggle/input/playcards/valid'\n",
    "# NUM_WORKERS = os.cpu_count()\n",
    "# BATCH_SIZE = 32\n",
    "# IMG_SIZE = 224\n",
    "# manual_transforms = transforms.Compose([\n",
    "#     transforms.Resize((IMG_SIZE, IMG_SIZE)),\n",
    "#     transforms.ToTensor(),\n",
    "# ])\n",
    "# patch_size = 16\n",
    "# CLASS = {} # KHONG CAN DIEN CHI TIET\n",
    "\n",
    "\n",
    "# # Thiết lập thiết bị (GPU hoặc CPU)\n",
    "# def setup_cuda():\n",
    "#     torch.backends.cudnn.enabled = True\n",
    "#     torch.backends.cudnn.benchmark = True\n",
    "#     device = torch.device('cuda:0' if torch.cuda.is_available() else 'cpu')\n",
    "#     return device\n",
    "\n",
    "\n",
    "# device = setup_cuda()\n",
    "\n",
    "# # Thiết lập các transform để xử lý ảnh\n",
    "# manual_transforms = transforms.Compose([\n",
    "#     transforms.Resize((IMG_SIZE, IMG_SIZE)),\n",
    "#     transforms.ToTensor(),\n",
    "# ])\n",
    "\n",
    "\n",
    "# # Hàm dự đoán kết quả cho một hình ảnh\n",
    "# def predict_image(image_path, model, transform, class_names, device):\n",
    "#     model.eval()\n",
    "#     img = Image.open(image_path).convert('RGB')\n",
    "#     img_tensor = transform(img).unsqueeze(0).to(device)\n",
    "#     with torch.no_grad():\n",
    "#         output = model(img_tensor)\n",
    "#         _, predicted_class = torch.max(output, 1)\n",
    "#     predicted_label = class_names[predicted_class.item()]\n",
    "#     return img, predicted_label\n",
    "\n",
    "\n",
    "# # Hàm chính để dự đoán các hình ảnh trong tập test\n",
    "# def test_model():\n",
    "#     # 1. Tải dữ liệu và lớp từ tập train\n",
    "#     transform = transforms.Compose([Resize((224, 224)), ToTensor()])\n",
    "#     train_dataset = ImageFolder(root='/kaggle/input/dataset-split/dataset_split/train', transform=transform)\n",
    "#     test_dataset = ImageFolder(root='/kaggle/input/dataset-split/dataset_split/test', transform=transform)\n",
    "#     # Get class names\n",
    "#     class_names = train_dataset.classes\n",
    "\n",
    "#     # 2. Tạo mô hình ViT và tải trạng thái từ checkpoint\n",
    "#     from utils.resnet18 import ResNet18\n",
    "\n",
    "#     model = ResNet18(\n",
    "#         num_classes=len(class_names),\n",
    "#     ).to(device)\n",
    "\n",
    "#     folder_checkpoint = 'checkpoints_se_resnet18'  # Define the folder name\n",
    "#     file_name = 'se_resnet18_epoch_7_acc_0.8208.pt' #best weight\n",
    "#     file_checkpoint = os.path.join(folder_checkpoint, file_name)  # lay best weight\n",
    "#     model.load_state_dict(torch.load(file_checkpoint, device))\n",
    "#     print('Model loaded from checkpoint.')\n",
    "#     # Ensure the output directory exists\n",
    "#     output_dir = \"output_resnet18\"\n",
    "#     os.makedirs(output_dir, exist_ok=True)\n",
    "\n",
    "#     # 3. Dự đoán kết quả cho mỗi hình ảnh trong tập test\n",
    "#     for image_path in tqdm(test_dataset.imgs, desc='Testing'):\n",
    "#         img, predicted_label = predict_image(image_path[0], model, manual_transforms, class_names, device)\n",
    "#         # plt.imshow(img)\n",
    "#         # plt.title(f'Predicted: {predicted_label}')\n",
    "#         # plt.show()\n",
    "\n",
    "#         # Convert the tensor image back to a PIL image if necessary\n",
    "#         if isinstance(img, torch.Tensor):\n",
    "#             img = transforms.ToPILImage()(img)\n",
    "\n",
    "#         # Create a plot\n",
    "#         fig, ax = plt.subplots()\n",
    "\n",
    "#         # Set white background\n",
    "#         fig.patch.set_facecolor('white')\n",
    "#         ax.set_facecolor('white')\n",
    "\n",
    "#         # Remove axis\n",
    "#         ax.axis('off')\n",
    "\n",
    "#         # Display the image\n",
    "#         ax.imshow(img)\n",
    "\n",
    "#         # Add the predicted label as the title\n",
    "#         ax.set_title(f'Predicted: {predicted_label}', fontsize=12, pad=10)\n",
    "\n",
    "#         # Save the figure\n",
    "#         image_basename = os.path.basename(image_path[0])\n",
    "#         image_name, image_ext = os.path.splitext(image_basename)\n",
    "#         output_image_path = os.path.join(output_dir, f\"{image_name}_pred_{predicted_label}.png\")\n",
    "\n",
    "#         plt.savefig(output_image_path, bbox_inches='tight', pad_inches=0.1)\n",
    "#         plt.close(fig)\n",
    "\n",
    "\n",
    "# if __name__ == '__main__':\n",
    "#     test_model()\n"
   ]
  }
 ],
 "metadata": {
  "kaggle": {
   "accelerator": "nvidiaTeslaT4",
   "dataSources": [
    {
     "datasetId": 6740707,
     "sourceId": 10852843,
     "sourceType": "datasetVersion"
    },
    {
     "datasetId": 6753977,
     "sourceId": 10871065,
     "sourceType": "datasetVersion"
    }
   ],
   "dockerImageVersionId": 30919,
   "isGpuEnabled": true,
   "isInternetEnabled": true,
   "language": "python",
   "sourceType": "notebook"
  },
  "kernelspec": {
   "display_name": "Python 3",
   "language": "python",
   "name": "python3"
  },
  "language_info": {
   "codemirror_mode": {
    "name": "ipython",
    "version": 3
   },
   "file_extension": ".py",
   "mimetype": "text/x-python",
   "name": "python",
   "nbconvert_exporter": "python",
   "pygments_lexer": "ipython3",
   "version": "3.10.12"
  },
  "papermill": {
   "default_parameters": {},
   "duration": 30652.25066,
   "end_time": "2025-02-27T22:50:21.075444",
   "environment_variables": {},
   "exception": null,
   "input_path": "__notebook__.ipynb",
   "output_path": "__notebook__.ipynb",
   "parameters": {},
   "start_time": "2025-02-27T14:19:28.824784",
   "version": "2.6.0"
  }
 },
 "nbformat": 4,
 "nbformat_minor": 5
}
