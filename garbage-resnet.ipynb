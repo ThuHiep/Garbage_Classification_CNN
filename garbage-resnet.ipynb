{
 "cells": [
  {
   "cell_type": "markdown",
   "id": "6d0e5318",
   "metadata": {
    "papermill": {
     "duration": 0.003759,
     "end_time": "2025-02-26T12:40:07.147320",
     "exception": false,
     "start_time": "2025-02-26T12:40:07.143561",
     "status": "completed"
    },
    "tags": []
   },
   "source": [
    "# Model RESNET18"
   ]
  },
  {
   "cell_type": "code",
   "execution_count": 1,
   "id": "060de7f5",
   "metadata": {
    "execution": {
     "iopub.execute_input": "2025-02-26T12:40:07.155039Z",
     "iopub.status.busy": "2025-02-26T12:40:07.154791Z",
     "iopub.status.idle": "2025-02-26T12:40:10.335746Z",
     "shell.execute_reply": "2025-02-26T12:40:10.335070Z"
    },
    "papermill": {
     "duration": 3.186559,
     "end_time": "2025-02-26T12:40:10.337282",
     "exception": false,
     "start_time": "2025-02-26T12:40:07.150723",
     "status": "completed"
    },
    "tags": []
   },
   "outputs": [],
   "source": [
    "import torch.nn as nn\n",
    "\n",
    "class ResNet18(nn.Module):\n",
    "    def __init__(self, num_classes):\n",
    "        super(ResNet18, self).__init__()\n",
    "\n",
    "        self.dropout_percentage = 0.5\n",
    "        self.relu = nn.ReLU()\n",
    "\n",
    "        # BLOCK-1 (starting block) input=(224x224) output=(112x112)\n",
    "        self.conv1 = nn.Conv2d(in_channels=3, out_channels=64, kernel_size=(7, 7), stride=(2, 2), padding=(3, 3))\n",
    "        self.batchnorm1 = nn.BatchNorm2d(64)\n",
    "        self.maxpool1 = nn.MaxPool2d(kernel_size=(3, 3), stride=(2, 2), padding=(1, 1))\n",
    "\n",
    "        # BLOCK-2 (1) input=(112x112) output = (56x56)\n",
    "        self.conv2_1_1 = nn.Conv2d(in_channels=64, out_channels=64, kernel_size=(3, 3), stride=(1, 1), padding=(1, 1))\n",
    "        self.batchnorm2_1_1 = nn.BatchNorm2d(64)\n",
    "        self.conv2_1_2 = nn.Conv2d(in_channels=64, out_channels=64, kernel_size=(3, 3), stride=(1, 1), padding=(1, 1))\n",
    "        self.batchnorm2_1_2 = nn.BatchNorm2d(64)\n",
    "        self.dropout2_1 = nn.Dropout(p=self.dropout_percentage)\n",
    "\n",
    "        # BLOCK-2 (2)\n",
    "        self.conv2_2_1 = nn.Conv2d(in_channels=64, out_channels=64, kernel_size=(3, 3), stride=(1, 1), padding=(1, 1))\n",
    "        self.batchnorm2_2_1 = nn.BatchNorm2d(64)\n",
    "        self.conv2_2_2 = nn.Conv2d(in_channels=64, out_channels=64, kernel_size=(3, 3), stride=(1, 1), padding=(1, 1))\n",
    "        self.batchnorm2_2_2 = nn.BatchNorm2d(64)\n",
    "        self.dropout2_2 = nn.Dropout(p=self.dropout_percentage)\n",
    "\n",
    "        # BLOCK-3 (1) input=(56x56) output = (28x28)\n",
    "        self.conv3_1_1 = nn.Conv2d(in_channels=64, out_channels=128, kernel_size=(3, 3), stride=(2, 2), padding=(1, 1))\n",
    "        self.batchnorm3_1_1 = nn.BatchNorm2d(128)\n",
    "        self.conv3_1_2 = nn.Conv2d(in_channels=128, out_channels=128, kernel_size=(3, 3), stride=(1, 1), padding=(1, 1))\n",
    "        self.batchnorm3_1_2 = nn.BatchNorm2d(128)\n",
    "        self.concat_adjust_3 = nn.Conv2d(in_channels=64, out_channels=128, kernel_size=(1, 1), stride=(2, 2),\n",
    "                                         padding=(0, 0))\n",
    "        self.dropout3_1 = nn.Dropout(p=self.dropout_percentage)\n",
    "        # BLOCK-3 (2)\n",
    "        self.conv3_2_1 = nn.Conv2d(in_channels=128, out_channels=128, kernel_size=(3, 3), stride=(1, 1), padding=(1, 1))\n",
    "        self.batchnorm3_2_1 = nn.BatchNorm2d(128)\n",
    "        self.conv3_2_2 = nn.Conv2d(in_channels=128, out_channels=128, kernel_size=(3, 3), stride=(1, 1), padding=(1, 1))\n",
    "        self.batchnorm3_2_2 = nn.BatchNorm2d(128)\n",
    "        self.dropout3_2 = nn.Dropout(p=self.dropout_percentage)\n",
    "\n",
    "        # BLOCK-4 (1) input=(28x28) output = (14x14)\n",
    "        self.conv4_1_1 = nn.Conv2d(in_channels=128, out_channels=256, kernel_size=(3, 3), stride=(2, 2), padding=(1, 1))\n",
    "        self.batchnorm4_1_1 = nn.BatchNorm2d(256)\n",
    "        self.conv4_1_2 = nn.Conv2d(in_channels=256, out_channels=256, kernel_size=(3, 3), stride=(1, 1), padding=(1, 1))\n",
    "        self.batchnorm4_1_2 = nn.BatchNorm2d(256)\n",
    "        self.concat_adjust_4 = nn.Conv2d(in_channels=128, out_channels=256, kernel_size=(1, 1), stride=(2, 2),\n",
    "                                         padding=(0, 0))\n",
    "        self.dropout4_1 = nn.Dropout(p=self.dropout_percentage)\n",
    "        # BLOCK-4 (2)\n",
    "        self.conv4_2_1 = nn.Conv2d(in_channels=256, out_channels=256, kernel_size=(3, 3), stride=(1, 1), padding=(1, 1))\n",
    "        self.batchnorm4_2_1 = nn.BatchNorm2d(256)\n",
    "        self.conv4_2_2 = nn.Conv2d(in_channels=256, out_channels=256, kernel_size=(3, 3), stride=(1, 1), padding=(1, 1))\n",
    "        self.batchnorm4_2_2 = nn.BatchNorm2d(256)\n",
    "        self.dropout4_2 = nn.Dropout(p=self.dropout_percentage)\n",
    "\n",
    "        # BLOCK-5 (1) input=(14x14) output = (7x7)\n",
    "        self.conv5_1_1 = nn.Conv2d(in_channels=256, out_channels=512, kernel_size=(3, 3), stride=(2, 2), padding=(1, 1))\n",
    "        self.batchnorm5_1_1 = nn.BatchNorm2d(512)\n",
    "        self.conv5_1_2 = nn.Conv2d(in_channels=512, out_channels=512, kernel_size=(3, 3), stride=(1, 1), padding=(1, 1))\n",
    "        self.batchnorm5_1_2 = nn.BatchNorm2d(512)\n",
    "        self.concat_adjust_5 = nn.Conv2d(in_channels=256, out_channels=512, kernel_size=(1, 1), stride=(2, 2),\n",
    "                                         padding=(0, 0))\n",
    "        self.dropout5_1 = nn.Dropout(p=self.dropout_percentage)\n",
    "        # BLOCK-5 (2)\n",
    "        self.conv5_2_1 = nn.Conv2d(in_channels=512, out_channels=512, kernel_size=(3, 3), stride=(1, 1), padding=(1, 1))\n",
    "        self.batchnorm5_2_1 = nn.BatchNorm2d(512)\n",
    "        self.conv5_2_2 = nn.Conv2d(in_channels=512, out_channels=512, kernel_size=(3, 3), stride=(1, 1), padding=(1, 1))\n",
    "        self.batchnorm5_2_2 = nn.BatchNorm2d(512)\n",
    "        self.dropout5_2 = nn.Dropout(p=self.dropout_percentage)\n",
    "\n",
    "        # Final Block input=(7x7)\n",
    "        self.avgpool = nn.AvgPool2d(kernel_size=(7, 7), stride=(1, 1))\n",
    "        self.fc = nn.Linear(in_features=1 * 1 * 512, out_features=1000)\n",
    "        self.out = nn.Linear(in_features=1000, out_features=num_classes)\n",
    "        # END\n",
    "\n",
    "    def forward(self, x):\n",
    "        # block 1 --> Starting block\n",
    "        x = self.relu(self.batchnorm1(self.conv1(x)))\n",
    "        op1 = self.maxpool1(x)\n",
    "\n",
    "        # block2 - 1\n",
    "        x = self.relu(self.batchnorm2_1_1(self.conv2_1_1(op1)))  # conv2_1\n",
    "        x = self.batchnorm2_1_2(self.conv2_1_2(x))  # conv2_1\n",
    "        x = self.dropout2_1(x)\n",
    "        # block2 - Adjust - No adjust in this layer as dimensions are already same\n",
    "        # block2 - Concatenate 1\n",
    "        op2_1 = self.relu(x + op1)\n",
    "        # block2 - 2\n",
    "        x = self.relu(self.batchnorm2_2_1(self.conv2_2_1(op2_1)))  # conv2_2\n",
    "        x = self.batchnorm2_2_2(self.conv2_2_2(x))  # conv2_2\n",
    "        x = self.dropout2_2(x)\n",
    "        # op - block2\n",
    "        op2 = self.relu(x + op2_1)\n",
    "\n",
    "        # block3 - 1[Convolution block]\n",
    "        x = self.relu(self.batchnorm3_1_1(self.conv3_1_1(op2)))  # conv3_1\n",
    "        x = self.batchnorm3_1_2(self.conv3_1_2(x))  # conv3_1\n",
    "        x = self.dropout3_1(x)\n",
    "        # block3 - Adjust\n",
    "        op2 = self.concat_adjust_3(op2)  # SKIP CONNECTION\n",
    "        # block3 - Concatenate 1\n",
    "        op3_1 = self.relu(x + op2)\n",
    "        # block3 - 2[Identity Block]\n",
    "        x = self.relu(self.batchnorm3_2_1(self.conv3_2_1(op3_1)))  # conv3_2\n",
    "        x = self.batchnorm3_2_2(self.conv3_2_2(x))  # conv3_2\n",
    "        x = self.dropout3_2(x)\n",
    "        # op - block3\n",
    "        op3 = self.relu(x + op3_1)\n",
    "\n",
    "        # block4 - 1[Convolition block]\n",
    "        x = self.relu(self.batchnorm4_1_1(self.conv4_1_1(op3)))  # conv4_1\n",
    "        x = self.batchnorm4_1_2(self.conv4_1_2(x))  # conv4_1\n",
    "        x = self.dropout4_1(x)\n",
    "        # block4 - Adjust\n",
    "        op3 = self.concat_adjust_4(op3)  # SKIP CONNECTION\n",
    "        # block4 - Concatenate 1\n",
    "        op4_1 = self.relu(x + op3)\n",
    "        # block4 - 2[Identity Block]\n",
    "        x = self.relu(self.batchnorm4_2_1(self.conv4_2_1(op4_1)))  # conv4_2\n",
    "        x = self.batchnorm4_2_2(self.conv4_2_2(x))  # conv4_2\n",
    "        x = self.dropout4_2(x)\n",
    "        # op - block4\n",
    "        op4 = self.relu(x + op4_1)\n",
    "\n",
    "        # block5 - 1[Convolution Block]\n",
    "        x = self.relu(self.batchnorm5_1_1(self.conv5_1_1(op4)))  # conv5_1\n",
    "        x = self.batchnorm5_1_2(self.conv5_1_2(x))  # conv5_1\n",
    "        x = self.dropout5_1(x)\n",
    "        # block5 - Adjust\n",
    "        op4 = self.concat_adjust_5(op4)  # SKIP CONNECTION\n",
    "        # block5 - Concatenate 1\n",
    "        op5_1 = self.relu(x + op4)\n",
    "        # block5 - 2[Identity Block]\n",
    "        x = self.relu(self.batchnorm5_2_1(self.conv5_2_1(op5_1)))  # conv5_2\n",
    "        x = self.batchnorm5_2_1(self.conv5_2_1(x))  # conv5_2\n",
    "        x = self.dropout5_2(x)\n",
    "        # op - block5\n",
    "        op5 = self.relu(x + op5_1)\n",
    "\n",
    "        # FINAL BLOCK - classifier\n",
    "        x = self.avgpool(op5)\n",
    "        x = x.reshape(x.shape[0], -1)\n",
    "        x = self.relu(self.fc(x))\n",
    "        x = self.out(x)\n",
    "\n",
    "        return x"
   ]
  },
  {
   "cell_type": "markdown",
   "id": "e7029694",
   "metadata": {
    "papermill": {
     "duration": 0.002962,
     "end_time": "2025-02-26T12:40:10.343790",
     "exception": false,
     "start_time": "2025-02-26T12:40:10.340828",
     "status": "completed"
    },
    "tags": []
   },
   "source": [
    "# Resnet18 trainning"
   ]
  },
  {
   "cell_type": "code",
   "execution_count": 2,
   "id": "7bcbc27d",
   "metadata": {
    "execution": {
     "iopub.execute_input": "2025-02-26T12:40:10.351071Z",
     "iopub.status.busy": "2025-02-26T12:40:10.350776Z",
     "iopub.status.idle": "2025-02-26T20:38:51.751701Z",
     "shell.execute_reply": "2025-02-26T20:38:51.750823Z"
    },
    "papermill": {
     "duration": 28721.40685,
     "end_time": "2025-02-26T20:38:51.753787",
     "exception": false,
     "start_time": "2025-02-26T12:40:10.346937",
     "status": "completed"
    },
    "tags": []
   },
   "outputs": [
    {
     "name": "stderr",
     "output_type": "stream",
     "text": [
      "Training:  30%|█████████▍                     | 281/925 [01:48<03:17,  3.27it/s]/usr/local/lib/python3.10/dist-packages/PIL/Image.py:1054: UserWarning: Palette images with Transparency expressed in bytes should be converted to RGBA images\n",
      "  warnings.warn(\n",
      "Training: 100%|███████████████████████████████| 925/925 [05:43<00:00,  2.69it/s]\n",
      "Valid: 100%|██████████████████████████████████| 132/132 [00:35<00:00,  3.74it/s]\n"
     ]
    },
    {
     "name": "stdout",
     "output_type": "stream",
     "text": [
      "Epoch 0: Train loss = 1.6246265768360448, Train accuracy: 0.3734637799617406\n",
      "Epoch 0: Validation loss = 1.9557588010123281, Validation accuracy: 0.3359552889385007\n",
      "Validation accuracy increased (0 --> 0.3359552889385007). Model saved\n"
     ]
    },
    {
     "name": "stderr",
     "output_type": "stream",
     "text": [
      "Training: 100%|███████████████████████████████| 925/925 [04:19<00:00,  3.57it/s]\n",
      "Valid: 100%|██████████████████████████████████| 132/132 [00:24<00:00,  5.35it/s]\n"
     ]
    },
    {
     "name": "stdout",
     "output_type": "stream",
     "text": [
      "Epoch 1: Train loss = 1.3079923628471992, Train accuracy: 0.5027764162501773\n",
      "Epoch 1: Validation loss = 1.2636028419841419, Validation accuracy: 0.5158064101230014\n",
      "Validation accuracy increased (0.3359552889385007 --> 0.5158064101230014). Model saved\n"
     ]
    },
    {
     "name": "stderr",
     "output_type": "stream",
     "text": [
      "Training: 100%|███████████████████████████████| 925/925 [04:20<00:00,  3.56it/s]\n",
      "Valid: 100%|██████████████████████████████████| 132/132 [00:26<00:00,  5.07it/s]\n"
     ]
    },
    {
     "name": "stdout",
     "output_type": "stream",
     "text": [
      "Epoch 2: Train loss = 1.1113703599491636, Train accuracy: 0.5757299445448695\n",
      "Epoch 2: Validation loss = 1.039954196323048, Validation accuracy: 0.6117193147991643\n",
      "Validation accuracy increased (0.5158064101230014 --> 0.6117193147991643). Model saved\n"
     ]
    },
    {
     "name": "stderr",
     "output_type": "stream",
     "text": [
      "Training: 100%|███████████████████████████████| 925/925 [04:27<00:00,  3.45it/s]\n",
      "Valid: 100%|██████████████████████████████████| 132/132 [00:28<00:00,  4.69it/s]\n"
     ]
    },
    {
     "name": "stdout",
     "output_type": "stream",
     "text": [
      "Epoch 3: Train loss = 0.9667535110099895, Train accuracy: 0.6294504069959795\n",
      "Epoch 3: Validation loss = 1.027327319212032, Validation accuracy: 0.6154355670918118\n",
      "Validation accuracy increased (0.6117193147991643 --> 0.6154355670918118). Model saved\n"
     ]
    },
    {
     "name": "stderr",
     "output_type": "stream",
     "text": [
      "Training: 100%|███████████████████████████████| 925/925 [04:36<00:00,  3.35it/s]\n",
      "Valid: 100%|██████████████████████████████████| 132/132 [00:27<00:00,  4.78it/s]\n"
     ]
    },
    {
     "name": "stdout",
     "output_type": "stream",
     "text": [
      "Epoch 4: Train loss = 0.8477431750941921, Train accuracy: 0.6740021091538506\n",
      "Epoch 4: Validation loss = 0.8879996933268778, Validation accuracy: 0.6699517773407878\n",
      "Validation accuracy increased (0.6154355670918118 --> 0.6699517773407878). Model saved\n"
     ]
    },
    {
     "name": "stderr",
     "output_type": "stream",
     "text": [
      "Training: 100%|███████████████████████████████| 925/925 [04:28<00:00,  3.45it/s]\n",
      "Valid: 100%|██████████████████████████████████| 132/132 [00:26<00:00,  5.04it/s]\n"
     ]
    },
    {
     "name": "stdout",
     "output_type": "stream",
     "text": [
      "Epoch 5: Train loss = 0.7650515745781563, Train accuracy: 0.7036637944788546\n",
      "Epoch 5: Validation loss = 0.9405965811826966, Validation accuracy: 0.6296281570738013\n"
     ]
    },
    {
     "name": "stderr",
     "output_type": "stream",
     "text": [
      "Training: 100%|███████████████████████████████| 925/925 [04:22<00:00,  3.52it/s]\n",
      "Valid: 100%|██████████████████████████████████| 132/132 [00:26<00:00,  4.90it/s]\n"
     ]
    },
    {
     "name": "stdout",
     "output_type": "stream",
     "text": [
      "Epoch 6: Train loss = 0.680741222500801, Train accuracy: 0.7349028669821249\n",
      "Epoch 6: Validation loss = 0.7981575199148871, Validation accuracy: 0.6966020419742122\n",
      "Validation accuracy increased (0.6699517773407878 --> 0.6966020419742122). Model saved\n"
     ]
    },
    {
     "name": "stderr",
     "output_type": "stream",
     "text": [
      "Training: 100%|███████████████████████████████| 925/925 [04:27<00:00,  3.46it/s]\n",
      "Valid: 100%|██████████████████████████████████| 132/132 [00:26<00:00,  4.91it/s]\n"
     ]
    },
    {
     "name": "stdout",
     "output_type": "stream",
     "text": [
      "Epoch 7: Train loss = 0.6190345540723285, Train accuracy: 0.7572384268206519\n",
      "Epoch 7: Validation loss = 0.7210804682337877, Validation accuracy: 0.7253063018574859\n",
      "Validation accuracy increased (0.6966020419742122 --> 0.7253063018574859). Model saved\n"
     ]
    },
    {
     "name": "stderr",
     "output_type": "stream",
     "text": [
      "Training: 100%|███████████████████████████████| 925/925 [04:20<00:00,  3.54it/s]\n",
      "Valid: 100%|██████████████████████████████████| 132/132 [00:26<00:00,  5.07it/s]\n"
     ]
    },
    {
     "name": "stdout",
     "output_type": "stream",
     "text": [
      "Epoch 8: Train loss = 0.5609212950919126, Train accuracy: 0.7772303270971452\n",
      "Epoch 8: Validation loss = 0.8084647206194473, Validation accuracy: 0.6953319053758275\n"
     ]
    },
    {
     "name": "stderr",
     "output_type": "stream",
     "text": [
      "Training: 100%|███████████████████████████████| 925/925 [04:22<00:00,  3.52it/s]\n",
      "Valid: 100%|██████████████████████████████████| 132/132 [00:27<00:00,  4.86it/s]\n"
     ]
    },
    {
     "name": "stdout",
     "output_type": "stream",
     "text": [
      "Epoch 9: Train loss = 0.5109697788792688, Train accuracy: 0.7957239959691021\n",
      "Epoch 9: Validation loss = 0.7806655793930545, Validation accuracy: 0.7003201289158879\n"
     ]
    },
    {
     "name": "stderr",
     "output_type": "stream",
     "text": [
      "Training: 100%|███████████████████████████████| 925/925 [04:30<00:00,  3.42it/s]\n",
      "Valid: 100%|██████████████████████████████████| 132/132 [00:27<00:00,  4.77it/s]\n"
     ]
    },
    {
     "name": "stdout",
     "output_type": "stream",
     "text": [
      "Epoch 10: Train loss = 0.4597635008193351, Train accuracy: 0.8179875182138907\n",
      "Epoch 10: Validation loss = 0.6800013173258665, Validation accuracy: 0.731035700801647\n",
      "Validation accuracy increased (0.7253063018574859 --> 0.731035700801647). Model saved\n"
     ]
    },
    {
     "name": "stderr",
     "output_type": "stream",
     "text": [
      "Training: 100%|███████████████████████████████| 925/925 [04:27<00:00,  3.46it/s]\n",
      "Valid: 100%|██████████████████████████████████| 132/132 [00:26<00:00,  4.94it/s]\n"
     ]
    },
    {
     "name": "stdout",
     "output_type": "stream",
     "text": [
      "Epoch 11: Train loss = 0.4221809086203575, Train accuracy: 0.8295201193964159\n",
      "Epoch 11: Validation loss = 0.901110608243581, Validation accuracy: 0.6741524442578807\n"
     ]
    },
    {
     "name": "stderr",
     "output_type": "stream",
     "text": [
      "Training: 100%|███████████████████████████████| 925/925 [04:27<00:00,  3.46it/s]\n",
      "Valid: 100%|██████████████████████████████████| 132/132 [00:26<00:00,  4.98it/s]\n"
     ]
    },
    {
     "name": "stdout",
     "output_type": "stream",
     "text": [
      "Epoch 12: Train loss = 0.3881287176866789, Train accuracy: 0.8448131000995636\n",
      "Epoch 12: Validation loss = 0.916844724705725, Validation accuracy: 0.6724460739077944\n"
     ]
    },
    {
     "name": "stderr",
     "output_type": "stream",
     "text": [
      "Training: 100%|███████████████████████████████| 925/925 [04:19<00:00,  3.57it/s]\n",
      "Valid: 100%|██████████████████████████████████| 132/132 [00:26<00:00,  5.01it/s]\n"
     ]
    },
    {
     "name": "stdout",
     "output_type": "stream",
     "text": [
      "Epoch 13: Train loss = 0.34975826970628787, Train accuracy: 0.8537752298406652\n",
      "Epoch 13: Validation loss = 1.1829037300565026, Validation accuracy: 0.5885987554987272\n"
     ]
    },
    {
     "name": "stderr",
     "output_type": "stream",
     "text": [
      "Training: 100%|███████████████████████████████| 925/925 [04:22<00:00,  3.52it/s]\n",
      "Valid: 100%|██████████████████████████████████| 132/132 [00:27<00:00,  4.82it/s]\n"
     ]
    },
    {
     "name": "stdout",
     "output_type": "stream",
     "text": [
      "Epoch 14: Train loss = 0.3201974316223248, Train accuracy: 0.8695081592250514\n",
      "Epoch 14: Validation loss = 1.3288432427427985, Validation accuracy: 0.5738236457109451\n"
     ]
    },
    {
     "name": "stderr",
     "output_type": "stream",
     "text": [
      "Training: 100%|███████████████████████████████| 925/925 [04:27<00:00,  3.46it/s]\n",
      "Valid: 100%|██████████████████████████████████| 132/132 [00:27<00:00,  4.82it/s]\n"
     ]
    },
    {
     "name": "stdout",
     "output_type": "stream",
     "text": [
      "Epoch 15: Train loss = 0.30007085478386364, Train accuracy: 0.876032794488443\n",
      "Epoch 15: Validation loss = 1.3849680920441945, Validation accuracy: 0.5580332525300257\n"
     ]
    },
    {
     "name": "stderr",
     "output_type": "stream",
     "text": [
      "Training: 100%|███████████████████████████████| 925/925 [04:31<00:00,  3.41it/s]\n",
      "Valid: 100%|██████████████████████████████████| 132/132 [00:27<00:00,  4.74it/s]\n"
     ]
    },
    {
     "name": "stdout",
     "output_type": "stream",
     "text": [
      "Epoch 16: Train loss = 0.27393535713891726, Train accuracy: 0.8857589799004633\n",
      "Epoch 16: Validation loss = 1.1720558445562015, Validation accuracy: 0.6312559222181638\n"
     ]
    },
    {
     "name": "stderr",
     "output_type": "stream",
     "text": [
      "Training: 100%|███████████████████████████████| 925/925 [04:29<00:00,  3.43it/s]\n",
      "Valid: 100%|██████████████████████████████████| 132/132 [00:27<00:00,  4.82it/s]\n"
     ]
    },
    {
     "name": "stdout",
     "output_type": "stream",
     "text": [
      "Epoch 17: Train loss = 0.24577666798757541, Train accuracy: 0.89720840544314\n",
      "Epoch 17: Validation loss = 1.24651777473363, Validation accuracy: 0.5865862588539268\n"
     ]
    },
    {
     "name": "stderr",
     "output_type": "stream",
     "text": [
      "Training: 100%|███████████████████████████████| 925/925 [04:27<00:00,  3.46it/s]\n",
      "Valid: 100%|██████████████████████████████████| 132/132 [00:26<00:00,  5.07it/s]\n"
     ]
    },
    {
     "name": "stdout",
     "output_type": "stream",
     "text": [
      "Epoch 18: Train loss = 0.2303383990075137, Train accuracy: 0.9045886410249246\n",
      "Epoch 18: Validation loss = 1.3871999974503662, Validation accuracy: 0.516963992832285\n"
     ]
    },
    {
     "name": "stderr",
     "output_type": "stream",
     "text": [
      "Training: 100%|███████████████████████████████| 925/925 [04:26<00:00,  3.47it/s]\n",
      "Valid: 100%|██████████████████████████████████| 132/132 [00:26<00:00,  4.92it/s]\n"
     ]
    },
    {
     "name": "stdout",
     "output_type": "stream",
     "text": [
      "Epoch 19: Train loss = 0.21252322441822774, Train accuracy: 0.9096970690907659\n",
      "Epoch 19: Validation loss = 1.4624250359607465, Validation accuracy: 0.5304140290527632\n"
     ]
    },
    {
     "name": "stderr",
     "output_type": "stream",
     "text": [
      "Training: 100%|███████████████████████████████| 925/925 [04:31<00:00,  3.41it/s]\n",
      "Valid: 100%|██████████████████████████████████| 132/132 [00:26<00:00,  4.96it/s]\n"
     ]
    },
    {
     "name": "stdout",
     "output_type": "stream",
     "text": [
      "Epoch 20: Train loss = 0.20184214492303293, Train accuracy: 0.9130206685452847\n",
      "Epoch 20: Validation loss = 2.457035367235993, Validation accuracy: 0.3431315671539668\n"
     ]
    },
    {
     "name": "stderr",
     "output_type": "stream",
     "text": [
      "Training: 100%|███████████████████████████████| 925/925 [04:24<00:00,  3.49it/s]\n",
      "Valid: 100%|██████████████████████████████████| 132/132 [00:26<00:00,  5.05it/s]\n"
     ]
    },
    {
     "name": "stdout",
     "output_type": "stream",
     "text": [
      "Epoch 21: Train loss = 0.18510639050018948, Train accuracy: 0.9186130573942854\n",
      "Epoch 21: Validation loss = 1.493855635325114, Validation accuracy: 0.5019324934392264\n"
     ]
    },
    {
     "name": "stderr",
     "output_type": "stream",
     "text": [
      "Training: 100%|███████████████████████████████| 925/925 [04:23<00:00,  3.51it/s]\n",
      "Valid: 100%|██████████████████████████████████| 132/132 [00:26<00:00,  4.99it/s]\n"
     ]
    },
    {
     "name": "stdout",
     "output_type": "stream",
     "text": [
      "Epoch 22: Train loss = 0.16868890895130667, Train accuracy: 0.9272154641795802\n",
      "Epoch 22: Validation loss = 1.4580976181861125, Validation accuracy: 0.5325613710464854\n"
     ]
    },
    {
     "name": "stderr",
     "output_type": "stream",
     "text": [
      "Training: 100%|███████████████████████████████| 925/925 [04:25<00:00,  3.49it/s]\n",
      "Valid: 100%|██████████████████████████████████| 132/132 [00:27<00:00,  4.75it/s]\n"
     ]
    },
    {
     "name": "stdout",
     "output_type": "stream",
     "text": [
      "Epoch 23: Train loss = 0.1625053051416133, Train accuracy: 0.9283463467778387\n",
      "Epoch 23: Validation loss = 1.7902402480443318, Validation accuracy: 0.46062370254234836\n"
     ]
    },
    {
     "name": "stderr",
     "output_type": "stream",
     "text": [
      "Training: 100%|███████████████████████████████| 925/925 [04:27<00:00,  3.45it/s]\n",
      "Valid: 100%|██████████████████████████████████| 132/132 [00:27<00:00,  4.83it/s]\n"
     ]
    },
    {
     "name": "stdout",
     "output_type": "stream",
     "text": [
      "Epoch 24: Train loss = 0.15098384041892918, Train accuracy: 0.9345654614551647\n",
      "Epoch 24: Validation loss = 1.7546255904616732, Validation accuracy: 0.4800007478757338\n"
     ]
    },
    {
     "name": "stderr",
     "output_type": "stream",
     "text": [
      "Training: 100%|███████████████████████████████| 925/925 [04:30<00:00,  3.42it/s]\n",
      "Valid: 100%|██████████████████████████████████| 132/132 [00:27<00:00,  4.72it/s]\n"
     ]
    },
    {
     "name": "stdout",
     "output_type": "stream",
     "text": [
      "Epoch 25: Train loss = 0.1448300304570915, Train accuracy: 0.9406972745302561\n",
      "Epoch 25: Validation loss = 1.7591440316402551, Validation accuracy: 0.46633174033327535\n"
     ]
    },
    {
     "name": "stderr",
     "output_type": "stream",
     "text": [
      "Training: 100%|███████████████████████████████| 925/925 [04:28<00:00,  3.45it/s]\n",
      "Valid: 100%|██████████████████████████████████| 132/132 [00:26<00:00,  4.93it/s]\n"
     ]
    },
    {
     "name": "stdout",
     "output_type": "stream",
     "text": [
      "Epoch 26: Train loss = 0.13328106188794245, Train accuracy: 0.9429405636400789\n",
      "Epoch 26: Validation loss = 1.7766202471473, Validation accuracy: 0.4875658635388721\n"
     ]
    },
    {
     "name": "stderr",
     "output_type": "stream",
     "text": [
      "Training: 100%|███████████████████████████████| 925/925 [04:31<00:00,  3.41it/s]\n",
      "Valid: 100%|██████████████████████████████████| 132/132 [00:28<00:00,  4.71it/s]\n"
     ]
    },
    {
     "name": "stdout",
     "output_type": "stream",
     "text": [
      "Epoch 27: Train loss = 0.12740623510354576, Train accuracy: 0.9457577767243256\n",
      "Epoch 27: Validation loss = 2.0858908810398797, Validation accuracy: 0.41132427898771834\n"
     ]
    },
    {
     "name": "stderr",
     "output_type": "stream",
     "text": [
      "Training: 100%|███████████████████████████████| 925/925 [04:35<00:00,  3.36it/s]\n",
      "Valid: 100%|██████████████████████████████████| 132/132 [00:29<00:00,  4.53it/s]\n"
     ]
    },
    {
     "name": "stdout",
     "output_type": "stream",
     "text": [
      "Epoch 28: Train loss = 0.11972201834936198, Train accuracy: 0.9495380226341453\n",
      "Epoch 28: Validation loss = 2.037526835094799, Validation accuracy: 0.42089453023491485\n"
     ]
    },
    {
     "name": "stderr",
     "output_type": "stream",
     "text": [
      "Training: 100%|███████████████████████████████| 925/925 [04:35<00:00,  3.36it/s]\n",
      "Valid: 100%|██████████████████████████████████| 132/132 [00:26<00:00,  4.92it/s]\n"
     ]
    },
    {
     "name": "stdout",
     "output_type": "stream",
     "text": [
      "Epoch 29: Train loss = 0.12120247833581792, Train accuracy: 0.9472779810750807\n",
      "Epoch 29: Validation loss = 1.9389330157727906, Validation accuracy: 0.38504125606833084\n"
     ]
    },
    {
     "name": "stderr",
     "output_type": "stream",
     "text": [
      "Training: 100%|███████████████████████████████| 925/925 [04:35<00:00,  3.36it/s]\n",
      "Valid: 100%|██████████████████████████████████| 132/132 [00:28<00:00,  4.61it/s]\n"
     ]
    },
    {
     "name": "stdout",
     "output_type": "stream",
     "text": [
      "Epoch 30: Train loss = 0.1086280992433328, Train accuracy: 0.9524555297155638\n",
      "Epoch 30: Validation loss = 1.592134235031677, Validation accuracy: 0.5206286197133136\n"
     ]
    },
    {
     "name": "stderr",
     "output_type": "stream",
     "text": [
      "Training: 100%|███████████████████████████████| 925/925 [04:35<00:00,  3.36it/s]\n",
      "Valid: 100%|██████████████████████████████████| 132/132 [00:28<00:00,  4.62it/s]\n"
     ]
    },
    {
     "name": "stdout",
     "output_type": "stream",
     "text": [
      "Epoch 31: Train loss = 0.10752307612952348, Train accuracy: 0.9507332890098159\n",
      "Epoch 31: Validation loss = 1.9414514944408878, Validation accuracy: 0.38052783330733125\n"
     ]
    },
    {
     "name": "stderr",
     "output_type": "stream",
     "text": [
      "Training: 100%|███████████████████████████████| 925/925 [04:32<00:00,  3.40it/s]\n",
      "Valid: 100%|██████████████████████████████████| 132/132 [00:28<00:00,  4.60it/s]\n"
     ]
    },
    {
     "name": "stdout",
     "output_type": "stream",
     "text": [
      "Epoch 32: Train loss = 0.10419722581357771, Train accuracy: 0.954602733045011\n",
      "Epoch 32: Validation loss = 1.9753738686893925, Validation accuracy: 0.3963220183822242\n"
     ]
    },
    {
     "name": "stderr",
     "output_type": "stream",
     "text": [
      "Training: 100%|███████████████████████████████| 925/925 [04:26<00:00,  3.46it/s]\n",
      "Valid: 100%|██████████████████████████████████| 132/132 [00:27<00:00,  4.79it/s]\n"
     ]
    },
    {
     "name": "stdout",
     "output_type": "stream",
     "text": [
      "Epoch 33: Train loss = 0.09914379613373328, Train accuracy: 0.9575029485290115\n",
      "Epoch 33: Validation loss = 2.568989925312273, Validation accuracy: 0.3200095131654631\n"
     ]
    },
    {
     "name": "stderr",
     "output_type": "stream",
     "text": [
      "Training: 100%|███████████████████████████████| 925/925 [04:28<00:00,  3.45it/s]\n",
      "Valid: 100%|██████████████████████████████████| 132/132 [00:28<00:00,  4.70it/s]\n"
     ]
    },
    {
     "name": "stdout",
     "output_type": "stream",
     "text": [
      "Epoch 34: Train loss = 0.0910797403589193, Train accuracy: 0.9609499844344886\n",
      "Epoch 34: Validation loss = 1.7316448173739694, Validation accuracy: 0.47819555325038504\n"
     ]
    },
    {
     "name": "stderr",
     "output_type": "stream",
     "text": [
      "Training: 100%|███████████████████████████████| 925/925 [04:29<00:00,  3.44it/s]\n",
      "Valid: 100%|██████████████████████████████████| 132/132 [00:27<00:00,  4.82it/s]\n"
     ]
    },
    {
     "name": "stdout",
     "output_type": "stream",
     "text": [
      "Epoch 35: Train loss = 0.09049045489068974, Train accuracy: 0.962022156715393\n",
      "Epoch 35: Validation loss = 1.8766651126471432, Validation accuracy: 0.41161608616962575\n"
     ]
    },
    {
     "name": "stderr",
     "output_type": "stream",
     "text": [
      "Training: 100%|███████████████████████████████| 925/925 [04:32<00:00,  3.39it/s]\n",
      "Valid: 100%|██████████████████████████████████| 132/132 [00:27<00:00,  4.75it/s]\n"
     ]
    },
    {
     "name": "stdout",
     "output_type": "stream",
     "text": [
      "Epoch 36: Train loss = 0.09520050896356838, Train accuracy: 0.9602849634273632\n",
      "Epoch 36: Validation loss = 2.091696043809255, Validation accuracy: 0.4131945969932007\n"
     ]
    },
    {
     "name": "stderr",
     "output_type": "stream",
     "text": [
      "Training: 100%|███████████████████████████████| 925/925 [04:30<00:00,  3.41it/s]\n",
      "Valid: 100%|██████████████████████████████████| 132/132 [00:27<00:00,  4.74it/s]\n"
     ]
    },
    {
     "name": "stdout",
     "output_type": "stream",
     "text": [
      "Epoch 37: Train loss = 0.07982478632415468, Train accuracy: 0.9664665042387472\n",
      "Epoch 37: Validation loss = 2.339309794433189, Validation accuracy: 0.3478677095563123\n"
     ]
    },
    {
     "name": "stderr",
     "output_type": "stream",
     "text": [
      "Training: 100%|███████████████████████████████| 925/925 [04:33<00:00,  3.39it/s]\n",
      "Valid: 100%|██████████████████████████████████| 132/132 [00:28<00:00,  4.61it/s]\n"
     ]
    },
    {
     "name": "stdout",
     "output_type": "stream",
     "text": [
      "Epoch 38: Train loss = 0.08629038142745156, Train accuracy: 0.9608313034676217\n",
      "Epoch 38: Validation loss = 2.014051489757769, Validation accuracy: 0.38262618096037343\n"
     ]
    },
    {
     "name": "stderr",
     "output_type": "stream",
     "text": [
      "Training: 100%|███████████████████████████████| 925/925 [04:36<00:00,  3.34it/s]\n",
      "Valid: 100%|██████████████████████████████████| 132/132 [00:27<00:00,  4.73it/s]\n"
     ]
    },
    {
     "name": "stdout",
     "output_type": "stream",
     "text": [
      "Epoch 39: Train loss = 0.07955649037795091, Train accuracy: 0.9671196563823803\n",
      "Epoch 39: Validation loss = 1.7419367414532285, Validation accuracy: 0.46304456968650676\n"
     ]
    },
    {
     "name": "stderr",
     "output_type": "stream",
     "text": [
      "Training: 100%|███████████████████████████████| 925/925 [04:29<00:00,  3.43it/s]\n",
      "Valid: 100%|██████████████████████████████████| 132/132 [00:27<00:00,  4.74it/s]\n"
     ]
    },
    {
     "name": "stdout",
     "output_type": "stream",
     "text": [
      "Epoch 40: Train loss = 0.07845269305920984, Train accuracy: 0.966264024940697\n",
      "Epoch 40: Validation loss = 2.2650612782348287, Validation accuracy: 0.3506047729064118\n"
     ]
    },
    {
     "name": "stderr",
     "output_type": "stream",
     "text": [
      "Training: 100%|███████████████████████████████| 925/925 [04:25<00:00,  3.49it/s]\n",
      "Valid: 100%|██████████████████████████████████| 132/132 [00:26<00:00,  5.03it/s]\n"
     ]
    },
    {
     "name": "stdout",
     "output_type": "stream",
     "text": [
      "Epoch 41: Train loss = 0.07880877754197935, Train accuracy: 0.9667972006024541\n",
      "Epoch 41: Validation loss = 1.8880161037950804, Validation accuracy: 0.44844399178118416\n"
     ]
    },
    {
     "name": "stderr",
     "output_type": "stream",
     "text": [
      "Training: 100%|███████████████████████████████| 925/925 [04:24<00:00,  3.50it/s]\n",
      "Valid: 100%|██████████████████████████████████| 132/132 [00:26<00:00,  4.90it/s]\n"
     ]
    },
    {
     "name": "stdout",
     "output_type": "stream",
     "text": [
      "Epoch 42: Train loss = 0.06893767926124604, Train accuracy: 0.970134037378672\n",
      "Epoch 42: Validation loss = 1.9087169974139242, Validation accuracy: 0.4173118481130311\n"
     ]
    },
    {
     "name": "stderr",
     "output_type": "stream",
     "text": [
      "Training: 100%|███████████████████████████████| 925/925 [04:24<00:00,  3.50it/s]\n",
      "Valid: 100%|██████████████████████████████████| 132/132 [00:26<00:00,  4.95it/s]\n"
     ]
    },
    {
     "name": "stdout",
     "output_type": "stream",
     "text": [
      "Epoch 43: Train loss = 0.07091787310052865, Train accuracy: 0.9725818146886053\n",
      "Epoch 43: Validation loss = 2.0488648306239736, Validation accuracy: 0.431190027770671\n"
     ]
    },
    {
     "name": "stderr",
     "output_type": "stream",
     "text": [
      "Training: 100%|███████████████████████████████| 925/925 [04:30<00:00,  3.42it/s]\n",
      "Valid: 100%|██████████████████████████████████| 132/132 [00:27<00:00,  4.80it/s]\n"
     ]
    },
    {
     "name": "stdout",
     "output_type": "stream",
     "text": [
      "Epoch 44: Train loss = 0.06661024164156737, Train accuracy: 0.9715634222932764\n",
      "Epoch 44: Validation loss = 1.8837916525927456, Validation accuracy: 0.4011905886458628\n"
     ]
    },
    {
     "name": "stderr",
     "output_type": "stream",
     "text": [
      "Training: 100%|███████████████████████████████| 925/925 [04:32<00:00,  3.40it/s]\n",
      "Valid: 100%|██████████████████████████████████| 132/132 [00:26<00:00,  4.90it/s]\n"
     ]
    },
    {
     "name": "stdout",
     "output_type": "stream",
     "text": [
      "Epoch 45: Train loss = 0.06804019026231725, Train accuracy: 0.9709879074225555\n",
      "Epoch 45: Validation loss = 1.9271193706628047, Validation accuracy: 0.3881563808430325\n"
     ]
    },
    {
     "name": "stderr",
     "output_type": "stream",
     "text": [
      "Training: 100%|███████████████████████████████| 925/925 [04:24<00:00,  3.50it/s]\n",
      "Valid: 100%|██████████████████████████████████| 132/132 [00:26<00:00,  4.97it/s]\n"
     ]
    },
    {
     "name": "stdout",
     "output_type": "stream",
     "text": [
      "Epoch 46: Train loss = 0.063860395061343, Train accuracy: 0.9729277003777994\n",
      "Epoch 46: Validation loss = 1.8032589906995946, Validation accuracy: 0.39353321628137067\n"
     ]
    },
    {
     "name": "stderr",
     "output_type": "stream",
     "text": [
      "Training: 100%|███████████████████████████████| 925/925 [04:17<00:00,  3.59it/s]\n",
      "Valid: 100%|██████████████████████████████████| 132/132 [00:25<00:00,  5.10it/s]\n"
     ]
    },
    {
     "name": "stdout",
     "output_type": "stream",
     "text": [
      "Epoch 47: Train loss = 0.06474114240870836, Train accuracy: 0.9729584465800105\n",
      "Epoch 47: Validation loss = 1.866103101860393, Validation accuracy: 0.43315472843294794\n"
     ]
    },
    {
     "name": "stderr",
     "output_type": "stream",
     "text": [
      "Training: 100%|███████████████████████████████| 925/925 [04:17<00:00,  3.59it/s]\n",
      "Valid: 100%|██████████████████████████████████| 132/132 [00:25<00:00,  5.11it/s]\n"
     ]
    },
    {
     "name": "stdout",
     "output_type": "stream",
     "text": [
      "Epoch 48: Train loss = 0.06384537284407212, Train accuracy: 0.9729618984299737\n",
      "Epoch 48: Validation loss = 1.8097943609411067, Validation accuracy: 0.435265158839298\n"
     ]
    },
    {
     "name": "stderr",
     "output_type": "stream",
     "text": [
      "Training: 100%|███████████████████████████████| 925/925 [04:18<00:00,  3.58it/s]\n",
      "Valid: 100%|██████████████████████████████████| 132/132 [00:25<00:00,  5.08it/s]\n"
     ]
    },
    {
     "name": "stdout",
     "output_type": "stream",
     "text": [
      "Epoch 49: Train loss = 0.055343871973045924, Train accuracy: 0.9776222409428776\n",
      "Epoch 49: Validation loss = 1.8870595847115372, Validation accuracy: 0.4586522212308465\n"
     ]
    },
    {
     "name": "stderr",
     "output_type": "stream",
     "text": [
      "Training: 100%|███████████████████████████████| 925/925 [04:19<00:00,  3.57it/s]\n",
      "Valid: 100%|██████████████████████████████████| 132/132 [00:25<00:00,  5.14it/s]\n"
     ]
    },
    {
     "name": "stdout",
     "output_type": "stream",
     "text": [
      "Epoch 50: Train loss = 0.055507312303635516, Train accuracy: 0.9764038294070476\n",
      "Epoch 50: Validation loss = 2.451453717369022, Validation accuracy: 0.31373840164054523\n"
     ]
    },
    {
     "name": "stderr",
     "output_type": "stream",
     "text": [
      "Training: 100%|███████████████████████████████| 925/925 [04:21<00:00,  3.53it/s]\n",
      "Valid: 100%|██████████████████████████████████| 132/132 [00:26<00:00,  4.92it/s]\n"
     ]
    },
    {
     "name": "stdout",
     "output_type": "stream",
     "text": [
      "Epoch 51: Train loss = 0.05872535546093147, Train accuracy: 0.9745181272480938\n",
      "Epoch 51: Validation loss = 2.8296613169438913, Validation accuracy: 0.23409023087923275\n"
     ]
    },
    {
     "name": "stderr",
     "output_type": "stream",
     "text": [
      "Training: 100%|███████████████████████████████| 925/925 [04:15<00:00,  3.61it/s]\n",
      "Valid: 100%|██████████████████████████████████| 132/132 [00:26<00:00,  5.07it/s]\n"
     ]
    },
    {
     "name": "stdout",
     "output_type": "stream",
     "text": [
      "Epoch 52: Train loss = 0.05699227010032061, Train accuracy: 0.9773192596435547\n",
      "Epoch 52: Validation loss = 2.7465272934147804, Validation accuracy: 0.2375190066681667\n"
     ]
    },
    {
     "name": "stderr",
     "output_type": "stream",
     "text": [
      "Training: 100%|███████████████████████████████| 925/925 [04:20<00:00,  3.55it/s]\n",
      "Valid: 100%|██████████████████████████████████| 132/132 [00:25<00:00,  5.22it/s]\n"
     ]
    },
    {
     "name": "stdout",
     "output_type": "stream",
     "text": [
      "Epoch 53: Train loss = 0.057894689848684275, Train accuracy: 0.9745372091757285\n",
      "Epoch 53: Validation loss = 3.3644054116624775, Validation accuracy: 0.19896257468358133\n"
     ]
    },
    {
     "name": "stderr",
     "output_type": "stream",
     "text": [
      "Training: 100%|███████████████████████████████| 925/925 [04:17<00:00,  3.60it/s]\n",
      "Valid: 100%|██████████████████████████████████| 132/132 [00:25<00:00,  5.19it/s]\n"
     ]
    },
    {
     "name": "stdout",
     "output_type": "stream",
     "text": [
      "Epoch 54: Train loss = 0.05473196667249352, Train accuracy: 0.9757240886301608\n",
      "Epoch 54: Validation loss = 2.786693915273204, Validation accuracy: 0.2999234495289398\n"
     ]
    },
    {
     "name": "stderr",
     "output_type": "stream",
     "text": [
      "Training: 100%|███████████████████████████████| 925/925 [04:15<00:00,  3.62it/s]\n",
      "Valid: 100%|██████████████████████████████████| 132/132 [00:25<00:00,  5.19it/s]\n"
     ]
    },
    {
     "name": "stdout",
     "output_type": "stream",
     "text": [
      "Epoch 55: Train loss = 0.04811606525972083, Train accuracy: 0.9787918222917092\n",
      "Epoch 55: Validation loss = 2.502712593837218, Validation accuracy: 0.3277426324220318\n"
     ]
    },
    {
     "name": "stderr",
     "output_type": "stream",
     "text": [
      "Training: 100%|███████████████████████████████| 925/925 [04:13<00:00,  3.64it/s]\n",
      "Valid: 100%|██████████████████████████████████| 132/132 [00:24<00:00,  5.36it/s]\n"
     ]
    },
    {
     "name": "stdout",
     "output_type": "stream",
     "text": [
      "Epoch 56: Train loss = 0.05263938435913391, Train accuracy: 0.9778419640901926\n",
      "Epoch 56: Validation loss = 2.766629671508616, Validation accuracy: 0.25007098952703405\n"
     ]
    },
    {
     "name": "stderr",
     "output_type": "stream",
     "text": [
      "Training: 100%|███████████████████████████████| 925/925 [04:11<00:00,  3.68it/s]\n",
      "Valid: 100%|██████████████████████████████████| 132/132 [00:25<00:00,  5.23it/s]\n"
     ]
    },
    {
     "name": "stdout",
     "output_type": "stream",
     "text": [
      "Epoch 57: Train loss = 0.05414018073100345, Train accuracy: 0.9784359049152683\n",
      "Epoch 57: Validation loss = 1.7889278675570632, Validation accuracy: 0.4027389677410776\n"
     ]
    },
    {
     "name": "stderr",
     "output_type": "stream",
     "text": [
      "Training: 100%|███████████████████████████████| 925/925 [04:12<00:00,  3.67it/s]\n",
      "Valid: 100%|██████████████████████████████████| 132/132 [00:25<00:00,  5.27it/s]\n"
     ]
    },
    {
     "name": "stdout",
     "output_type": "stream",
     "text": [
      "Epoch 58: Train loss = 0.04935950358439161, Train accuracy: 0.9773467600023424\n",
      "Epoch 58: Validation loss = 1.8592383509332484, Validation accuracy: 0.450625645617644\n"
     ]
    },
    {
     "name": "stderr",
     "output_type": "stream",
     "text": [
      "Training: 100%|███████████████████████████████| 925/925 [04:11<00:00,  3.68it/s]\n",
      "Valid: 100%|██████████████████████████████████| 132/132 [00:24<00:00,  5.32it/s]\n"
     ]
    },
    {
     "name": "stdout",
     "output_type": "stream",
     "text": [
      "Epoch 59: Train loss = 0.045792397612523336, Train accuracy: 0.9816158707077439\n",
      "Epoch 59: Validation loss = 2.032384371215647, Validation accuracy: 0.3604773103513501\n"
     ]
    },
    {
     "name": "stderr",
     "output_type": "stream",
     "text": [
      "Training: 100%|███████████████████████████████| 925/925 [04:10<00:00,  3.69it/s]\n",
      "Valid: 100%|██████████████████████████████████| 132/132 [00:25<00:00,  5.16it/s]\n"
     ]
    },
    {
     "name": "stdout",
     "output_type": "stream",
     "text": [
      "Epoch 60: Train loss = 0.048643410724990475, Train accuracy: 0.9792623796978512\n",
      "Epoch 60: Validation loss = 1.8447292916702502, Validation accuracy: 0.4500053789127957\n"
     ]
    },
    {
     "name": "stderr",
     "output_type": "stream",
     "text": [
      "Training: 100%|███████████████████████████████| 925/925 [04:12<00:00,  3.66it/s]\n",
      "Valid: 100%|██████████████████████████████████| 132/132 [00:24<00:00,  5.29it/s]\n"
     ]
    },
    {
     "name": "stdout",
     "output_type": "stream",
     "text": [
      "Epoch 61: Train loss = 0.04786768466652673, Train accuracy: 0.97893520851393\n",
      "Epoch 61: Validation loss = 1.9415907977205333, Validation accuracy: 0.4482993683354421\n"
     ]
    },
    {
     "name": "stderr",
     "output_type": "stream",
     "text": [
      "Training: 100%|███████████████████████████████| 925/925 [04:11<00:00,  3.68it/s]\n",
      "Valid: 100%|██████████████████████████████████| 132/132 [00:26<00:00,  5.04it/s]\n"
     ]
    },
    {
     "name": "stdout",
     "output_type": "stream",
     "text": [
      "Epoch 62: Train loss = 0.040995659343772445, Train accuracy: 0.9831975042497789\n",
      "Epoch 62: Validation loss = 2.091509599577297, Validation accuracy: 0.3935658397773902\n"
     ]
    },
    {
     "name": "stderr",
     "output_type": "stream",
     "text": [
      "Training: 100%|███████████████████████████████| 925/925 [04:12<00:00,  3.66it/s]\n",
      "Valid: 100%|██████████████████████████████████| 132/132 [00:25<00:00,  5.10it/s]\n"
     ]
    },
    {
     "name": "stdout",
     "output_type": "stream",
     "text": [
      "Epoch 63: Train loss = 0.044028981489733464, Train accuracy: 0.9823332605490813\n",
      "Epoch 63: Validation loss = 2.0415681754097794, Validation accuracy: 0.3590852062810551\n"
     ]
    },
    {
     "name": "stderr",
     "output_type": "stream",
     "text": [
      "Training: 100%|███████████████████████████████| 925/925 [04:11<00:00,  3.68it/s]\n",
      "Valid: 100%|██████████████████████████████████| 132/132 [00:25<00:00,  5.25it/s]\n"
     ]
    },
    {
     "name": "stdout",
     "output_type": "stream",
     "text": [
      "Epoch 64: Train loss = 0.04632259378285223, Train accuracy: 0.9807430853714814\n",
      "Epoch 64: Validation loss = 1.7728076243039332, Validation accuracy: 0.4384115860995018\n"
     ]
    },
    {
     "name": "stderr",
     "output_type": "stream",
     "text": [
      "Training: 100%|███████████████████████████████| 925/925 [04:14<00:00,  3.63it/s]\n",
      "Valid: 100%|██████████████████████████████████| 132/132 [00:25<00:00,  5.18it/s]\n"
     ]
    },
    {
     "name": "stdout",
     "output_type": "stream",
     "text": [
      "Epoch 65: Train loss = 0.042927251542553405, Train accuracy: 0.9814606506760056\n",
      "Epoch 65: Validation loss = 1.8460605126438718, Validation accuracy: 0.4577238844199614\n"
     ]
    },
    {
     "name": "stderr",
     "output_type": "stream",
     "text": [
      "Training: 100%|███████████████████████████████| 925/925 [04:10<00:00,  3.69it/s]\n",
      "Valid: 100%|██████████████████████████████████| 132/132 [00:24<00:00,  5.30it/s]\n"
     ]
    },
    {
     "name": "stdout",
     "output_type": "stream",
     "text": [
      "Epoch 66: Train loss = 0.0427203582515122, Train accuracy: 0.9815239950128504\n",
      "Epoch 66: Validation loss = 2.142618454766996, Validation accuracy: 0.3739235989297881\n"
     ]
    },
    {
     "name": "stderr",
     "output_type": "stream",
     "text": [
      "Training: 100%|███████████████████████████████| 925/925 [04:11<00:00,  3.68it/s]\n",
      "Valid: 100%|██████████████████████████████████| 132/132 [00:24<00:00,  5.29it/s]\n"
     ]
    },
    {
     "name": "stdout",
     "output_type": "stream",
     "text": [
      "Epoch 67: Train loss = 0.039999900421071044, Train accuracy: 0.9827258971575145\n",
      "Epoch 67: Validation loss = 2.3686665260430537, Validation accuracy: 0.3864884856298114\n"
     ]
    },
    {
     "name": "stderr",
     "output_type": "stream",
     "text": [
      "Training: 100%|███████████████████████████████| 925/925 [04:11<00:00,  3.68it/s]\n",
      "Valid: 100%|██████████████████████████████████| 132/132 [00:26<00:00,  5.03it/s]\n"
     ]
    },
    {
     "name": "stdout",
     "output_type": "stream",
     "text": [
      "Epoch 68: Train loss = 0.040517296240998535, Train accuracy: 0.9833339950845048\n",
      "Epoch 68: Validation loss = 1.876671527371262, Validation accuracy: 0.4692661366002126\n"
     ]
    },
    {
     "name": "stderr",
     "output_type": "stream",
     "text": [
      "Training: 100%|███████████████████████████████| 925/925 [04:09<00:00,  3.70it/s]\n",
      "Valid: 100%|██████████████████████████████████| 132/132 [00:24<00:00,  5.33it/s]\n"
     ]
    },
    {
     "name": "stdout",
     "output_type": "stream",
     "text": [
      "Epoch 69: Train loss = 0.04059121409753602, Train accuracy: 0.9842031555562406\n",
      "Epoch 69: Validation loss = 1.7794531466382923, Validation accuracy: 0.4692622143210787\n"
     ]
    },
    {
     "name": "stderr",
     "output_type": "stream",
     "text": [
      "Training: 100%|███████████████████████████████| 925/925 [04:10<00:00,  3.69it/s]\n",
      "Valid: 100%|██████████████████████████████████| 132/132 [00:25<00:00,  5.22it/s]\n"
     ]
    },
    {
     "name": "stdout",
     "output_type": "stream",
     "text": [
      "Epoch 70: Train loss = 0.039495479794521185, Train accuracy: 0.9835860256246618\n",
      "Epoch 70: Validation loss = 1.5944062624916886, Validation accuracy: 0.5087203324744196\n"
     ]
    },
    {
     "name": "stderr",
     "output_type": "stream",
     "text": [
      "Training: 100%|███████████████████████████████| 925/925 [04:09<00:00,  3.70it/s]\n",
      "Valid: 100%|██████████████████████████████████| 132/132 [00:25<00:00,  5.24it/s]\n"
     ]
    },
    {
     "name": "stdout",
     "output_type": "stream",
     "text": [
      "Epoch 71: Train loss = 0.03997718438488822, Train accuracy: 0.9833778677115569\n",
      "Epoch 71: Validation loss = 1.6068840943502658, Validation accuracy: 0.49732558406663663\n"
     ]
    },
    {
     "name": "stderr",
     "output_type": "stream",
     "text": [
      "Training: 100%|███████████████████████████████| 925/925 [04:12<00:00,  3.67it/s]\n",
      "Valid: 100%|██████████████████████████████████| 132/132 [00:24<00:00,  5.33it/s]\n"
     ]
    },
    {
     "name": "stdout",
     "output_type": "stream",
     "text": [
      "Epoch 72: Train loss = 0.03935593456841653, Train accuracy: 0.9848858796583639\n",
      "Epoch 72: Validation loss = 1.6939412156740825, Validation accuracy: 0.44606806924848846\n"
     ]
    },
    {
     "name": "stderr",
     "output_type": "stream",
     "text": [
      "Training: 100%|███████████████████████████████| 925/925 [04:10<00:00,  3.69it/s]\n",
      "Valid: 100%|██████████████████████████████████| 132/132 [00:25<00:00,  5.19it/s]\n"
     ]
    },
    {
     "name": "stdout",
     "output_type": "stream",
     "text": [
      "Epoch 73: Train loss = 0.037533710833192124, Train accuracy: 0.9840823310130351\n",
      "Epoch 73: Validation loss = 1.8850898309187456, Validation accuracy: 0.4237647907751979\n"
     ]
    },
    {
     "name": "stderr",
     "output_type": "stream",
     "text": [
      "Training: 100%|███████████████████████████████| 925/925 [04:10<00:00,  3.69it/s]\n",
      "Valid: 100%|██████████████████████████████████| 132/132 [00:25<00:00,  5.19it/s]\n"
     ]
    },
    {
     "name": "stdout",
     "output_type": "stream",
     "text": [
      "Epoch 74: Train loss = 0.037639250114034684, Train accuracy: 0.9839964831841959\n",
      "Epoch 74: Validation loss = 1.7979656281796368, Validation accuracy: 0.48461986028335313\n"
     ]
    },
    {
     "name": "stderr",
     "output_type": "stream",
     "text": [
      "Training: 100%|███████████████████████████████| 925/925 [04:11<00:00,  3.68it/s]\n",
      "Valid: 100%|██████████████████████████████████| 132/132 [00:24<00:00,  5.33it/s]\n"
     ]
    },
    {
     "name": "stdout",
     "output_type": "stream",
     "text": [
      "Epoch 75: Train loss = 0.03361484878832581, Train accuracy: 0.9856587826883471\n",
      "Epoch 75: Validation loss = 1.4037727293643085, Validation accuracy: 0.5552435903386637\n"
     ]
    },
    {
     "name": "stderr",
     "output_type": "stream",
     "text": [
      "Training: 100%|███████████████████████████████| 925/925 [04:09<00:00,  3.71it/s]\n",
      "Valid: 100%|██████████████████████████████████| 132/132 [00:24<00:00,  5.35it/s]\n"
     ]
    },
    {
     "name": "stdout",
     "output_type": "stream",
     "text": [
      "Epoch 76: Train loss = 0.03292382129485329, Train accuracy: 0.9844147600354375\n",
      "Epoch 76: Validation loss = 1.5051636619098259, Validation accuracy: 0.5242298209305966\n"
     ]
    },
    {
     "name": "stderr",
     "output_type": "stream",
     "text": [
      "Training: 100%|███████████████████████████████| 925/925 [04:10<00:00,  3.70it/s]\n",
      "Valid: 100%|██████████████████████████████████| 132/132 [00:24<00:00,  5.43it/s]\n"
     ]
    },
    {
     "name": "stdout",
     "output_type": "stream",
     "text": [
      "Epoch 77: Train loss = 0.040681784833872664, Train accuracy: 0.9825180479642507\n",
      "Epoch 77: Validation loss = 1.6059415656508822, Validation accuracy: 0.46934454120469815\n"
     ]
    },
    {
     "name": "stderr",
     "output_type": "stream",
     "text": [
      "Training: 100%|███████████████████████████████| 925/925 [04:12<00:00,  3.66it/s]\n",
      "Valid: 100%|██████████████████████████████████| 132/132 [00:24<00:00,  5.32it/s]\n"
     ]
    },
    {
     "name": "stdout",
     "output_type": "stream",
     "text": [
      "Epoch 78: Train loss = 0.0312295971356326, Train accuracy: 0.9881894934499585\n",
      "Epoch 78: Validation loss = 1.7112299447709864, Validation accuracy: 0.4673591779940056\n"
     ]
    },
    {
     "name": "stderr",
     "output_type": "stream",
     "text": [
      "Training: 100%|███████████████████████████████| 925/925 [04:11<00:00,  3.67it/s]\n",
      "Valid: 100%|██████████████████████████████████| 132/132 [00:24<00:00,  5.34it/s]\n"
     ]
    },
    {
     "name": "stdout",
     "output_type": "stream",
     "text": [
      "Epoch 79: Train loss = 0.034446448287045635, Train accuracy: 0.9856361287348979\n",
      "Epoch 79: Validation loss = 1.6537428742105311, Validation accuracy: 0.49756738091960095\n"
     ]
    },
    {
     "name": "stderr",
     "output_type": "stream",
     "text": [
      "Training: 100%|███████████████████████████████| 925/925 [04:11<00:00,  3.68it/s]\n",
      "Valid: 100%|██████████████████████████████████| 132/132 [00:24<00:00,  5.31it/s]\n"
     ]
    },
    {
     "name": "stdout",
     "output_type": "stream",
     "text": [
      "Epoch 80: Train loss = 0.037229672097262766, Train accuracy: 0.9842625218468743\n",
      "Epoch 80: Validation loss = 1.937540380340634, Validation accuracy: 0.42469110768852814\n"
     ]
    },
    {
     "name": "stderr",
     "output_type": "stream",
     "text": [
      "Training: 100%|███████████████████████████████| 925/925 [04:14<00:00,  3.63it/s]\n",
      "Valid: 100%|██████████████████████████████████| 132/132 [00:28<00:00,  4.69it/s]\n"
     ]
    },
    {
     "name": "stdout",
     "output_type": "stream",
     "text": [
      "Epoch 81: Train loss = 0.032006476380778914, Train accuracy: 0.9849059721585867\n",
      "Epoch 81: Validation loss = 2.277070478959517, Validation accuracy: 0.39495436813343654\n"
     ]
    },
    {
     "name": "stderr",
     "output_type": "stream",
     "text": [
      "Training: 100%|███████████████████████████████| 925/925 [04:28<00:00,  3.44it/s]\n",
      "Valid: 100%|██████████████████████████████████| 132/132 [00:26<00:00,  4.99it/s]\n"
     ]
    },
    {
     "name": "stdout",
     "output_type": "stream",
     "text": [
      "Epoch 82: Train loss = 0.03425286761569205, Train accuracy: 0.9860022667936377\n",
      "Epoch 82: Validation loss = 1.7485283974445227, Validation accuracy: 0.47774407425613113\n"
     ]
    },
    {
     "name": "stderr",
     "output_type": "stream",
     "text": [
      "Training: 100%|███████████████████████████████| 925/925 [04:11<00:00,  3.67it/s]\n",
      "Valid: 100%|██████████████████████████████████| 132/132 [00:24<00:00,  5.42it/s]\n"
     ]
    },
    {
     "name": "stdout",
     "output_type": "stream",
     "text": [
      "Epoch 83: Train loss = 0.03188624388613814, Train accuracy: 0.9873582411456753\n",
      "Epoch 83: Validation loss = 1.743049400322365, Validation accuracy: 0.4854225078315446\n"
     ]
    },
    {
     "name": "stderr",
     "output_type": "stream",
     "text": [
      "Training: 100%|███████████████████████████████| 925/925 [04:15<00:00,  3.63it/s]\n",
      "Valid: 100%|██████████████████████████████████| 132/132 [00:25<00:00,  5.21it/s]\n"
     ]
    },
    {
     "name": "stdout",
     "output_type": "stream",
     "text": [
      "Epoch 84: Train loss = 0.031537706775266704, Train accuracy: 0.9871493748716406\n",
      "Epoch 84: Validation loss = 1.7119478836204067, Validation accuracy: 0.48512887051611236\n"
     ]
    },
    {
     "name": "stderr",
     "output_type": "stream",
     "text": [
      "Training: 100%|███████████████████████████████| 925/925 [04:12<00:00,  3.67it/s]\n",
      "Valid: 100%|██████████████████████████████████| 132/132 [00:24<00:00,  5.29it/s]\n"
     ]
    },
    {
     "name": "stdout",
     "output_type": "stream",
     "text": [
      "Epoch 85: Train loss = 0.030971589969397157, Train accuracy: 0.985119832528604\n",
      "Epoch 85: Validation loss = 1.6874263841997494, Validation accuracy: 0.46312274670962134\n"
     ]
    },
    {
     "name": "stderr",
     "output_type": "stream",
     "text": [
      "Training: 100%|███████████████████████████████| 925/925 [04:09<00:00,  3.71it/s]\n",
      "Valid: 100%|██████████████████████████████████| 132/132 [00:24<00:00,  5.29it/s]\n"
     ]
    },
    {
     "name": "stdout",
     "output_type": "stream",
     "text": [
      "Epoch 86: Train loss = 0.03485577009586819, Train accuracy: 0.9855458490912978\n",
      "Epoch 86: Validation loss = 1.5118827566956028, Validation accuracy: 0.4959167336875742\n"
     ]
    },
    {
     "name": "stderr",
     "output_type": "stream",
     "text": [
      "Training: 100%|███████████████████████████████| 925/925 [04:09<00:00,  3.71it/s]\n",
      "Valid: 100%|██████████████████████████████████| 132/132 [00:25<00:00,  5.20it/s]\n"
     ]
    },
    {
     "name": "stdout",
     "output_type": "stream",
     "text": [
      "Epoch 87: Train loss = 0.027805790606000448, Train accuracy: 0.9894086282962078\n",
      "Epoch 87: Validation loss = 1.7774805476268132, Validation accuracy: 0.4790677037654501\n"
     ]
    },
    {
     "name": "stderr",
     "output_type": "stream",
     "text": [
      "Training: 100%|███████████████████████████████| 925/925 [04:09<00:00,  3.71it/s]\n",
      "Valid: 100%|██████████████████████████████████| 132/132 [00:23<00:00,  5.54it/s]\n"
     ]
    },
    {
     "name": "stdout",
     "output_type": "stream",
     "text": [
      "Epoch 88: Train loss = 0.03191949592292076, Train accuracy: 0.9874036756077328\n",
      "Epoch 88: Validation loss = 1.7366215514414238, Validation accuracy: 0.43419258793195087\n"
     ]
    },
    {
     "name": "stderr",
     "output_type": "stream",
     "text": [
      "Training: 100%|███████████████████████████████| 925/925 [04:07<00:00,  3.74it/s]\n",
      "Valid: 100%|██████████████████████████████████| 132/132 [00:25<00:00,  5.18it/s]\n"
     ]
    },
    {
     "name": "stdout",
     "output_type": "stream",
     "text": [
      "Epoch 89: Train loss = 0.035740204328860666, Train accuracy: 0.985639076361785\n",
      "Epoch 89: Validation loss = 1.5579300649238355, Validation accuracy: 0.4944951450734427\n"
     ]
    },
    {
     "name": "stderr",
     "output_type": "stream",
     "text": [
      "Training: 100%|███████████████████████████████| 925/925 [04:08<00:00,  3.72it/s]\n",
      "Valid: 100%|██████████████████████████████████| 132/132 [00:24<00:00,  5.29it/s]\n"
     ]
    },
    {
     "name": "stdout",
     "output_type": "stream",
     "text": [
      "Epoch 90: Train loss = 0.029219308837294906, Train accuracy: 0.9875569842957161\n",
      "Epoch 90: Validation loss = 2.0720061605626885, Validation accuracy: 0.3759349457016497\n"
     ]
    },
    {
     "name": "stderr",
     "output_type": "stream",
     "text": [
      "Training: 100%|███████████████████████████████| 925/925 [04:08<00:00,  3.72it/s]\n",
      "Valid: 100%|██████████████████████████████████| 132/132 [00:24<00:00,  5.33it/s]\n"
     ]
    },
    {
     "name": "stdout",
     "output_type": "stream",
     "text": [
      "Epoch 91: Train loss = 0.029630519284715724, Train accuracy: 0.9881769998653515\n",
      "Epoch 91: Validation loss = 1.755457775610866, Validation accuracy: 0.4452729181132533\n"
     ]
    },
    {
     "name": "stderr",
     "output_type": "stream",
     "text": [
      "Training: 100%|███████████████████████████████| 925/925 [04:10<00:00,  3.70it/s]\n",
      "Valid: 100%|██████████████████████████████████| 132/132 [00:25<00:00,  5.28it/s]\n"
     ]
    },
    {
     "name": "stdout",
     "output_type": "stream",
     "text": [
      "Epoch 92: Train loss = 0.029532174219831987, Train accuracy: 0.9858398158485825\n",
      "Epoch 92: Validation loss = 1.8932571176326636, Validation accuracy: 0.46177166892272054\n"
     ]
    },
    {
     "name": "stderr",
     "output_type": "stream",
     "text": [
      "Training: 100%|███████████████████████████████| 925/925 [04:09<00:00,  3.71it/s]\n",
      "Valid: 100%|██████████████████████████████████| 132/132 [00:24<00:00,  5.41it/s]\n"
     ]
    },
    {
     "name": "stdout",
     "output_type": "stream",
     "text": [
      "Epoch 93: Train loss = 0.027473226246822035, Train accuracy: 0.9882940110644779\n",
      "Epoch 93: Validation loss = 2.191380254246972, Validation accuracy: 0.4069489947322643\n"
     ]
    },
    {
     "name": "stderr",
     "output_type": "stream",
     "text": [
      "Training: 100%|███████████████████████████████| 925/925 [04:08<00:00,  3.72it/s]\n",
      "Valid: 100%|██████████████████████████████████| 132/132 [00:24<00:00,  5.46it/s]\n"
     ]
    },
    {
     "name": "stdout",
     "output_type": "stream",
     "text": [
      "Epoch 94: Train loss = 0.03072255016733244, Train accuracy: 0.9871983467566\n",
      "Epoch 94: Validation loss = 1.5383579929669697, Validation accuracy: 0.531698228283362\n"
     ]
    },
    {
     "name": "stderr",
     "output_type": "stream",
     "text": [
      "Training: 100%|███████████████████████████████| 925/925 [04:07<00:00,  3.74it/s]\n",
      "Valid: 100%|██████████████████████████████████| 132/132 [00:24<00:00,  5.34it/s]\n"
     ]
    },
    {
     "name": "stdout",
     "output_type": "stream",
     "text": [
      "Epoch 95: Train loss = 0.032001272024058995, Train accuracy: 0.9859392122320226\n",
      "Epoch 95: Validation loss = 1.8730171936931033, Validation accuracy: 0.4184190936838136\n"
     ]
    },
    {
     "name": "stderr",
     "output_type": "stream",
     "text": [
      "Training: 100%|███████████████████████████████| 925/925 [04:08<00:00,  3.72it/s]\n",
      "Valid: 100%|██████████████████████████████████| 132/132 [00:24<00:00,  5.39it/s]\n"
     ]
    },
    {
     "name": "stdout",
     "output_type": "stream",
     "text": [
      "Epoch 96: Train loss = 0.02453483725344995, Train accuracy: 0.9885462978723887\n",
      "Epoch 96: Validation loss = 1.6032639281316237, Validation accuracy: 0.48518407265796804\n"
     ]
    },
    {
     "name": "stderr",
     "output_type": "stream",
     "text": [
      "Training: 100%|███████████████████████████████| 925/925 [04:07<00:00,  3.74it/s]\n",
      "Valid: 100%|██████████████████████████████████| 132/132 [00:24<00:00,  5.31it/s]\n"
     ]
    },
    {
     "name": "stdout",
     "output_type": "stream",
     "text": [
      "Epoch 97: Train loss = 0.025289514234841715, Train accuracy: 0.9897093441679671\n",
      "Epoch 97: Validation loss = 1.8336538555044117, Validation accuracy: 0.4423549079308004\n"
     ]
    },
    {
     "name": "stderr",
     "output_type": "stream",
     "text": [
      "Training: 100%|███████████████████████████████| 925/925 [04:08<00:00,  3.73it/s]\n",
      "Valid: 100%|██████████████████████████████████| 132/132 [00:24<00:00,  5.31it/s]\n"
     ]
    },
    {
     "name": "stdout",
     "output_type": "stream",
     "text": [
      "Epoch 98: Train loss = 0.027938894352748222, Train accuracy: 0.9881357832857081\n",
      "Epoch 98: Validation loss = 1.7911954513101866, Validation accuracy: 0.4686270554860433\n"
     ]
    },
    {
     "name": "stderr",
     "output_type": "stream",
     "text": [
      "Training: 100%|███████████████████████████████| 925/925 [04:07<00:00,  3.73it/s]\n",
      "Valid: 100%|██████████████████████████████████| 132/132 [00:24<00:00,  5.38it/s]\n"
     ]
    },
    {
     "name": "stdout",
     "output_type": "stream",
     "text": [
      "Epoch 99: Train loss = 0.02954413320386241, Train accuracy: 0.9864545731931119\n",
      "Epoch 99: Validation loss = 1.9203971868211573, Validation accuracy: 0.4486406208439307\n"
     ]
    },
    {
     "data": {
      "image/png": "[encoded data removed]",
      "text/plain": [
       "<Figure size 1500x700 with 2 Axes>"
      ]
     },
     "metadata": {},
     "output_type": "display_data"
    }
   ],
   "source": [
    "\"\"\"\n",
    "Thanh Le  16 April 2024\n",
    "How to train/fine-tune a pre-trained model on a custom dataset (i.e., transfer learning)\n",
    "\"\"\"\n",
    "import torch\n",
    "from torch import nn, save, load\n",
    "from tqdm import tqdm\n",
    "from torch.optim import Adam\n",
    "from torch.utils.data import DataLoader\n",
    "from torchvision.datasets import ImageFolder\n",
    "import torchvision.transforms as transforms\n",
    "from torchmetrics.functional import accuracy\n",
    "from torchvision.transforms import ToTensor, Resize\n",
    "import numpy as np\n",
    "import os\n",
    "import matplotlib.pyplot as plt\n",
    "\n",
    "# Setup CUDA\n",
    "def setup_cuda():\n",
    "    # Setting seeds for reproducibility\n",
    "    seed = 50\n",
    "    torch.backends.cudnn.enabled = True\n",
    "    torch.backends.cudnn.benchmark = True\n",
    "    np.random.seed(seed)\n",
    "    torch.manual_seed(seed)\n",
    "    if torch.cuda.is_available():\n",
    "        torch.cuda.manual_seed(seed)\n",
    "\n",
    "    return torch.device('cuda:0' if torch.cuda.is_available() else 'cpu')\n",
    "\n",
    "\n",
    "def train_model():\n",
    "    \"\"\"\n",
    "    Train the model over a single epoch\n",
    "    :return: training loss and training accuracy\n",
    "    \"\"\"\n",
    "    train_loss = 0.0\n",
    "    train_acc = 0.0\n",
    "    model.train()\n",
    "\n",
    "    for (img, label) in tqdm(train_loader, ncols=80, desc='Training'):\n",
    "        # Get a batch\n",
    "        img, label = img.to(device, dtype=torch.float), label.to(device, dtype=torch.long)\n",
    "\n",
    "        # Set the gradients to zero before starting backpropagation\n",
    "        optimizer.zero_grad()\n",
    "\n",
    "        # Perform a feed-forward pass\n",
    "        logits = model(img)\n",
    "\n",
    "        # Compute the batch loss\n",
    "        loss = loss_fn(logits, label)\n",
    "\n",
    "        # Compute gradient of the loss fn w.r.t the trainable weights\n",
    "        loss.backward()\n",
    "\n",
    "        # Update the trainable weights\n",
    "        optimizer.step()\n",
    "\n",
    "        # Accumulate the batch loss\n",
    "        train_loss += loss.item()\n",
    "\n",
    "        # Get the predictions to calculate the accuracy for every iteration. Remember to accumulate the accuracy\n",
    "        prediction = logits.argmax(axis=1)\n",
    "        train_acc += accuracy(prediction, label, task='multiclass', average='macro', num_classes=len(class_names)).item()\n",
    "\n",
    "    return train_loss / len(train_loader), train_acc / len(train_loader)\n",
    "\n",
    "\n",
    "def validate_model():\n",
    "    \"\"\"\n",
    "    Validate the model over a single epoch\n",
    "    :return: validation loss and validation accuracy\n",
    "    \"\"\"\n",
    "    model.eval()\n",
    "    valid_loss = 0.0\n",
    "    val_acc = 0.0\n",
    "\n",
    "    with torch.no_grad():\n",
    "        for (img, label) in tqdm(val_loader, ncols=80, desc='Valid'):\n",
    "            # Get a batch\n",
    "            img, label = img.to(device, dtype=torch.float), label.to(device, dtype=torch.long)\n",
    "\n",
    "            # Perform a feed-forward pass\n",
    "            logits = model(img)\n",
    "\n",
    "            # Compute the batch loss\n",
    "            loss = loss_fn(logits, label)\n",
    "\n",
    "            # Accumulate the batch loss\n",
    "            valid_loss += loss.item()\n",
    "\n",
    "            # Get the predictions to calculate the accuracy for every iteration. Remember to accumulate the accuracy\n",
    "            prediction = logits.argmax(axis=1)\n",
    "            val_acc += accuracy(prediction, label, task='multiclass', average='macro', num_classes=len(class_names)).item()\n",
    "\n",
    "    return valid_loss / len(val_loader), val_acc / len(val_loader)\n",
    "\n",
    "\n",
    "# Example plotting function\n",
    "\n",
    "def plot_metrics(train_losses, val_losses, train_accuracies, val_accuracies):\n",
    "    epochs = range(1, len(train_losses) + 1)\n",
    "    # Losses\n",
    "    plt.figure(figsize=(15, 7))\n",
    "    plt.subplot(2, 1, 1)\n",
    "    plt.plot(epochs, train_losses, label='Training Loss', color='blue')\n",
    "    plt.plot(epochs, val_losses, label='Validation Loss', color='red')\n",
    "    plt.xlabel('Epochs')\n",
    "    plt.ylabel('Loss')\n",
    "    plt.title('Training and Validation Loss')\n",
    "    plt.legend()\n",
    "    plt.yscale('log')  # Log scale can help for loss curves with large values\n",
    "\n",
    "    # Accuracies\n",
    "    plt.subplot(2, 1, 2)\n",
    "    plt.plot(epochs, train_accuracies, label='Training Accuracy', color='green')\n",
    "    plt.plot(epochs, val_accuracies, label='Validation Accuracy', color='orange')\n",
    "    plt.xlabel('Epochs')\n",
    "    plt.ylabel('Accuracy')\n",
    "    plt.title('Training and Validation Accuracy')\n",
    "    plt.legend()\n",
    "\n",
    "    plt.tight_layout()\n",
    "    # Save the figure to a file\n",
    "    plt.savefig(\"trainplot.png\")  # You can change the file name and format (e.g., .png, .jpg, .pdf)\n",
    "\n",
    "    plt.show()\n",
    "\n",
    "\n",
    "if __name__ == \"__main__\":\n",
    "    device = setup_cuda()\n",
    "\n",
    "    # 1. Load the dataset\n",
    "    transform = transforms.Compose([Resize((224, 224)), ToTensor()])\n",
    "    train_dataset = ImageFolder(root='/kaggle/input/dataset-split/dataset_split/train', transform=transform)\n",
    "    val_dataset = ImageFolder(root='/kaggle/input/dataset-split/dataset_split/val', transform=transform)\n",
    "    # Get class names\n",
    "    class_names = train_dataset.classes\n",
    "\n",
    "    # 2. Create data loaders\n",
    "    train_loader = DataLoader(train_dataset, batch_size=32, shuffle=True)\n",
    "    val_loader = DataLoader(val_dataset, batch_size=32, shuffle=True)\n",
    "\n",
    "    # 3. Create a new deep model without pre-trained weights\n",
    "    # from utils.seresnet18 import ResNet18\n",
    "    model = ResNet18(\n",
    "        num_classes=len(class_names),\n",
    "    ).to(device)\n",
    "\n",
    "    # 4. Specify loss function and optimizer\n",
    "    optimizer = Adam(model.parameters(), lr=1e-4)\n",
    "    loss_fn = torch.nn.CrossEntropyLoss()\n",
    "\n",
    "    # 5. Train the model with 100 epochs\n",
    "    # store the metrics for plotting\n",
    "    train_losses, val_losses, train_accuracies, val_accuracies = [], [], [], []\n",
    "\n",
    "    max_acc = 0\n",
    "    for epoch in range(100):\n",
    "\n",
    "        # 5.1. Train the model over a single epoch\n",
    "        train_loss, train_acc = train_model()\n",
    "        train_losses.append(train_loss)     # save train loss values\n",
    "        train_accuracies.append(train_acc)  # save train acc values\n",
    "\n",
    "        # 5.2. Validate the model after training\n",
    "        val_loss, val_acc = validate_model()\n",
    "        val_losses.append(val_loss)         # save val loss values\n",
    "        val_accuracies.append(val_acc)      # save val acc values\n",
    "\n",
    "        print(f'Epoch {epoch}: Train loss = {train_loss}, Train accuracy: {train_acc}')\n",
    "        print(f'Epoch {epoch}: Validation loss = {val_loss}, Validation accuracy: {val_acc}')\n",
    "\n",
    "        # 4.3. Save the model if the validation accuracy is increasing\n",
    "        if val_acc > max_acc:\n",
    "            print(f'Validation accuracy increased ({max_acc} --> {val_acc}). Model saved')\n",
    "            folder_path = 'checkpoints_resnet18'  # Define the folder name\n",
    "            if not os.path.exists(folder_path):\n",
    "                os.makedirs(folder_path)  # Create the folder if it does not exist\n",
    "            file_path = os.path.join(folder_path,\n",
    "                                     'resnet18_epoch_' + str(epoch) + '_acc_{0:.4f}'.format(val_acc) + '.pt')\n",
    "            with open(file_path, 'wb') as f:\n",
    "                save(model.state_dict(), f)\n",
    "            max_acc = val_acc\n",
    "\n",
    "# After training is complete, plot the metrics\n",
    "plot_metrics(train_losses, val_losses, train_accuracies, val_accuracies)"
   ]
  },
  {
   "cell_type": "markdown",
   "id": "96de2cf5",
   "metadata": {
    "papermill": {
     "duration": 5.152829,
     "end_time": "2025-02-26T20:39:02.157195",
     "exception": false,
     "start_time": "2025-02-26T20:38:57.004366",
     "status": "completed"
    },
    "tags": []
   },
   "source": [
    "# Testing for Resnet18"
   ]
  },
  {
   "cell_type": "markdown",
   "id": "1246a640",
   "metadata": {
    "papermill": {
     "duration": 5.305274,
     "end_time": "2025-02-26T20:39:12.661718",
     "exception": false,
     "start_time": "2025-02-26T20:39:07.356444",
     "status": "completed"
    },
    "tags": []
   },
   "source": []
  },
  {
   "cell_type": "code",
   "execution_count": 3,
   "id": "c6fd088e",
   "metadata": {
    "execution": {
     "iopub.execute_input": "2025-02-26T20:39:22.895147Z",
     "iopub.status.busy": "2025-02-26T20:39:22.894367Z",
     "iopub.status.idle": "2025-02-26T20:39:22.902414Z",
     "shell.execute_reply": "2025-02-26T20:39:22.901762Z"
    },
    "papermill": {
     "duration": 5.215658,
     "end_time": "2025-02-26T20:39:22.903575",
     "exception": false,
     "start_time": "2025-02-26T20:39:17.687917",
     "status": "completed"
    },
    "tags": []
   },
   "outputs": [],
   "source": [
    "# import torch\n",
    "# from torch import nn, save, load\n",
    "# from tqdm import tqdm\n",
    "# from torch.optim import Adam\n",
    "# from torch.utils.data import DataLoader\n",
    "# from torchvision.datasets import ImageFolder\n",
    "# import torchvision.transforms as transforms\n",
    "# from torchmetrics.functional import accuracy\n",
    "# from torchvision.transforms import ToTensor, Resize\n",
    "# import numpy as np\n",
    "# import os\n",
    "# from PIL import Image\n",
    "# import matplotlib.pyplot as plt\n",
    "\n",
    "# # Thiết lập biến cần thiết\n",
    "# train_dir = '/kaggle/input/dataset-split/dataset_split/train'\n",
    "# test_dir = '/kaggle/input/dataset-split/dataset_split/test'\n",
    "# valid_dir = '/kaggle/input/dataset-split/dataset_split/val'\n",
    "# NUM_WORKERS = os.cpu_count()\n",
    "# BATCH_SIZE = 32\n",
    "# IMG_SIZE = 224\n",
    "# manual_transforms = transforms.Compose([\n",
    "#     transforms.Resize((IMG_SIZE, IMG_SIZE)),\n",
    "#     transforms.ToTensor(),\n",
    "# ])\n",
    "# patch_size = 16\n",
    "# CLASS = {} # KHONG CAN\n",
    "\n",
    "\n",
    "# # Thiết lập thiết bị (GPU hoặc CPU)\n",
    "# def setup_cuda():\n",
    "#     torch.backends.cudnn.enabled = True\n",
    "#     torch.backends.cudnn.benchmark = True\n",
    "#     device = torch.device('cuda:0' if torch.cuda.is_available() else 'cpu')\n",
    "#     return device\n",
    "\n",
    "\n",
    "# device = setup_cuda()\n",
    "\n",
    "# # Thiết lập các transform để xử lý ảnh\n",
    "# manual_transforms = transforms.Compose([\n",
    "#     transforms.Resize((IMG_SIZE, IMG_SIZE)),\n",
    "#     transforms.ToTensor(),\n",
    "# ])\n",
    "\n",
    "\n",
    "# # Hàm dự đoán kết quả cho một hình ảnh\n",
    "# def predict_image(image_path, model, transform, class_names, device):\n",
    "#     model.eval()\n",
    "#     img = Image.open(image_path).convert('RGB')\n",
    "#     img_tensor = transform(img).unsqueeze(0).to(device)\n",
    "#     with torch.no_grad():\n",
    "#         output = model(img_tensor)\n",
    "#         _, predicted_class = torch.max(output, 1)\n",
    "#     predicted_label = class_names[predicted_class.item()]\n",
    "#     return img, predicted_label\n",
    "\n",
    "\n",
    "# # Hàm chính để dự đoán các hình ảnh trong tập test\n",
    "# def test_model():\n",
    "#     # 1. Tải dữ liệu và lớp từ tập train\n",
    "#     transform = transforms.Compose([Resize((224, 224)), ToTensor()])\n",
    "#     train_dataset = ImageFolder(root='/kaggle/input/dataset-split/dataset_split/train', transform=transform)\n",
    "#     test_dataset = ImageFolder(root='/kaggle/input/dataset-split/dataset_split/test', transform=transform)\n",
    "#     # Get class names\n",
    "#     class_names = train_dataset.classes\n",
    "\n",
    "#     # 2. Tạo mô hình ViT và tải trạng thái từ checkpoint\n",
    "#     from utils.resnet18 import ResNet18\n",
    "\n",
    "#     model = ResNet18(\n",
    "#         num_classes=len(class_names),\n",
    "#     ).to(device)\n",
    "\n",
    "#     folder_checkpoint = 'checkpoints_resnet18'  # Define the folder name\n",
    "#     file_name = 'resnet18_epoch_92_acc_0.9652.pt' #best weight\n",
    "#     file_checkpoint = os.path.join(folder_checkpoint, file_name)  # lay best weight\n",
    "#     model.load_state_dict(torch.load(file_checkpoint, device))\n",
    "#     print('Model loaded from checkpoint.')\n",
    "#     # Ensure the output directory exists\n",
    "#     output_dir = \"output_resnet18\"\n",
    "#     os.makedirs(output_dir, exist_ok=True)\n",
    "\n",
    "#     # 3. Dự đoán kết quả cho mỗi hình ảnh trong tập test\n",
    "#     for image_path in tqdm(test_dataset.imgs, desc='Testing'):\n",
    "#         img, predicted_label = predict_image(image_path[0], model, manual_transforms, class_names, device)\n",
    "#         # plt.imshow(img)\n",
    "#         # plt.title(f'Predicted: {predicted_label}')\n",
    "#         # plt.show()\n",
    "\n",
    "#         # Convert the tensor image back to a PIL image if necessary\n",
    "#         if isinstance(img, torch.Tensor):\n",
    "#             img = transforms.ToPILImage()(img)\n",
    "\n",
    "#         # Create a plot\n",
    "#         fig, ax = plt.subplots()\n",
    "\n",
    "#         # Set white background\n",
    "#         fig.patch.set_facecolor('white')\n",
    "#         ax.set_facecolor('white')\n",
    "\n",
    "#         # Remove axis\n",
    "#         ax.axis('off')\n",
    "\n",
    "#         # Display the image\n",
    "#         ax.imshow(img)\n",
    "\n",
    "#         # Add the predicted label as the title\n",
    "#         ax.set_title(f'Predicted: {predicted_label}', fontsize=12, pad=10)\n",
    "\n",
    "#         # Save the figure\n",
    "#         image_basename = os.path.basename(image_path[0])\n",
    "#         image_name, image_ext = os.path.splitext(image_basename)\n",
    "#         output_image_path = os.path.join(output_dir, f\"{image_name}_pred_{predicted_label}.png\")\n",
    "\n",
    "#         plt.savefig(output_image_path, bbox_inches='tight', pad_inches=0.1)\n",
    "#         plt.close(fig)\n",
    "\n",
    "\n",
    "# if __name__ == '__main__':\n",
    "#     test_model()\n"
   ]
  },
  {
   "cell_type": "markdown",
   "id": "6b00217b",
   "metadata": {
    "papermill": {
     "duration": 5.366453,
     "end_time": "2025-02-26T20:39:33.351192",
     "exception": false,
     "start_time": "2025-02-26T20:39:27.984739",
     "status": "completed"
    },
    "tags": []
   },
   "source": [
    "# SEBLOCK"
   ]
  },
  {
   "cell_type": "code",
   "execution_count": 4,
   "id": "04c09b7d",
   "metadata": {
    "execution": {
     "iopub.execute_input": "2025-02-26T20:39:43.624386Z",
     "iopub.status.busy": "2025-02-26T20:39:43.623938Z",
     "iopub.status.idle": "2025-02-26T20:39:43.627970Z",
     "shell.execute_reply": "2025-02-26T20:39:43.627140Z"
    },
    "papermill": {
     "duration": 5.233029,
     "end_time": "2025-02-26T20:39:43.629328",
     "exception": false,
     "start_time": "2025-02-26T20:39:38.396299",
     "status": "completed"
    },
    "tags": []
   },
   "outputs": [],
   "source": [
    "# import torch.nn as nn\n",
    "\n",
    "# class SE_Block(nn.Module):\n",
    "#     def __init__(self, c, r=16):\n",
    "#         super(SE_Block, self).__init__()\n",
    "#         self.squeeze = nn.AdaptiveAvgPool2d(1)\n",
    "#         self.excitation = nn.Sequential(\n",
    "#             nn.Linear(c, c // r, bias=False),\n",
    "#             nn.ReLU(inplace=True),\n",
    "#             nn.Linear(c // r, c, bias=False),\n",
    "#             nn.Sigmoid()\n",
    "#         )\n",
    "\n",
    "#     def forward(self, x):\n",
    "#         bs, c, _, _ = x.size()\n",
    "#         y = self.squeeze(x).view(bs, c)\n",
    "#         y = self.excitation(y).view(bs, c, 1, 1)\n",
    "#         return x * y.expand_as(x)"
   ]
  },
  {
   "cell_type": "markdown",
   "id": "63f670f3",
   "metadata": {
    "papermill": {
     "duration": 5.066509,
     "end_time": "2025-02-26T20:39:53.912102",
     "exception": false,
     "start_time": "2025-02-26T20:39:48.845593",
     "status": "completed"
    },
    "tags": []
   },
   "source": [
    "# SEBLOCK + Resnet18"
   ]
  },
  {
   "cell_type": "code",
   "execution_count": 5,
   "id": "98656396",
   "metadata": {
    "execution": {
     "iopub.execute_input": "2025-02-26T20:40:04.278376Z",
     "iopub.status.busy": "2025-02-26T20:40:04.278079Z",
     "iopub.status.idle": "2025-02-26T20:40:04.285472Z",
     "shell.execute_reply": "2025-02-26T20:40:04.284652Z"
    },
    "papermill": {
     "duration": 5.155708,
     "end_time": "2025-02-26T20:40:04.286907",
     "exception": false,
     "start_time": "2025-02-26T20:39:59.131199",
     "status": "completed"
    },
    "tags": []
   },
   "outputs": [],
   "source": [
    "# import torch\n",
    "# import torch.nn as nn\n",
    "# import torch.nn.functional as F\n",
    "\n",
    "\n",
    "# class SEBlock(nn.Module):\n",
    "#     def __init__(self, input_channels, reduction_ratio=16):\n",
    "#         super(SEBlock, self).__init__()\n",
    "#         self.avg_pool = nn.AdaptiveAvgPool2d(1)\n",
    "#         self.fc1 = nn.Linear(input_channels, input_channels // reduction_ratio, bias=False)\n",
    "#         self.relu = nn.ReLU(inplace=True)\n",
    "#         self.fc2 = nn.Linear(input_channels // reduction_ratio, input_channels, bias=False)\n",
    "#         self.sigmoid = nn.Sigmoid()\n",
    "\n",
    "#     def forward(self, x):\n",
    "#         batch_size, channels, _, _ = x.size()\n",
    "#         y = self.avg_pool(x).view(batch_size, channels)\n",
    "#         y = self.fc1(y)\n",
    "#         y = self.relu(y)\n",
    "#         y = self.fc2(y)\n",
    "#         y = self.sigmoid(y).view(batch_size, channels, 1, 1)\n",
    "#         return x * y.expand_as(x)\n",
    "\n",
    "\n",
    "# class SEResNet18(nn.Module):\n",
    "#     def __init__(self, num_classes):\n",
    "#         super(SEResNet18, self).__init__()\n",
    "\n",
    "#         self.dropout_percentage = 0.5\n",
    "#         self.relu = nn.ReLU()\n",
    "\n",
    "#         # BLOCK-1 (starting block) input=(224x224) output=(56x56)\n",
    "#         self.conv1 = nn.Conv2d(in_channels=3, out_channels=64, kernel_size=(7, 7), stride=(2, 2), padding=(3, 3))\n",
    "#         self.batchnorm1 = nn.BatchNorm2d(64)\n",
    "#         self.maxpool1 = nn.MaxPool2d(kernel_size=(3, 3), stride=(2, 2), padding=(1, 1))\n",
    "\n",
    "#         # BLOCK-2 (1) input=(56x56) output = (56x56)\n",
    "#         self.conv2_1_1 = nn.Conv2d(in_channels=64, out_channels=64, kernel_size=(3, 3), stride=(1, 1), padding=(1, 1))\n",
    "#         self.batchnorm2_1_1 = nn.BatchNorm2d(64)\n",
    "#         self.conv2_1_2 = nn.Conv2d(in_channels=64, out_channels=64, kernel_size=(3, 3), stride=(1, 1), padding=(1, 1))\n",
    "#         self.batchnorm2_1_2 = nn.BatchNorm2d(64)\n",
    "#         self.dropout2_1 = nn.Dropout(p=self.dropout_percentage)\n",
    "#         self.se2_1 = SEBlock(64)\n",
    "\n",
    "#         # BLOCK-2 (2)\n",
    "#         self.conv2_2_1 = nn.Conv2d(in_channels=64, out_channels=64, kernel_size=(3, 3), stride=(1, 1), padding=(1, 1))\n",
    "#         self.batchnorm2_2_1 = nn.BatchNorm2d(64)\n",
    "#         self.conv2_2_2 = nn.Conv2d(in_channels=64, out_channels=64, kernel_size=(3, 3), stride=(1, 1), padding=(1, 1))\n",
    "#         self.batchnorm2_2_2 = nn.BatchNorm2d(64)\n",
    "#         self.dropout2_2 = nn.Dropout(p=self.dropout_percentage)\n",
    "#         self.se2_2 = SEBlock(64)\n",
    "\n",
    "#         # BLOCK-3 (1) input=(56x56) output = (28x28)\n",
    "#         self.conv3_1_1 = nn.Conv2d(in_channels=64, out_channels=128, kernel_size=(3, 3), stride=(2, 2), padding=(1, 1))\n",
    "#         self.batchnorm3_1_1 = nn.BatchNorm2d(128)\n",
    "#         self.conv3_1_2 = nn.Conv2d(in_channels=128, out_channels=128, kernel_size=(3, 3), stride=(1, 1), padding=(1, 1))\n",
    "#         self.batchnorm3_1_2 = nn.BatchNorm2d(128)\n",
    "#         self.concat_adjust_3 = nn.Conv2d(in_channels=64, out_channels=128, kernel_size=(1, 1), stride=(2, 2),\n",
    "#                                          padding=(0, 0))\n",
    "#         self.dropout3_1 = nn.Dropout(p=self.dropout_percentage)\n",
    "#         self.se3_1 = SEBlock(128)\n",
    "\n",
    "#         # BLOCK-3 (2)\n",
    "#         self.conv3_2_1 = nn.Conv2d(in_channels=128, out_channels=128, kernel_size=(3, 3), stride=(1, 1), padding=(1, 1))\n",
    "#         self.batchnorm3_2_1 = nn.BatchNorm2d(128)\n",
    "#         self.conv3_2_2 = nn.Conv2d(in_channels=128, out_channels=128, kernel_size=(3, 3), stride=(1, 1), padding=(1, 1))\n",
    "#         self.batchnorm3_2_2 = nn.BatchNorm2d(128)\n",
    "#         self.dropout3_2 = nn.Dropout(p=self.dropout_percentage)\n",
    "#         self.se3_2 = SEBlock(128)\n",
    "\n",
    "#         # BLOCK-4 (1) input=(28x28) output = (14x14)\n",
    "#         self.conv4_1_1 = nn.Conv2d(in_channels=128, out_channels=256, kernel_size=(3, 3), stride=(2, 2), padding=(1, 1))\n",
    "#         self.batchnorm4_1_1 = nn.BatchNorm2d(256)\n",
    "#         self.conv4_1_2 = nn.Conv2d(in_channels=256, out_channels=256, kernel_size=(3, 3), stride=(1, 1), padding=(1, 1))\n",
    "#         self.batchnorm4_1_2 = nn.BatchNorm2d(256)\n",
    "#         self.concat_adjust_4 = nn.Conv2d(in_channels=128, out_channels=256, kernel_size=(1, 1), stride=(2, 2),\n",
    "#                                          padding=(0, 0))\n",
    "#         self.dropout4_1 = nn.Dropout(p=self.dropout_percentage)\n",
    "#         self.se4_1 = SEBlock(256)\n",
    "\n",
    "#         # BLOCK-4 (2)\n",
    "#         self.conv4_2_1 = nn.Conv2d(in_channels=256, out_channels=256, kernel_size=(3, 3), stride=(1, 1), padding=(1, 1))\n",
    "#         self.batchnorm4_2_1 = nn.BatchNorm2d(256)\n",
    "#         self.conv4_2_2 = nn.Conv2d(in_channels=256, out_channels=256, kernel_size=(3, 3), stride=(1, 1), padding=(1, 1))\n",
    "#         self.batchnorm4_2_2 = nn.BatchNorm2d(256)\n",
    "#         self.dropout4_2 = nn.Dropout(p=self.dropout_percentage)\n",
    "#         self.se4_2 = SEBlock(256)\n",
    "\n",
    "#         # BLOCK-5 (1) input=(14x14) output = (7x7)\n",
    "#         self.conv5_1_1 = nn.Conv2d(in_channels=256, out_channels=512, kernel_size=(3, 3), stride=(2, 2), padding=(1, 1))\n",
    "#         self.batchnorm5_1_1 = nn.BatchNorm2d(512)\n",
    "#         self.conv5_1_2 = nn.Conv2d(in_channels=512, out_channels=512, kernel_size=(3, 3), stride=(1, 1), padding=(1, 1))\n",
    "#         self.batchnorm5_1_2 = nn.BatchNorm2d(512)\n",
    "#         self.concat_adjust_5 = nn.Conv2d(in_channels=256, out_channels=512, kernel_size=(1, 1), stride=(2, 2),\n",
    "#                                          padding=(0, 0))\n",
    "#         self.dropout5_1 = nn.Dropout(p=self.dropout_percentage)\n",
    "#         self.se5_1 = SEBlock(512)\n",
    "\n",
    "#         # BLOCK-5 (2)\n",
    "#         self.conv5_2_1 = nn.Conv2d(in_channels=512, out_channels=512, kernel_size=(3, 3), stride=(1, 1), padding=(1, 1))\n",
    "#         self.batchnorm5_2_1 = nn.BatchNorm2d(512)\n",
    "#         self.conv5_2_2 = nn.Conv2d(in_channels=512, out_channels=512, kernel_size=(3, 3), stride=(1, 1), padding=(1, 1))\n",
    "#         self.batchnorm5_2_2 = nn.BatchNorm2d(512)\n",
    "#         self.dropout5_2 = nn.Dropout(p=self.dropout_percentage)\n",
    "#         self.se5_2 = SEBlock(512)\n",
    "\n",
    "#         # Final Block input=(7x7)\n",
    "#         self.avgpool = nn.AvgPool2d(kernel_size=(7, 7), stride=(1, 1))\n",
    "#         self.fc = nn.Linear(in_features=1 * 1 * 512, out_features=1000)\n",
    "#         self.out = nn.Linear(in_features=1000, out_features=num_classes)\n",
    "#         # END\n",
    "\n",
    "#     def forward(self, x):\n",
    "#         # block 1 --> Starting block\n",
    "#         x = self.relu(self.batchnorm1(self.conv1(x)))\n",
    "#         op1 = self.maxpool1(x)\n",
    "\n",
    "#         # block2 - 1\n",
    "#         x = self.relu(self.batchnorm2_1_1(self.conv2_1_1(op1)))  # conv2_1\n",
    "#         x = self.batchnorm2_1_2(self.conv2_1_2(x))  # conv2_1\n",
    "#         x = self.dropout2_1(x)\n",
    "#         x = self.se2_1(x)\n",
    "#         # block2 - Adjust - No adjust in this layer as dimensions are already same\n",
    "#         # block2 - Concatenate 1\n",
    "#         op2_1 = self.relu(x + op1)\n",
    "#         # block2 - 2\n",
    "#         x = self.relu(self.batchnorm2_2_1(self.conv2_2_1(op2_1)))  # conv2_2\n",
    "#         x = self.batchnorm2_2_2(self.conv2_2_2(x))  # conv2_2\n",
    "#         x = self.dropout2_2(x)\n",
    "#         x = self.se2_2(x)\n",
    "#         # op - block2\n",
    "#         op2 = self.relu(x + op2_1)\n",
    "\n",
    "#         # block3 - 1[Convolution block]\n",
    "#         x = self.relu(self.batchnorm3_1_1(self.conv3_1_1(op2)))  # conv3_1\n",
    "#         x = self.batchnorm3_1_2(self.conv3_1_2(x))  # conv3_1\n",
    "#         x = self.dropout3_1(x)\n",
    "#         x = self.se3_1(x)\n",
    "#         # block3 - Adjust\n",
    "#         op2 = self.concat_adjust_3(op2)  # SKIP CONNECTION\n",
    "#         # block3 - Concatenate 1\n",
    "#         op3_1 = self.relu(x + op2)\n",
    "#         # block3 - 2[Identity Block]\n",
    "#         x = self.relu(self.batchnorm3_2_1(self.conv3_2_1(op3_1)))  # conv3_2\n",
    "#         x = self.batchnorm3_2_2(self.conv3_2_2(x))  # conv3_2\n",
    "#         x = self.dropout3_2(x)\n",
    "#         x = self.se3_2(x)\n",
    "#         # op - block3\n",
    "#         op3 = self.relu(x + op3_1)\n",
    "\n",
    "#         # block4 - 1[Convolition block]\n",
    "#         x = self.relu(self.batchnorm4_1_1(self.conv4_1_1(op3)))  # conv4_1\n",
    "#         x = self.batchnorm4_1_2(self.conv4_1_2(x))  # conv4_1\n",
    "#         x = self.dropout4_1(x)\n",
    "#         x = self.se4_1(x)\n",
    "#         # block4 - Adjust\n",
    "#         op3 = self.concat_adjust_4(op3)  # SKIP CONNECTION\n",
    "#         # block4 - Concatenate 1\n",
    "#         op4_1 = self.relu(x + op3)\n",
    "#         # block4 - 2[Identity Block]\n",
    "#         x = self.relu(self.batchnorm4_2_1(self.conv4_2_1(op4_1)))  # conv4_2\n",
    "#         x = self.batchnorm4_2_2(self.conv4_2_2(x))  # conv4_2\n",
    "#         x = self.dropout4_2(x)\n",
    "#         x = self.se4_2(x)\n",
    "#         # op - block4\n",
    "#         op4 = self.relu(x + op4_1)\n",
    "\n",
    "#         # block5 - 1[Convolution Block]\n",
    "#         x = self.relu(self.batchnorm5_1_1(self.conv5_1_1(op4)))  # conv5_1\n",
    "#         x = self.batchnorm5_1_2(self.conv5_1_2(x))  # conv5_1\n",
    "#         x = self.dropout5_1(x)\n",
    "#         x = self.se5_1(x)\n",
    "#         # block5 - Adjust\n",
    "#         op4 = self.concat_adjust_5(op4)  # SKIP CONNECTION\n",
    "#         # block5 - Concatenate 1\n",
    "#         op5_1 = self.relu(x + op4)\n",
    "#         # block5 - 2[Identity Block]\n",
    "#         x = self.relu(self.batchnorm5_2_1(self.conv5_2_1(op5_1)))  # conv5_2\n",
    "#         x = self.batchnorm5_2_2(self.conv5_2_1(x))  # conv5_2\n",
    "#         x = self.dropout5_2(x)\n",
    "#         x = self.se5_2(x)\n",
    "#         # op - block5\n",
    "#         op5 = self.relu(x + op5_1)\n",
    "\n",
    "#         # FINAL BLOCK - classifier\n",
    "#         x = self.avgpool(op5)\n",
    "#         x = x.reshape(x.shape[0], -1)\n",
    "#         x = self.relu(self.fc(x))\n",
    "#         x = self.out(x)\n",
    "\n",
    "#         return x\n"
   ]
  },
  {
   "cell_type": "markdown",
   "id": "8d4c88df",
   "metadata": {
    "papermill": {
     "duration": 5.049846,
     "end_time": "2025-02-26T20:40:14.564548",
     "exception": false,
     "start_time": "2025-02-26T20:40:09.514702",
     "status": "completed"
    },
    "tags": []
   },
   "source": [
    "# Train SEBLock"
   ]
  },
  {
   "cell_type": "code",
   "execution_count": 6,
   "id": "cf337ec8",
   "metadata": {
    "execution": {
     "iopub.execute_input": "2025-02-26T20:40:24.774894Z",
     "iopub.status.busy": "2025-02-26T20:40:24.774548Z",
     "iopub.status.idle": "2025-02-26T20:40:24.779825Z",
     "shell.execute_reply": "2025-02-26T20:40:24.778957Z"
    },
    "papermill": {
     "duration": 5.028787,
     "end_time": "2025-02-26T20:40:24.781018",
     "exception": false,
     "start_time": "2025-02-26T20:40:19.752231",
     "status": "completed"
    },
    "tags": []
   },
   "outputs": [],
   "source": [
    "# \"\"\"\n",
    "# Thanh Le  16 April 2024\n",
    "# How to train/fine-tune a pre-trained model on a custom dataset (i.e., transfer learning)\n",
    "# \"\"\"\n",
    "# import torch\n",
    "# from torch import nn, save, load\n",
    "# from tqdm import tqdm\n",
    "# from torch.optim import Adam\n",
    "# from torch.utils.data import DataLoader\n",
    "# from torchvision.datasets import ImageFolder\n",
    "# import torchvision.transforms as transforms\n",
    "# from torchmetrics.functional import accuracy\n",
    "# from torchvision.transforms import ToTensor, Resize\n",
    "# import numpy as np\n",
    "# import os\n",
    "# import matplotlib.pyplot as plt\n",
    "\n",
    "# # Setup CUDA\n",
    "# def setup_cuda():\n",
    "#     # Setting seeds for reproducibility\n",
    "#     seed = 50\n",
    "#     torch.backends.cudnn.enabled = True\n",
    "#     torch.backends.cudnn.benchmark = True\n",
    "#     np.random.seed(seed)\n",
    "#     torch.manual_seed(seed)\n",
    "#     if torch.cuda.is_available():\n",
    "#         torch.cuda.manual_seed(seed)\n",
    "\n",
    "#     return torch.device('cuda:0' if torch.cuda.is_available() else 'cpu')\n",
    "\n",
    "\n",
    "# def train_model():\n",
    "#     \"\"\"\n",
    "#     Train the model over a single epoch\n",
    "#     :return: training loss and training accuracy\n",
    "#     \"\"\"\n",
    "#     train_loss = 0.0\n",
    "#     train_acc = 0.0\n",
    "#     model.train()\n",
    "\n",
    "#     for (img, label) in tqdm(train_loader, ncols=80, desc='Training'):\n",
    "#         # Get a batch\n",
    "#         img, label = img.to(device, dtype=torch.float), label.to(device, dtype=torch.long)\n",
    "\n",
    "#         # Set the gradients to zero before starting backpropagation\n",
    "#         optimizer.zero_grad()\n",
    "\n",
    "#         # Perform a feed-forward pass\n",
    "#         logits = model(img)\n",
    "\n",
    "#         # Compute the batch loss\n",
    "#         loss = loss_fn(logits, label)\n",
    "\n",
    "#         # Compute gradient of the loss fn w.r.t the trainable weights\n",
    "#         loss.backward()\n",
    "\n",
    "#         # Update the trainable weights\n",
    "#         optimizer.step()\n",
    "\n",
    "#         # Accumulate the batch loss\n",
    "#         train_loss += loss.item()\n",
    "\n",
    "#         # Get the predictions to calculate the accuracy for every iteration. Remember to accumulate the accuracy\n",
    "#         prediction = logits.argmax(axis=1)\n",
    "#         train_acc += accuracy(prediction, label, task='multiclass', average='macro', num_classes=len(class_names)).item()\n",
    "\n",
    "#     return train_loss / len(train_loader), train_acc / len(train_loader)\n",
    "\n",
    "\n",
    "# def validate_model():\n",
    "#     \"\"\"\n",
    "#     Validate the model over a single epoch\n",
    "#     :return: validation loss and validation accuracy\n",
    "#     \"\"\"\n",
    "#     model.eval()\n",
    "#     valid_loss = 0.0\n",
    "#     val_acc = 0.0\n",
    "\n",
    "#     with torch.no_grad():\n",
    "#         for (img, label) in tqdm(val_loader, ncols=80, desc='Valid'):\n",
    "#             # Get a batch\n",
    "#             img, label = img.to(device, dtype=torch.float), label.to(device, dtype=torch.long)\n",
    "\n",
    "#             # Perform a feed-forward pass\n",
    "#             logits = model(img)\n",
    "\n",
    "#             # Compute the batch loss\n",
    "#             loss = loss_fn(logits, label)\n",
    "\n",
    "#             # Accumulate the batch loss\n",
    "#             valid_loss += loss.item()\n",
    "\n",
    "#             # Get the predictions to calculate the accuracy for every iteration. Remember to accumulate the accuracy\n",
    "#             prediction = logits.argmax(axis=1)\n",
    "#             val_acc += accuracy(prediction, label, task='multiclass', average='macro', num_classes=len(class_names)).item()\n",
    "\n",
    "#     return valid_loss / len(val_loader), val_acc / len(val_loader)\n",
    "\n",
    "# # Example plotting function\n",
    "\n",
    "# def plot_metrics(train_losses, val_losses, train_accuracies, val_accuracies):\n",
    "#     epochs = range(1, len(train_losses) + 1)\n",
    "#     # Losses\n",
    "#     plt.figure(figsize=(15, 7))\n",
    "#     plt.subplot(2, 1, 1)\n",
    "#     plt.plot(epochs, train_losses, label='Training Loss', color='blue')\n",
    "#     plt.plot(epochs, val_losses, label='Validation Loss', color='red')\n",
    "#     plt.xlabel('Epochs')\n",
    "#     plt.ylabel('Loss')\n",
    "#     plt.title('Training and Validation Loss')\n",
    "#     plt.legend()\n",
    "#     plt.yscale('log')  # Log scale can help for loss curves with large values\n",
    "\n",
    "#     # Accuracies\n",
    "#     plt.subplot(2, 1, 2)\n",
    "#     plt.plot(epochs, train_accuracies, label='Training Accuracy', color='green')\n",
    "#     plt.plot(epochs, val_accuracies, label='Validation Accuracy', color='orange')\n",
    "#     plt.xlabel('Epochs')\n",
    "#     plt.ylabel('Accuracy')\n",
    "#     plt.title('Training and Validation Accuracy')\n",
    "#     plt.legend()\n",
    "\n",
    "#     plt.tight_layout()\n",
    "#     # Save the figure to a file\n",
    "#     plt.savefig(\"trainplot.png\")  # You can change the file name and format (e.g., .png, .jpg, .pdf)\n",
    "\n",
    "#     plt.show()\n",
    "\n",
    "# if __name__ == \"__main__\":\n",
    "#     device = setup_cuda()\n",
    "\n",
    "#     # 1. Load the dataset\n",
    "#     transform = transforms.Compose([Resize((224, 224)), ToTensor()])\n",
    "#     train_dataset = ImageFolder(root='/kaggle/input/dataset-split/dataset_split/train', transform=transform)\n",
    "#     val_dataset = ImageFolder(root='/kaggle/input/dataset-split/dataset_split/val', transform=transform)\n",
    "#     # Get class names\n",
    "#     class_names = train_dataset.classes\n",
    "\n",
    "#     # 2. Create data loaders\n",
    "#     train_loader = DataLoader(train_dataset, batch_size=32, shuffle=True)\n",
    "#     val_loader = DataLoader(val_dataset, batch_size=32, shuffle=True)\n",
    "\n",
    "#     # 3. Create a new deep model without pre-trained weights\n",
    "#     # from utils.seresnet18 import SEResNet18\n",
    "\n",
    "#     model = SEResNet18(\n",
    "#         num_classes=len(class_names),\n",
    "#     ).to(device)\n",
    "\n",
    "#     # 4. Specify loss function and optimizer\n",
    "#     optimizer = Adam(model.parameters(), lr=1e-4)\n",
    "#     loss_fn = torch.nn.CrossEntropyLoss()\n",
    "\n",
    "#     # 5. Train the model with 100 epochs\n",
    "#     # store the metrics for plotting\n",
    "#     train_losses, val_losses, train_accuracies, val_accuracies = [], [], [], []\n",
    "\n",
    "#     max_acc = 0\n",
    "#     for epoch in range(100):\n",
    "\n",
    "#         # 5.1. Train the model over a single epoch\n",
    "#         train_loss, train_acc = train_model()\n",
    "#         train_losses.append(train_loss)  # save train loss values\n",
    "#         train_accuracies.append(train_acc)  # save train acc values\n",
    "\n",
    "#         # 5.2. Validate the model after training\n",
    "#         val_loss, val_acc = validate_model()\n",
    "#         val_losses.append(val_loss)  # save val loss values\n",
    "#         val_accuracies.append(val_acc)  # save val acc values\n",
    "\n",
    "#         print(f'Epoch {epoch}: Train loss = {train_loss}, Train accuracy: {train_acc}')\n",
    "#         print(f'Epoch {epoch}: Validation loss = {val_loss}, Validation accuracy: {val_acc}')\n",
    "\n",
    "#         # 4.3. Save the model if the validation accuracy is increasing\n",
    "#         if val_acc > max_acc:\n",
    "#             print(f'Validation accuracy increased ({max_acc} --> {val_acc}). Model saved')\n",
    "#             folder_path = 'checkpoints_se_resnet18'  # Define the folder name\n",
    "#             if not os.path.exists(folder_path):\n",
    "#                 os.makedirs(folder_path)  # Create the folder if it does not exist\n",
    "#             file_path = os.path.join(folder_path,\n",
    "#                                      'se_resnet18_epoch_' + str(epoch) + '_acc_{0:.4f}'.format(val_acc) + '.pt')\n",
    "#             with open(file_path, 'wb') as f:\n",
    "#                 save(model.state_dict(), f)\n",
    "#             max_acc = val_acc\n",
    "# # After training is complete, plot the metrics\n",
    "# plot_metrics(train_losses, val_losses, train_accuracies, val_accuracies)"
   ]
  },
  {
   "cell_type": "markdown",
   "id": "665aa25b",
   "metadata": {
    "papermill": {
     "duration": 5.011736,
     "end_time": "2025-02-26T20:40:34.992464",
     "exception": false,
     "start_time": "2025-02-26T20:40:29.980728",
     "status": "completed"
    },
    "tags": []
   },
   "source": [
    "# Testing SEResnet18"
   ]
  },
  {
   "cell_type": "code",
   "execution_count": 7,
   "id": "42a19144",
   "metadata": {
    "execution": {
     "iopub.execute_input": "2025-02-26T20:40:45.355106Z",
     "iopub.status.busy": "2025-02-26T20:40:45.354818Z",
     "iopub.status.idle": "2025-02-26T20:40:45.359105Z",
     "shell.execute_reply": "2025-02-26T20:40:45.358414Z"
    },
    "papermill": {
     "duration": 5.056022,
     "end_time": "2025-02-26T20:40:45.360361",
     "exception": false,
     "start_time": "2025-02-26T20:40:40.304339",
     "status": "completed"
    },
    "tags": []
   },
   "outputs": [],
   "source": [
    "# import torch\n",
    "# from torch import nn, save, load\n",
    "# from tqdm import tqdm\n",
    "# from torch.optim import Adam\n",
    "# from torch.utils.data import DataLoader\n",
    "# from torchvision.datasets import ImageFolder\n",
    "# import torchvision.transforms as transforms\n",
    "# from torchmetrics.functional import accuracy\n",
    "# from torchvision.transforms import ToTensor, Resize\n",
    "# import numpy as np\n",
    "# import os\n",
    "# from PIL import Image\n",
    "# import matplotlib.pyplot as plt\n",
    "\n",
    "# # Thiết lập biến cần thiết\n",
    "# train_dir = '/kaggle/input/playcards/train'\n",
    "# test_dir = '/kaggle/input/playcards/test'\n",
    "# valid_dir = '/kaggle/input/playcards/valid'\n",
    "# NUM_WORKERS = os.cpu_count()\n",
    "# BATCH_SIZE = 32\n",
    "# IMG_SIZE = 224\n",
    "# manual_transforms = transforms.Compose([\n",
    "#     transforms.Resize((IMG_SIZE, IMG_SIZE)),\n",
    "#     transforms.ToTensor(),\n",
    "# ])\n",
    "# patch_size = 16\n",
    "# CLASS = {} # KHONG CAN DIEN CHI TIET\n",
    "\n",
    "\n",
    "# # Thiết lập thiết bị (GPU hoặc CPU)\n",
    "# def setup_cuda():\n",
    "#     torch.backends.cudnn.enabled = True\n",
    "#     torch.backends.cudnn.benchmark = True\n",
    "#     device = torch.device('cuda:0' if torch.cuda.is_available() else 'cpu')\n",
    "#     return device\n",
    "\n",
    "\n",
    "# device = setup_cuda()\n",
    "\n",
    "# # Thiết lập các transform để xử lý ảnh\n",
    "# manual_transforms = transforms.Compose([\n",
    "#     transforms.Resize((IMG_SIZE, IMG_SIZE)),\n",
    "#     transforms.ToTensor(),\n",
    "# ])\n",
    "\n",
    "\n",
    "# # Hàm dự đoán kết quả cho một hình ảnh\n",
    "# def predict_image(image_path, model, transform, class_names, device):\n",
    "#     model.eval()\n",
    "#     img = Image.open(image_path).convert('RGB')\n",
    "#     img_tensor = transform(img).unsqueeze(0).to(device)\n",
    "#     with torch.no_grad():\n",
    "#         output = model(img_tensor)\n",
    "#         _, predicted_class = torch.max(output, 1)\n",
    "#     predicted_label = class_names[predicted_class.item()]\n",
    "#     return img, predicted_label\n",
    "\n",
    "\n",
    "# # Hàm chính để dự đoán các hình ảnh trong tập test\n",
    "# def test_model():\n",
    "#     # 1. Tải dữ liệu và lớp từ tập train\n",
    "#     transform = transforms.Compose([Resize((224, 224)), ToTensor()])\n",
    "#     train_dataset = ImageFolder(root='/kaggle/input/dataset-split/dataset_split/train', transform=transform)\n",
    "#     test_dataset = ImageFolder(root='/kaggle/input/dataset-split/dataset_split/test', transform=transform)\n",
    "#     # Get class names\n",
    "#     class_names = train_dataset.classes\n",
    "\n",
    "#     # 2. Tạo mô hình ViT và tải trạng thái từ checkpoint\n",
    "#     from utils.resnet18 import ResNet18\n",
    "\n",
    "#     model = ResNet18(\n",
    "#         num_classes=len(class_names),\n",
    "#     ).to(device)\n",
    "\n",
    "#     folder_checkpoint = 'checkpoints_se_resnet18'  # Define the folder name\n",
    "#     file_name = 'se_resnet18_epoch_7_acc_0.8208.pt' #best weight\n",
    "#     file_checkpoint = os.path.join(folder_checkpoint, file_name)  # lay best weight\n",
    "#     model.load_state_dict(torch.load(file_checkpoint, device))\n",
    "#     print('Model loaded from checkpoint.')\n",
    "#     # Ensure the output directory exists\n",
    "#     output_dir = \"output_resnet18\"\n",
    "#     os.makedirs(output_dir, exist_ok=True)\n",
    "\n",
    "#     # 3. Dự đoán kết quả cho mỗi hình ảnh trong tập test\n",
    "#     for image_path in tqdm(test_dataset.imgs, desc='Testing'):\n",
    "#         img, predicted_label = predict_image(image_path[0], model, manual_transforms, class_names, device)\n",
    "#         # plt.imshow(img)\n",
    "#         # plt.title(f'Predicted: {predicted_label}')\n",
    "#         # plt.show()\n",
    "\n",
    "#         # Convert the tensor image back to a PIL image if necessary\n",
    "#         if isinstance(img, torch.Tensor):\n",
    "#             img = transforms.ToPILImage()(img)\n",
    "\n",
    "#         # Create a plot\n",
    "#         fig, ax = plt.subplots()\n",
    "\n",
    "#         # Set white background\n",
    "#         fig.patch.set_facecolor('white')\n",
    "#         ax.set_facecolor('white')\n",
    "\n",
    "#         # Remove axis\n",
    "#         ax.axis('off')\n",
    "\n",
    "#         # Display the image\n",
    "#         ax.imshow(img)\n",
    "\n",
    "#         # Add the predicted label as the title\n",
    "#         ax.set_title(f'Predicted: {predicted_label}', fontsize=12, pad=10)\n",
    "\n",
    "#         # Save the figure\n",
    "#         image_basename = os.path.basename(image_path[0])\n",
    "#         image_name, image_ext = os.path.splitext(image_basename)\n",
    "#         output_image_path = os.path.join(output_dir, f\"{image_name}_pred_{predicted_label}.png\")\n",
    "\n",
    "#         plt.savefig(output_image_path, bbox_inches='tight', pad_inches=0.1)\n",
    "#         plt.close(fig)\n",
    "\n",
    "\n",
    "# if __name__ == '__main__':\n",
    "#     test_model()\n"
   ]
  }
 ],
 "metadata": {
  "kaggle": {
   "accelerator": "nvidiaTeslaT4",
   "dataSources": [
    {
     "datasetId": 6740707,
     "sourceId": 10852843,
     "sourceType": "datasetVersion"
    }
   ],
   "dockerImageVersionId": 30919,
   "isGpuEnabled": true,
   "isInternetEnabled": true,
   "language": "python",
   "sourceType": "notebook"
  },
  "kernelspec": {
   "display_name": "Python 3",
   "language": "python",
   "name": "python3"
  },
  "language_info": {
   "codemirror_mode": {
    "name": "ipython",
    "version": 3
   },
   "file_extension": ".py",
   "mimetype": "text/x-python",
   "name": "python",
   "nbconvert_exporter": "python",
   "pygments_lexer": "ipython3",
   "version": "3.10.12"
  },
  "papermill": {
   "default_parameters": {},
   "duration": 28847.841663,
   "end_time": "2025-02-26T20:40:52.499741",
   "environment_variables": {},
   "exception": null,
   "input_path": "__notebook__.ipynb",
   "output_path": "__notebook__.ipynb",
   "parameters": {},
   "start_time": "2025-02-26T12:40:04.658078",
   "version": "2.6.0"
  }
 },
 "nbformat": 4,
 "nbformat_minor": 5
}
